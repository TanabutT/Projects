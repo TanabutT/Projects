{
 "cells": [
  {
   "cell_type": "markdown",
   "metadata": {
    "application/vnd.databricks.v1+cell": {
     "cellMetadata": {},
     "inputWidgets": {},
     "nuid": "6c68d077-0fa0-4004-9738-7e94723e87a4",
     "showTitle": false,
     "title": ""
    }
   },
   "source": [
    "<h1>Homework 4 : MovieLens 100K Dataset</h1>"
   ]
  },
  {
   "cell_type": "markdown",
   "metadata": {
    "application/vnd.databricks.v1+cell": {
     "cellMetadata": {},
     "inputWidgets": {},
     "nuid": "ae1bb4f8-1482-434f-85ed-0e647e87d762",
     "showTitle": false,
     "title": ""
    }
   },
   "source": [
    "<h3 style=\"color:red;\">หมายเหตุ กำหนดการแสดงข้อมูลในแต่ละตารางเป็นจำนวน 10 rows ไว้ ( คำสั่ง .head(10) )</h3>"
   ]
  },
  {
   "cell_type": "markdown",
   "metadata": {
    "application/vnd.databricks.v1+cell": {
     "cellMetadata": {},
     "inputWidgets": {},
     "nuid": "de884d5a-d964-4df2-8bb3-22460b296fcf",
     "showTitle": false,
     "title": ""
    }
   },
   "source": [
    "<h3>1. หน้าตาของ Users/Ratings/Movies เป็นอย่างไร</h3>"
   ]
  },
  {
   "cell_type": "code",
   "execution_count": 0,
   "metadata": {
    "application/vnd.databricks.v1+cell": {
     "cellMetadata": {},
     "inputWidgets": {},
     "nuid": "8245462f-19bd-457b-891a-c276b2c49152",
     "showTitle": false,
     "title": ""
    }
   },
   "outputs": [],
   "source": [
    "import pandas as pd"
   ]
  },
  {
   "cell_type": "markdown",
   "metadata": {
    "application/vnd.databricks.v1+cell": {
     "cellMetadata": {},
     "inputWidgets": {},
     "nuid": "94bdb922-aace-493a-a3a0-1312770cc967",
     "showTitle": false,
     "title": ""
    }
   },
   "source": [
    "<h2>Users Table</h2>"
   ]
  },
  {
   "cell_type": "code",
   "execution_count": 0,
   "metadata": {
    "application/vnd.databricks.v1+cell": {
     "cellMetadata": {},
     "inputWidgets": {},
     "nuid": "70757e3e-55fd-4b03-860c-33c520f81291",
     "showTitle": false,
     "title": ""
    },
    "scrolled": false
   },
   "outputs": [],
   "source": [
    "column_Users = ['userId','age','gender','occupation','zipcode']\n",
    "Users = pd.read_csv('ml-100k/u.user', delimiter = '|', header = None)\n",
    "Users.columns = column_Users\n",
    "Users.head(10)"
   ]
  },
  {
   "cell_type": "code",
   "execution_count": 0,
   "metadata": {
    "application/vnd.databricks.v1+cell": {
     "cellMetadata": {},
     "inputWidgets": {},
     "nuid": "bad4c8d5-ecfb-45a0-9477-ffed310689e8",
     "showTitle": false,
     "title": ""
    }
   },
   "outputs": [],
   "source": [
    "print(Users.info())\n",
    "print('\\n')\n",
    "print(Users.describe())\n",
    "print('\\n')\n",
    "print(Users.isna().any())\n",
    "print('\\n')\n",
    "import matplotlib.pyplot as plt\n",
    "%matplotlib inline\n",
    "import seaborn as sns\n",
    "\n",
    "sns.violinplot(x = 'age', orient = 'v',  data = Users)"
   ]
  },
  {
   "cell_type": "markdown",
   "metadata": {
    "application/vnd.databricks.v1+cell": {
     "cellMetadata": {},
     "inputWidgets": {},
     "nuid": "92d08f16-66dd-4558-8f5d-5c2cbece437e",
     "showTitle": false,
     "title": ""
    }
   },
   "source": [
    "# Movies Table"
   ]
  },
  {
   "cell_type": "code",
   "execution_count": 0,
   "metadata": {
    "application/vnd.databricks.v1+cell": {
     "cellMetadata": {},
     "inputWidgets": {},
     "nuid": "bdd38b79-7152-4551-9a30-dcc83b7d0fc5",
     "showTitle": false,
     "title": ""
    },
    "scrolled": true
   },
   "outputs": [],
   "source": [
    "column_Movies = ['movieId','movieTitle','releaseDate', 'videoReleaseDate', 'IMDbURL','unknown', 'Action',\n",
    "                 'Adventure','Animation','Childrens','Comedy','Crime','Documentary', 'Drama', 'Fantasy',\n",
    "                 'Film-Noir','Horror','Musical', 'Mystery', 'Romance','Sci-Fi','Thriller','War','Western']\n",
    "\n",
    "#จำเป็นต้องใช้ encoding option ในการเปิด csv โดยให้ตั้งค่าเป็น encoding = \"ISO-8859-1\"\n",
    "#และอาจต้องระบุ engine='python' ด้วย\n",
    "Movies = pd.read_csv('ml-100k/u.item', engine = 'python', encoding=\"iso-8859-1\", sep='|', header = None)\n",
    "Movies.columns = column_Movies\n",
    "Movies.head(10)"
   ]
  },
  {
   "cell_type": "code",
   "execution_count": 0,
   "metadata": {
    "application/vnd.databricks.v1+cell": {
     "cellMetadata": {},
     "inputWidgets": {},
     "nuid": "ed830945-09fb-4e05-93b9-d15b4d65ef7e",
     "showTitle": false,
     "title": ""
    }
   },
   "outputs": [],
   "source": [
    "print(Movies.info())\n",
    "print('\\n')\n",
    "\n",
    "print(Movies.isna().any())\n",
    "print('\\n')\n",
    "Movies.isna().sum()"
   ]
  },
  {
   "cell_type": "code",
   "execution_count": 0,
   "metadata": {
    "application/vnd.databricks.v1+cell": {
     "cellMetadata": {},
     "inputWidgets": {},
     "nuid": "b3e22ec3-b910-4a09-b976-d23013e0f1f8",
     "showTitle": false,
     "title": ""
    }
   },
   "outputs": [],
   "source": [
    "Movies[Movies.IMDbURL.isna()]"
   ]
  },
  {
   "cell_type": "code",
   "execution_count": 0,
   "metadata": {
    "application/vnd.databricks.v1+cell": {
     "cellMetadata": {},
     "inputWidgets": {},
     "nuid": "d85d5cde-5a6f-4182-a463-eb9c31db26f9",
     "showTitle": false,
     "title": ""
    }
   },
   "outputs": [],
   "source": [
    "Movies[Movies.releaseDate.isna()]"
   ]
  },
  {
   "cell_type": "markdown",
   "metadata": {
    "application/vnd.databricks.v1+cell": {
     "cellMetadata": {},
     "inputWidgets": {},
     "nuid": "ace93d8f-c930-4537-9ec2-5c375fd5b107",
     "showTitle": false,
     "title": ""
    }
   },
   "source": [
    "## จาก Movies Table  มี missing data in column:    <!--ddd-->\n",
    "---\n",
    "* releaseDate 1 item,  \n",
    "* videoReleaseDate 1683 items(missing all column),  \n",
    "* IMDbURL 3 items.  \n",
    "***\n",
    "releaseDate use .drop these rows  \n",
    "videoReleaseDate .drop whole column  \n",
    "IMDbURL might have to .drop these rows"
   ]
  },
  {
   "cell_type": "markdown",
   "metadata": {
    "application/vnd.databricks.v1+cell": {
     "cellMetadata": {},
     "inputWidgets": {},
     "nuid": "d6928498-08f4-4fae-8c91-4c27e1492336",
     "showTitle": false,
     "title": ""
    }
   },
   "source": [
    "~~**Grave accent (~) ~~use alt+0126 to type**~~\n",
    "``` python\n",
    "print(\"Hello World\")\n",
    "```"
   ]
  },
  {
   "cell_type": "markdown",
   "metadata": {
    "application/vnd.databricks.v1+cell": {
     "cellMetadata": {},
     "inputWidgets": {},
     "nuid": "1e20de9b-cbcb-403b-88a0-e1d88cd1de46",
     "showTitle": false,
     "title": ""
    }
   },
   "source": [
    "<h2>Ratings Table</h2>"
   ]
  },
  {
   "cell_type": "code",
   "execution_count": 0,
   "metadata": {
    "application/vnd.databricks.v1+cell": {
     "cellMetadata": {},
     "inputWidgets": {},
     "nuid": "529e1d9a-9f6d-40f1-8732-6e6ee8b1406e",
     "showTitle": false,
     "title": ""
    },
    "scrolled": true
   },
   "outputs": [],
   "source": [
    "column_Ratings = [ 'userId', 'movieId', 'rating', 'timestamp']\n",
    "Ratings = pd.read_csv('ml-100k/u.data', header = None , delim_whitespace= True )  #same as  sep = '\\s+'\n",
    "Ratings.columns = column_Ratings\n",
    "Ratings"
   ]
  },
  {
   "cell_type": "code",
   "execution_count": 0,
   "metadata": {
    "application/vnd.databricks.v1+cell": {
     "cellMetadata": {},
     "inputWidgets": {},
     "nuid": "3b9d6fc4-4959-4503-99f0-b81dfe63d9a8",
     "showTitle": false,
     "title": ""
    }
   },
   "outputs": [],
   "source": [
    "movieyear = []\n",
    "for v in Ratings.timestamp.values:\n",
    "    \n",
    "    year = pd.Timestamp(v, unit='s').year\n",
    "    movieyear.append(year)\n",
    "movieyear\n"
   ]
  },
  {
   "cell_type": "code",
   "execution_count": 0,
   "metadata": {
    "application/vnd.databricks.v1+cell": {
     "cellMetadata": {},
     "inputWidgets": {},
     "nuid": "8a11b1c8-fb48-459d-8102-e4731f6d06ba",
     "showTitle": false,
     "title": ""
    }
   },
   "outputs": [],
   "source": [
    "Ratings['movieyear'] = movieyear\n",
    "Ratings.head(10)"
   ]
  },
  {
   "cell_type": "code",
   "execution_count": 0,
   "metadata": {
    "application/vnd.databricks.v1+cell": {
     "cellMetadata": {},
     "inputWidgets": {},
     "nuid": "ddcb6bd6-244a-4af6-bea8-3eaa8c933c57",
     "showTitle": false,
     "title": ""
    }
   },
   "outputs": [],
   "source": [
    "print(Users.info())\n",
    "print('\\n')\n",
    "print(Users.describe())\n",
    "print('\\n')\n",
    "print(Users.isna().any())\n",
    "print('\\n')"
   ]
  },
  {
   "cell_type": "markdown",
   "metadata": {
    "application/vnd.databricks.v1+cell": {
     "cellMetadata": {},
     "inputWidgets": {},
     "nuid": "d41d0a7f-c21f-4896-9bd0-14872d3a4405",
     "showTitle": false,
     "title": ""
    }
   },
   "source": [
    "<h3>1.1 ข้อมูล clean ไหม ถ้าไม่ clean จะ clean อย่างไร แสดงวิธีทำ</h3>\n",
    "<p>มีข้อมูลในตาราง Movies บาง columns ที่ไม่ clean </p>"
   ]
  },
  {
   "cell_type": "code",
   "execution_count": 0,
   "metadata": {
    "application/vnd.databricks.v1+cell": {
     "cellMetadata": {},
     "inputWidgets": {},
     "nuid": "814c175e-b1de-4def-8a5d-b0e4b3f88d45",
     "showTitle": false,
     "title": ""
    }
   },
   "outputs": [],
   "source": [
    "#ตรวจข้อมูลใน Users\n",
    "#is any row NULL ?\n",
    "print(Users.info())\n",
    "print('\\n')\n",
    "print(Users.describe())\n",
    "print('\\n')\n",
    "print(Users.isna().any())\n",
    "print('\\n')"
   ]
  },
  {
   "cell_type": "code",
   "execution_count": 0,
   "metadata": {
    "application/vnd.databricks.v1+cell": {
     "cellMetadata": {},
     "inputWidgets": {},
     "nuid": "6f67709e-931f-450d-9e74-1087c534cc06",
     "showTitle": false,
     "title": ""
    },
    "scrolled": true
   },
   "outputs": [],
   "source": [
    "#ตรวจข้อมูลใน Movies\n",
    "print(Movies.isnull().any().sum())\n",
    "Movies.isnull().sum()"
   ]
  },
  {
   "cell_type": "code",
   "execution_count": 0,
   "metadata": {
    "application/vnd.databricks.v1+cell": {
     "cellMetadata": {},
     "inputWidgets": {},
     "nuid": "841ced88-0635-469a-a4de-20ce4f2b3b6c",
     "showTitle": false,
     "title": ""
    }
   },
   "outputs": [],
   "source": [
    "#ตรวจข้อมูลใน Ratings\n",
    "Ratings.isnull().any()"
   ]
  },
  {
   "cell_type": "markdown",
   "metadata": {
    "application/vnd.databricks.v1+cell": {
     "cellMetadata": {},
     "inputWidgets": {},
     "nuid": "d306a0b9-7c5e-4b96-81ae-22b1ea5fbf5b",
     "showTitle": false,
     "title": ""
    }
   },
   "source": [
    "<h3>แก้ไขข้อมูลที่ไม่ clean ใน DataFrame ที่พบว่ามีข้อมูลที่ไม่ clean อยู่ </h3>"
   ]
  },
  {
   "cell_type": "markdown",
   "metadata": {
    "application/vnd.databricks.v1+cell": {
     "cellMetadata": {},
     "inputWidgets": {},
     "nuid": "e23bd6ac-0995-4e5a-94ce-af2531db978c",
     "showTitle": false,
     "title": ""
    }
   },
   "source": [
    "#### จาก Movies Table  มี missing data in column:    <!--ddd-->\n",
    "---\n",
    "* releaseDate 1 item,  \n",
    "* videoReleaseDate 1683 items(missing all column),  \n",
    "* IMDbURL 3 items.  \n",
    "***\n",
    "releaseDate use .drop these rows  \n",
    "videoReleaseDate .drop whole column  \n",
    "IMDbURL might have to .drop these rows"
   ]
  },
  {
   "cell_type": "code",
   "execution_count": 0,
   "metadata": {
    "application/vnd.databricks.v1+cell": {
     "cellMetadata": {},
     "inputWidgets": {},
     "nuid": "aa05f850-5eb9-4e80-a0b3-be72a832e113",
     "showTitle": false,
     "title": ""
    },
    "scrolled": true
   },
   "outputs": [],
   "source": [
    "#แก้ไขข้อมูลที่ไม่ clean\n",
    "\n",
    "print(Movies.shape)\n",
    "Movies_clean = Movies.drop(columns= 'videoReleaseDate')\n",
    "print(Movies_clean.shape)\n",
    "\n",
    "Movies_cleaned = Movies_clean.dropna(axis= 0)\n",
    "print('Count the missing item in table :', Movies_cleaned.isna().any().sum())\n",
    "print(Movies_cleaned.shape)\n",
    "Movies_cleaned.head(10)\n",
    "\n"
   ]
  },
  {
   "cell_type": "markdown",
   "metadata": {
    "application/vnd.databricks.v1+cell": {
     "cellMetadata": {},
     "inputWidgets": {},
     "nuid": "51dedbf6-0bc3-49a1-bd09-52030f4d6d31",
     "showTitle": false,
     "title": ""
    }
   },
   "source": [
    "<h3>2. แสดงจำนวนของ movie ในแต่ละ genre พล็อตเป็นกราฟ</h3>"
   ]
  },
  {
   "cell_type": "code",
   "execution_count": 0,
   "metadata": {
    "application/vnd.databricks.v1+cell": {
     "cellMetadata": {},
     "inputWidgets": {},
     "nuid": "94132ef1-1e6c-42ac-bdab-121332f836f2",
     "showTitle": false,
     "title": ""
    },
    "scrolled": false
   },
   "outputs": [],
   "source": [
    "sumMovies = Movies_cleaned.sum()\n",
    "print(type(sumMovies))\n",
    "\n",
    "sumMovies[5:].plot.barh(figsize = (10,5))\n",
    "\n",
    "\n",
    "\n",
    "#พล็อตกราฟของ movie ในแต่ละ genre\n"
   ]
  },
  {
   "cell_type": "markdown",
   "metadata": {
    "application/vnd.databricks.v1+cell": {
     "cellMetadata": {},
     "inputWidgets": {},
     "nuid": "bceea135-d9b6-426a-8d67-707e5d586ad7",
     "showTitle": false,
     "title": ""
    }
   },
   "source": [
    "<h3>3. แสดง users ที่อายุน้อยกว่า 25 ปีและเป็นผู้หญิง</h3>"
   ]
  },
  {
   "cell_type": "code",
   "execution_count": 0,
   "metadata": {
    "application/vnd.databricks.v1+cell": {
     "cellMetadata": {},
     "inputWidgets": {},
     "nuid": "f42f2b6c-5c01-4359-8e20-d1248de78260",
     "showTitle": false,
     "title": ""
    },
    "scrolled": true
   },
   "outputs": [],
   "source": [
    "#หา users ที่อายุน้อยกว่า 25 ปีและเป็นผู้หญิง"
   ]
  },
  {
   "cell_type": "code",
   "execution_count": 0,
   "metadata": {
    "application/vnd.databricks.v1+cell": {
     "cellMetadata": {},
     "inputWidgets": {},
     "nuid": "ec6cbfce-be97-490e-bf4e-c10b8afd9680",
     "showTitle": false,
     "title": ""
    }
   },
   "outputs": [],
   "source": [
    "lt25 = Users.age < 25\n",
    "female = Users.gender == 'F'"
   ]
  },
  {
   "cell_type": "code",
   "execution_count": 0,
   "metadata": {
    "application/vnd.databricks.v1+cell": {
     "cellMetadata": {},
     "inputWidgets": {},
     "nuid": "0c402ad7-74c4-453a-b411-0bcc338df549",
     "showTitle": false,
     "title": ""
    }
   },
   "outputs": [],
   "source": [
    "Users[(Users.age < 25) & (Users.gender == 'F')]\n",
    "Users[(lt25) & (female)]"
   ]
  },
  {
   "cell_type": "markdown",
   "metadata": {
    "application/vnd.databricks.v1+cell": {
     "cellMetadata": {},
     "inputWidgets": {},
     "nuid": "9dd3d7dc-3c5a-488f-95d5-df8a8262b37e",
     "showTitle": false,
     "title": ""
    }
   },
   "source": [
    "<h3>4. หาค่าเฉลี่ยการให้ rating ของแต่ละ user</h3>"
   ]
  },
  {
   "cell_type": "code",
   "execution_count": 0,
   "metadata": {
    "application/vnd.databricks.v1+cell": {
     "cellMetadata": {},
     "inputWidgets": {},
     "nuid": "a6aa05ad-1801-4f3d-9c41-3cf75f207d4d",
     "showTitle": false,
     "title": ""
    },
    "scrolled": true
   },
   "outputs": [],
   "source": [
    "#หาค่าเฉลี่ยการให้ rating ของแต่ละ user\n",
    "Ratings.head(10)"
   ]
  },
  {
   "cell_type": "code",
   "execution_count": 0,
   "metadata": {
    "application/vnd.databricks.v1+cell": {
     "cellMetadata": {},
     "inputWidgets": {},
     "nuid": "07e6f462-f374-49c8-974c-1780d4f86242",
     "showTitle": false,
     "title": ""
    },
    "scrolled": true
   },
   "outputs": [],
   "source": [
    "print('ค่าเฉลี่ยการให้ rating ของแต่ละ user :''\\n',Ratings.groupby(by='userId').mean()['rating'])"
   ]
  },
  {
   "cell_type": "markdown",
   "metadata": {
    "application/vnd.databricks.v1+cell": {
     "cellMetadata": {},
     "inputWidgets": {},
     "nuid": "67f87596-a7b9-4776-aa03-a10d1d14ddf6",
     "showTitle": false,
     "title": ""
    }
   },
   "source": [
    "<h3>5. แสดงให้เห็นอายุเฉลี่ยของ programmer ผู้ชาย</h3>"
   ]
  },
  {
   "cell_type": "code",
   "execution_count": 0,
   "metadata": {
    "application/vnd.databricks.v1+cell": {
     "cellMetadata": {},
     "inputWidgets": {},
     "nuid": "442a5d43-1db3-400f-bd4e-1d2fc8d8335e",
     "showTitle": false,
     "title": ""
    }
   },
   "outputs": [],
   "source": [
    "#แสดงให้เห็นอายุเฉลี่ยของ programmer ผู้ชาย\n",
    "Users.head(10)"
   ]
  },
  {
   "cell_type": "code",
   "execution_count": 0,
   "metadata": {
    "application/vnd.databricks.v1+cell": {
     "cellMetadata": {},
     "inputWidgets": {},
     "nuid": "448113f2-e760-46db-bbeb-124ba5da2571",
     "showTitle": false,
     "title": ""
    }
   },
   "outputs": [],
   "source": [
    "print('อายุเฉลี่ยของ programmer ผู้ชาย %.2f ปี' %(Users.groupby(by='occupation').mean().age.programmer))"
   ]
  },
  {
   "cell_type": "markdown",
   "metadata": {
    "application/vnd.databricks.v1+cell": {
     "cellMetadata": {},
     "inputWidgets": {},
     "nuid": "cf60d9d8-56b6-4428-9087-f423569b0d67",
     "showTitle": false,
     "title": ""
    }
   },
   "source": [
    "<h3>6. Movie เรื่องไหนที่ใหม่กว่าปี 1996 (ชื่อเรื่อง) ที่ได้คะแนน rating โดยเฉลี่ยสูงสุด 5 อันดับ</h3>"
   ]
  },
  {
   "cell_type": "markdown",
   "metadata": {
    "application/vnd.databricks.v1+cell": {
     "cellMetadata": {},
     "inputWidgets": {},
     "nuid": "366b123a-6f8c-4689-86b0-bdbad782978d",
     "showTitle": false,
     "title": ""
    }
   },
   "source": [
    "## หา MovieId ที่ ใหม่กว่าปี 1996"
   ]
  },
  {
   "cell_type": "code",
   "execution_count": 0,
   "metadata": {
    "application/vnd.databricks.v1+cell": {
     "cellMetadata": {},
     "inputWidgets": {},
     "nuid": "862041e3-cdd8-407b-9b88-d2de26073e48",
     "showTitle": false,
     "title": ""
    }
   },
   "outputs": [],
   "source": [
    "Ratings.head(10)\n",
    "#Movie เรื่องไหนที่ใหม่กว่าปี 1996 (ชื่อเรื่อง) ที่ได้คะแนน rating โดยเฉลี่ยสูงสุด 5 อันดับ"
   ]
  },
  {
   "cell_type": "code",
   "execution_count": 0,
   "metadata": {
    "application/vnd.databricks.v1+cell": {
     "cellMetadata": {},
     "inputWidgets": {},
     "nuid": "928c45d1-d4c2-4dfd-8501-fbdf6884a3c6",
     "showTitle": false,
     "title": ""
    }
   },
   "outputs": [],
   "source": [
    "group_movie = Ratings.groupby(by = 'movieId').mean()\n",
    "# print(group_movie)\n",
    "toprate_sorted = group_movie.sort_values(by = 'rating', ascending = False)\n",
    "# toprate_sorted\n",
    "top5moviesid = toprate_sorted[:5]\n",
    "top5moviesid # from Descending"
   ]
  },
  {
   "cell_type": "code",
   "execution_count": 0,
   "metadata": {
    "application/vnd.databricks.v1+cell": {
     "cellMetadata": {},
     "inputWidgets": {},
     "nuid": "87237b88-7245-4d36-a66f-b95eeef41637",
     "showTitle": false,
     "title": ""
    }
   },
   "outputs": [],
   "source": [
    "top5moviesid.join(Movies_cleaned, on='movieId')"
   ]
  },
  {
   "cell_type": "markdown",
   "metadata": {
    "application/vnd.databricks.v1+cell": {
     "cellMetadata": {},
     "inputWidgets": {},
     "nuid": "6377fb8e-b126-4b44-8bf5-e92191b112ca",
     "showTitle": false,
     "title": ""
    }
   },
   "source": [
    "<h3>7. หา Correlation ระหว่างอายุและ rating ที่ให้ อธิบายความสัมพันธ์ที่ได้</h3>\n",
    "<p>\n",
    "-1 ถึง -0.7 : Strong Negative (คือสองตัวแปรมีค่าไปในทางตรงกันข้าม)<br>\n",
    "-0.69 ถึง -0.31: Weak Negative <br>\n",
    "-0.3 ถึง 0.3: No correlation (สองตัวแปรไม่มีความสัมพันธ์กัน) <br>\n",
    "0.31 ถึง 0.69 : Weak Positive <br>\n",
    "0.7 ถึง 1 : Strong Positive (สองตัวแปรมีค่าไปด้วยกัน)</p>"
   ]
  },
  {
   "cell_type": "code",
   "execution_count": 0,
   "metadata": {
    "application/vnd.databricks.v1+cell": {
     "cellMetadata": {},
     "inputWidgets": {},
     "nuid": "fe1b1f6f-bd49-4855-a737-1991efe6b08d",
     "showTitle": false,
     "title": ""
    }
   },
   "outputs": [],
   "source": [
    "#หา Correlation ระหว่างอายุและ rating \n",
    "print(Ratings.shape)\n",
    "print(Ratings[Ratings.userId == 1])\n",
    "Ratings"
   ]
  },
  {
   "cell_type": "markdown",
   "metadata": {
    "application/vnd.databricks.v1+cell": {
     "cellMetadata": {},
     "inputWidgets": {},
     "nuid": "cf33ee88-6da7-4396-91f9-6f196e173832",
     "showTitle": false,
     "title": ""
    }
   },
   "source": [
    "## Rating groupby useId and averate on rating score"
   ]
  },
  {
   "cell_type": "code",
   "execution_count": 0,
   "metadata": {
    "application/vnd.databricks.v1+cell": {
     "cellMetadata": {},
     "inputWidgets": {},
     "nuid": "c690d310-84c3-41a5-8e1b-a2e2f75f828b",
     "showTitle": false,
     "title": ""
    }
   },
   "outputs": [],
   "source": [
    "Ratings_user = Ratings.groupby(by='userId').mean()  #mean and focus on rating\n",
    "Ratings_user"
   ]
  },
  {
   "cell_type": "markdown",
   "metadata": {
    "application/vnd.databricks.v1+cell": {
     "cellMetadata": {},
     "inputWidgets": {},
     "nuid": "19a8129a-91bf-4103-af39-a1db9b2b8990",
     "showTitle": false,
     "title": ""
    }
   },
   "source": [
    "## Check userId count for unique user : 943 peoples"
   ]
  },
  {
   "cell_type": "code",
   "execution_count": 0,
   "metadata": {
    "application/vnd.databricks.v1+cell": {
     "cellMetadata": {},
     "inputWidgets": {},
     "nuid": "26343ddc-a831-4b0b-96c7-38f7b80c36ba",
     "showTitle": false,
     "title": ""
    }
   },
   "outputs": [],
   "source": [
    "print(Users.shape)\n",
    "print(Users.userId.value_counts().max())\n",
    "Users.head(10)"
   ]
  },
  {
   "cell_type": "code",
   "execution_count": 0,
   "metadata": {
    "application/vnd.databricks.v1+cell": {
     "cellMetadata": {},
     "inputWidgets": {},
     "nuid": "9c20aced-5c27-48eb-820b-398882c3764a",
     "showTitle": false,
     "title": ""
    }
   },
   "outputs": [],
   "source": [
    "rating_age = Ratings_user.join(Users, on='userId')\n",
    "rating_age"
   ]
  },
  {
   "cell_type": "code",
   "execution_count": 0,
   "metadata": {
    "application/vnd.databricks.v1+cell": {
     "cellMetadata": {},
     "inputWidgets": {},
     "nuid": "ad87a7b0-2c5b-4aa3-9cf9-ab5df0925bd3",
     "showTitle": false,
     "title": ""
    }
   },
   "outputs": [],
   "source": [
    "rating_age.corr()"
   ]
  },
  {
   "cell_type": "code",
   "execution_count": 0,
   "metadata": {
    "application/vnd.databricks.v1+cell": {
     "cellMetadata": {},
     "inputWidgets": {},
     "nuid": "3fc698a5-cfbc-49a0-b0ee-261ec1f4ebba",
     "showTitle": false,
     "title": ""
    }
   },
   "outputs": [],
   "source": [
    "sns.heatmap(rating_age.corr())"
   ]
  },
  {
   "cell_type": "markdown",
   "metadata": {
    "application/vnd.databricks.v1+cell": {
     "cellMetadata": {},
     "inputWidgets": {},
     "nuid": "86cb2e11-9792-45a4-af1a-491feecab55c",
     "showTitle": false,
     "title": ""
    }
   },
   "source": [
    "### correlation between age and rating is only 0.23377\n",
    "### -0.3 ถึง 0.3: No correlation (สองตัวแปรไม่มีความสัมพันธ์กัน)\n",
    "***"
   ]
  },
  {
   "cell_type": "code",
   "execution_count": 0,
   "metadata": {
    "application/vnd.databricks.v1+cell": {
     "cellMetadata": {},
     "inputWidgets": {},
     "nuid": "cab0d4d8-7fc7-48e9-b0bb-9361413c96b0",
     "showTitle": false,
     "title": ""
    }
   },
   "outputs": [],
   "source": [
    "print('correlation between age and rating is only {}'.format(rating_age.corr().loc['age']['rating']))"
   ]
  },
  {
   "cell_type": "markdown",
   "metadata": {
    "application/vnd.databricks.v1+cell": {
     "cellMetadata": {},
     "inputWidgets": {},
     "nuid": "4fa0a87e-c6ba-4855-a251-bc1ad105bc54",
     "showTitle": false,
     "title": ""
    }
   },
   "source": [
    "***"
   ]
  },
  {
   "cell_type": "markdown",
   "metadata": {
    "application/vnd.databricks.v1+cell": {
     "cellMetadata": {},
     "inputWidgets": {},
     "nuid": "85fe7d0c-523c-4cc5-927c-a650c04c3d42",
     "showTitle": false,
     "title": ""
    }
   },
   "source": [
    "<h3>8. ศึกษาคำสั่ง melt ใช้ทำอะไร ยกตัวอย่าง</h3>"
   ]
  },
  {
   "cell_type": "markdown",
   "metadata": {
    "application/vnd.databricks.v1+cell": {
     "cellMetadata": {},
     "inputWidgets": {},
     "nuid": "58d5b68d-c14f-4df5-9d43-bcf03a71a31b",
     "showTitle": false,
     "title": ""
    }
   },
   "source": [
    "### อธิบายใน cell นี้\n",
    "\n",
    "-> ทำให้ ตารรางที่ถูก group รวม แตกออกมาเรียงเป็นตารางยาวลงข้างล่าง โดยเอา แต่ละ feature มาเรียงไว้คอลัมเดียวกันหมด"
   ]
  },
  {
   "cell_type": "code",
   "execution_count": 0,
   "metadata": {
    "application/vnd.databricks.v1+cell": {
     "cellMetadata": {},
     "inputWidgets": {},
     "nuid": "0ead0d8c-b50f-4627-bb52-825c81c5d255",
     "showTitle": false,
     "title": ""
    }
   },
   "outputs": [],
   "source": [
    "#ยกตัวอย่าง \n",
    "Ratings_user.head()"
   ]
  },
  {
   "cell_type": "code",
   "execution_count": 0,
   "metadata": {
    "application/vnd.databricks.v1+cell": {
     "cellMetadata": {},
     "inputWidgets": {},
     "nuid": "ede20280-bb59-4f16-a585-03232ee7cfd0",
     "showTitle": false,
     "title": ""
    },
    "scrolled": true
   },
   "outputs": [],
   "source": [
    "UsersMelt = Users.copy()\n",
    "UsersMelt = UsersMelt.melt()\n",
    "UsersMelt"
   ]
  },
  {
   "cell_type": "code",
   "execution_count": 0,
   "metadata": {
    "application/vnd.databricks.v1+cell": {
     "cellMetadata": {},
     "inputWidgets": {},
     "nuid": "9dc0c2a7-35dc-4589-9da0-d671cddaed31",
     "showTitle": false,
     "title": ""
    }
   },
   "outputs": [],
   "source": [
    "Ratings_user_melt = Ratings_user.melt()\n",
    "Ratings_user_melt"
   ]
  },
  {
   "cell_type": "code",
   "execution_count": 0,
   "metadata": {
    "application/vnd.databricks.v1+cell": {
     "cellMetadata": {},
     "inputWidgets": {},
     "nuid": "3128cf70-984f-4dba-bb74-8355a17bb7cf",
     "showTitle": false,
     "title": ""
    }
   },
   "outputs": [],
   "source": []
  }
 ],
 "metadata": {
  "application/vnd.databricks.v1+notebook": {
   "dashboards": [],
   "language": "python",
   "notebookMetadata": {},
   "notebookName": "Movies_Ratings_Analysis",
   "widgets": {}
  },
  "kernelspec": {
   "display_name": "Python 3",
   "language": "python",
   "name": "python3"
  },
  "language_info": {
   "codemirror_mode": {
    "name": "ipython",
    "version": 3
   },
   "file_extension": ".py",
   "mimetype": "text/x-python",
   "name": "python",
   "nbconvert_exporter": "python",
   "pygments_lexer": "ipython3",
   "version": "3.7.6"
  }
 },
 "nbformat": 4,
 "nbformat_minor": 0
}
