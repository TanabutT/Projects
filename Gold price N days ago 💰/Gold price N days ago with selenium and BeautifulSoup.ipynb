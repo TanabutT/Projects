{
 "cells": [
  {
   "cell_type": "markdown",
   "metadata": {
    "application/vnd.databricks.v1+cell": {
     "cellMetadata": {},
     "inputWidgets": {},
     "nuid": "8064cc10-40ec-46fd-95ee-bab056c822e6",
     "showTitle": false,
     "title": ""
    }
   },
   "source": [
    "# Gold price N days ago 💰"
   ]
  },
  {
   "cell_type": "markdown",
   "metadata": {
    "application/vnd.databricks.v1+cell": {
     "cellMetadata": {},
     "inputWidgets": {},
     "nuid": "7c0c3ca8-cb9d-4f13-a87d-d1878b78fa08",
     "showTitle": false,
     "title": ""
    }
   },
   "source": [
    "## install selenium"
   ]
  },
  {
   "cell_type": "code",
   "execution_count": 0,
   "metadata": {
    "application/vnd.databricks.v1+cell": {
     "cellMetadata": {},
     "inputWidgets": {},
     "nuid": "df4d7033-4b73-4282-84c0-416ced16394b",
     "showTitle": false,
     "title": ""
    }
   },
   "outputs": [],
   "source": [
    "pip install selenium"
   ]
  },
  {
   "cell_type": "markdown",
   "metadata": {
    "application/vnd.databricks.v1+cell": {
     "cellMetadata": {},
     "inputWidgets": {},
     "nuid": "6768c0e9-d4f5-4d65-b6ed-8bf56e114a67",
     "showTitle": false,
     "title": ""
    }
   },
   "source": [
    "## 📅 play with date month year"
   ]
  },
  {
   "cell_type": "code",
   "execution_count": 0,
   "metadata": {
    "application/vnd.databricks.v1+cell": {
     "cellMetadata": {},
     "inputWidgets": {},
     "nuid": "88555c66-da9a-4e8c-a9b5-459fb9ef90ea",
     "showTitle": false,
     "title": ""
    },
    "scrolled": true
   },
   "outputs": [],
   "source": [
    "from datetime import date, datetime, timedelta\n",
    "\n",
    "today = date.today()\n",
    "today1 = datetime.today()\n",
    "print(today)\n",
    "print(today1, '\\n')\n",
    "\n",
    "print(today.year)\n",
    "print(today.month)\n",
    "print(today.day)"
   ]
  },
  {
   "cell_type": "markdown",
   "metadata": {
    "application/vnd.databricks.v1+cell": {
     "cellMetadata": {},
     "inputWidgets": {},
     "nuid": "d6296ae8-d754-4b3a-a352-11d4c8225b90",
     "showTitle": false,
     "title": ""
    }
   },
   "source": [
    "## Define N days ago for gold price  : here will use 30 days ago"
   ]
  },
  {
   "cell_type": "code",
   "execution_count": 0,
   "metadata": {
    "application/vnd.databricks.v1+cell": {
     "cellMetadata": {},
     "inputWidgets": {},
     "nuid": "e54c4e34-9158-4d32-b164-6184f9736866",
     "showTitle": false,
     "title": ""
    }
   },
   "outputs": [],
   "source": [
    "#date N days ago in python\n",
    "#date_N_days_ago = datetime.now() - timedelta(days=N)\n",
    "ndayago = 30\n",
    "\n",
    "dateNdays_ago = datetime.now() - timedelta(days=ndayago)\n",
    "print(dateNdays_ago)\n",
    "print(dateNdays_ago.day)"
   ]
  },
  {
   "cell_type": "markdown",
   "metadata": {
    "application/vnd.databricks.v1+cell": {
     "cellMetadata": {},
     "inputWidgets": {},
     "nuid": "f99ebb32-ba9e-4bd2-9f25-aebe87aaba76",
     "showTitle": false,
     "title": ""
    }
   },
   "source": [
    "## with open Chrome browser to check step that selenium action ▶\n",
    "\n",
    "and check tag in html for BeautifulSoup"
   ]
  },
  {
   "cell_type": "code",
   "execution_count": 0,
   "metadata": {
    "application/vnd.databricks.v1+cell": {
     "cellMetadata": {},
     "inputWidgets": {},
     "nuid": "dea8633a-3c90-4f53-904f-744fc2d2eaa2",
     "showTitle": false,
     "title": ""
    }
   },
   "outputs": [],
   "source": [
    "from selenium import webdriver\n",
    "from selenium.webdriver.chrome.options import Options\n",
    "import time\n",
    "\n",
    "url = \"https://money.sanook.com/economic/goldrate/\"\n",
    "\n",
    "# browser = webdriver.Chrome()\n",
    "options = webdriver.ChromeOptions()\n",
    "# options.add_argument('--ignore-certificate-errors')\n",
    "# options.add_argument('--incognito')\n",
    "# options.add_argument('--headless')\n",
    "browser = webdriver.Chrome(r\"C:\\Users\\t_tan\\chromedriver.exe\", chrome_options=options)\n",
    "browser.get(url)\n",
    "# browser.maximize_window()\n",
    "browser.find_element_by_id('fromDate').click()\n",
    "time.sleep(2)\n",
    "\n",
    "# n days ago for gold price\n",
    "\n",
    "\n",
    "if today.day < ndayago:\n",
    "    browser.find_elements_by_class_name(\"ui-datepicker-prev\")[0].click()\n",
    "    time.sleep(1)\n",
    "    browser.find_elements_by_xpath(\"//table/tbody/tr/td/a[text()=%s]\"%(dateNdays_ago.day))[0].click()\n",
    "    time.sleep(2)\n",
    "else:\n",
    "    browser.find_elements_by_xpath(\"//table/tbody/tr/td/a[text()=%s]\"%(dateNdays_ago.day))[0].click()\n",
    "time.sleep(2)\n",
    "\n",
    "\n",
    "page_source = browser.page_source"
   ]
  },
  {
   "cell_type": "markdown",
   "metadata": {
    "application/vnd.databricks.v1+cell": {
     "cellMetadata": {},
     "inputWidgets": {},
     "nuid": "31cbee58-f69e-4b6f-af44-fe0359783658",
     "showTitle": false,
     "title": ""
    }
   },
   "source": [
    "## headless : without opening Chrome browser use [selenium.webdriver.chrome.options]"
   ]
  },
  {
   "cell_type": "code",
   "execution_count": 0,
   "metadata": {
    "application/vnd.databricks.v1+cell": {
     "cellMetadata": {},
     "inputWidgets": {},
     "nuid": "ba3ad19f-947a-4e09-af5c-169fec60cc54",
     "showTitle": false,
     "title": ""
    }
   },
   "outputs": [],
   "source": [
    "from selenium import webdriver\n",
    "from selenium.webdriver.chrome.options import Options\n",
    "import time\n",
    "\n",
    "url = \"https://money.sanook.com/economic/goldrate/\"\n",
    "\n",
    "# browser = webdriver.Chrome()\n",
    "options = webdriver.ChromeOptions()\n",
    "options.add_argument('--ignore-certificate-errors')\n",
    "options.add_argument('--incognito')\n",
    "options.add_argument('--headless')\n",
    "browser = webdriver.Chrome(r\"C:\\Users\\t_tan\\chromedriver.exe\", chrome_options=options)\n",
    "browser.get(url)\n",
    "# browser.maximize_window()\n",
    "browser.find_element_by_id('fromDate').click()\n",
    "time.sleep(2)\n",
    "\n",
    "# n days ago for gold price\n",
    "\n",
    "\n",
    "if today.day < ndayago:\n",
    "    browser.find_elements_by_class_name(\"ui-datepicker-prev\")[0].click()\n",
    "    time.sleep(1)\n",
    "    browser.find_elements_by_xpath(\"//table/tbody/tr/td/a[text()=%s]\"%(dateNdays_ago.day))[0].click()\n",
    "    time.sleep(2)\n",
    "else:\n",
    "    browser.find_elements_by_xpath(\"//table/tbody/tr/td/a[text()=%s]\"%(dateNdays_ago.day))[0].click()\n",
    "time.sleep(2)\n",
    "\n",
    "\n",
    "page_source = browser.page_source\n",
    "# print('page_source :', page_source)\n",
    "# print('\\n')\n",
    "# browser.find_elements_by_xpath(\"//table/tbody/tr/td/a[text()=%s]\" %(dateNdays_ago.day))[0].click()\n",
    "# time.sleep(2)\n",
    "\n",
    "            #  toDate no need to click, it will use the present date\n",
    "# browser.find_element_by_id('toDate').click()\n",
    "# time.sleep(2)\n",
    "# browser.find_elements_by_xpath(\"//table/tbody/tr/td/a[text()='20']\")[0].click()\n",
    "\n",
    "# time.sleep(3)\n",
    "\n",
    "# gold_containers = browser.find_elements_by_class_name(\"gold__td\")[7:]\n",
    "# print(len(gold_containers))\n",
    "# print('\\n')\n",
    "\n",
    "\n",
    "# for gold_con in gold_containers:\n",
    "#     print(gold_con.text)"
   ]
  },
  {
   "cell_type": "code",
   "execution_count": 0,
   "metadata": {
    "application/vnd.databricks.v1+cell": {
     "cellMetadata": {},
     "inputWidgets": {},
     "nuid": "a7b219f5-400f-41a3-9031-3f3f20a11678",
     "showTitle": false,
     "title": ""
    }
   },
   "outputs": [],
   "source": [
    "page_source"
   ]
  },
  {
   "cell_type": "code",
   "execution_count": 0,
   "metadata": {
    "application/vnd.databricks.v1+cell": {
     "cellMetadata": {},
     "inputWidgets": {},
     "nuid": "345c65a5-6a49-49d6-b999-db40dd3747e7",
     "showTitle": false,
     "title": ""
    }
   },
   "outputs": [],
   "source": [
    "from bs4 import BeautifulSoup\n",
    "\n",
    "html_soup = BeautifulSoup(page_source, 'html.parser')\n",
    "type(html_soup)"
   ]
  },
  {
   "cell_type": "code",
   "execution_count": 0,
   "metadata": {
    "application/vnd.databricks.v1+cell": {
     "cellMetadata": {},
     "inputWidgets": {},
     "nuid": "dd1c0719-af6c-49b1-ad92-57a1803cf106",
     "showTitle": false,
     "title": ""
    }
   },
   "outputs": [],
   "source": [
    "print(html_soup.prettify())"
   ]
  },
  {
   "cell_type": "code",
   "execution_count": 0,
   "metadata": {
    "application/vnd.databricks.v1+cell": {
     "cellMetadata": {},
     "inputWidgets": {},
     "nuid": "7d5d37dd-f593-41b0-98fd-b76042e97383",
     "showTitle": false,
     "title": ""
    }
   },
   "outputs": [],
   "source": [
    "gold_containers = html_soup.find_all('td', class_ = 'gold__td')\n",
    "print(type(gold_containers))\n",
    "print(len(gold_containers))"
   ]
  },
  {
   "cell_type": "code",
   "execution_count": 0,
   "metadata": {
    "application/vnd.databricks.v1+cell": {
     "cellMetadata": {},
     "inputWidgets": {},
     "nuid": "b99a74c3-b6bd-4571-b659-d32008c14f5f",
     "showTitle": false,
     "title": ""
    }
   },
   "outputs": [],
   "source": [
    "len(gold_containers[7:])"
   ]
  },
  {
   "cell_type": "code",
   "execution_count": 0,
   "metadata": {
    "application/vnd.databricks.v1+cell": {
     "cellMetadata": {},
     "inputWidgets": {},
     "nuid": "9c6dbefd-2aca-417a-be14-767cb1da146f",
     "showTitle": false,
     "title": ""
    }
   },
   "outputs": [],
   "source": [
    "gold_containers[7:]"
   ]
  },
  {
   "cell_type": "code",
   "execution_count": 0,
   "metadata": {
    "application/vnd.databricks.v1+cell": {
     "cellMetadata": {},
     "inputWidgets": {},
     "nuid": "cd8d67da-1da3-432c-a445-87dc77bd4849",
     "showTitle": false,
     "title": ""
    }
   },
   "outputs": [],
   "source": [
    "date = []\n",
    "time = []\n",
    "goldbar_buy = []   # ทองแท่ง\n",
    "goldbar_sell = []\n",
    "goldacc_buy = []   # ทองรูปพรรณ\n",
    "goldacc_sell = []\n",
    "trend = []\n",
    "\n",
    "i = 7 \n",
    "while i < len(gold_containers):  \n",
    "        if (gold_containers[i].time is not None) or (gold_containers[i].text == '\\n'):\n",
    "            # change date => list date\n",
    "            date.append(gold_containers[i].text.replace('\\n', ''))\n",
    "            i+=1\n",
    "            # then list time next \n",
    "            time.append(gold_containers[i].text.replace('\\n', ''))\n",
    "            # then list goldbar buy\n",
    "            i+=1\n",
    "            goldbar_buy.append(float(gold_containers[i].text.replace(',','')))\n",
    "            # then list goldbar sell\n",
    "            i+=1\n",
    "            goldbar_sell.append(float(gold_containers[i].text.replace(',','')))\n",
    "            i+=1\n",
    "            goldacc_buy.append(float(gold_containers[i].text.replace(',','')))\n",
    "            i+=1\n",
    "            goldacc_sell.append(float(gold_containers[i].text.replace(',','')))\n",
    "            i+=1\n",
    "            trend.append(gold_containers[i].text.replace('\\n', ''))\n",
    "            i+=1\n",
    "        \n",
    "\n",
    "print(len(date))\n",
    "print(len(time))\n",
    "print(len(goldbar_buy))\n",
    "print(len(goldbar_sell))\n",
    "print(len(goldacc_buy))\n",
    "print(len(goldacc_sell))\n",
    "print(len(trend))\n"
   ]
  },
  {
   "cell_type": "markdown",
   "metadata": {
    "application/vnd.databricks.v1+cell": {
     "cellMetadata": {},
     "inputWidgets": {},
     "nuid": "320de750-ffd5-49d1-8b94-25462ce64be8",
     "showTitle": false,
     "title": ""
    }
   },
   "source": [
    "## Build up dataframe with pandas"
   ]
  },
  {
   "cell_type": "code",
   "execution_count": 0,
   "metadata": {
    "application/vnd.databricks.v1+cell": {
     "cellMetadata": {},
     "inputWidgets": {},
     "nuid": "f5e59412-0594-47e6-bad9-789ad6600e2d",
     "showTitle": false,
     "title": ""
    }
   },
   "outputs": [],
   "source": [
    "import pandas as pd\n",
    "\n",
    "gold_df = pd.DataFrame({'Date': date,\n",
    "                       'Time': time,\n",
    "                       'Gold Bar Buying': goldbar_buy,\n",
    "                       'Gold Bar Selling': goldbar_sell,\n",
    "                       'Gold Acc Buying': goldacc_buy,\n",
    "                       'Gold Acc Selling': goldacc_sell,\n",
    "                       'Trend': trend})\n",
    "print(gold_df.info())\n",
    "gold_df"
   ]
  },
  {
   "cell_type": "code",
   "execution_count": 0,
   "metadata": {
    "application/vnd.databricks.v1+cell": {
     "cellMetadata": {},
     "inputWidgets": {},
     "nuid": "a3f78d02-9ccc-498b-a601-7d3b4143a1ae",
     "showTitle": false,
     "title": ""
    }
   },
   "outputs": [],
   "source": [
    "# cols = gold_df.columns.drop('Trend')\n",
    "\n",
    "# n_gold = gold_df.copy()\n",
    "# n_gold[cols] = n_gold[cols].apply(pd.to_numeric, errors='coerce')\n",
    "\n",
    "# # print(n_gold.info)\n",
    "# print(n_gold.head())"
   ]
  },
  {
   "cell_type": "markdown",
   "metadata": {
    "application/vnd.databricks.v1+cell": {
     "cellMetadata": {},
     "inputWidgets": {},
     "nuid": "c27db78d-1f41-4f8e-9e9e-6c04c9f9ec19",
     "showTitle": false,
     "title": ""
    }
   },
   "source": [
    "# Then Process with data cleaning"
   ]
  }
 ],
 "metadata": {
  "application/vnd.databricks.v1+notebook": {
   "dashboards": [],
   "language": "python",
   "notebookMetadata": {
    "pythonIndentUnit": 4
   },
   "notebookName": "Gold price N days ago with selenium and BeautifulSoup",
   "widgets": {}
  },
  "kernelspec": {
   "display_name": "Python 3",
   "language": "python",
   "name": "python3"
  },
  "language_info": {
   "codemirror_mode": {
    "name": "ipython",
    "version": 3
   },
   "file_extension": ".py",
   "mimetype": "text/x-python",
   "name": "python",
   "nbconvert_exporter": "python",
   "pygments_lexer": "ipython3",
   "version": "3.7.6"
  }
 },
 "nbformat": 4,
 "nbformat_minor": 0
}
