{
 "cells": [
  {
   "cell_type": "code",
   "execution_count": 1,
   "metadata": {},
   "outputs": [],
   "source": [
    "import pandas as pd\n",
    "import numpy as np\n",
    "import matplotlib.pyplot as plt\n",
    "from sklearn.model_selection import train_test_split"
   ]
  },
  {
   "cell_type": "code",
   "execution_count": 2,
   "metadata": {},
   "outputs": [],
   "source": [
    "def load_data():\n",
    "  train_df = pd.read_csv('train.csv')\n",
    "  test_df = pd.read_csv('test.csv')\n",
    "  return train_df, test_df"
   ]
  },
  {
   "cell_type": "markdown",
   "metadata": {},
   "source": [
    "# 1.Load Data"
   ]
  },
  {
   "cell_type": "code",
   "execution_count": 3,
   "metadata": {},
   "outputs": [],
   "source": [
    "train_df, test_df = load_data()"
   ]
  },
  {
   "cell_type": "code",
   "execution_count": 4,
   "metadata": {},
   "outputs": [],
   "source": [
    "carkaidee = pd.concat([train_df, test_df], axis=0)"
   ]
  },
  {
   "cell_type": "code",
   "execution_count": 5,
   "metadata": {},
   "outputs": [
    {
     "data": {
      "text/plain": [
       "(8879, 13)"
      ]
     },
     "execution_count": 5,
     "metadata": {},
     "output_type": "execute_result"
    }
   ],
   "source": [
    "carkaidee.shape"
   ]
  },
  {
   "cell_type": "markdown",
   "metadata": {},
   "source": [
    "## train_df data wrangling"
   ]
  },
  {
   "cell_type": "code",
   "execution_count": 6,
   "metadata": {},
   "outputs": [
    {
     "data": {
      "text/plain": [
       "price              0\n",
       "desc             214\n",
       "ad_id              0\n",
       "location           0\n",
       "timestamp          0\n",
       "mileage         2078\n",
       "brand              0\n",
       "model              0\n",
       "year               0\n",
       "fuel               0\n",
       "transmission     267\n",
       "color            324\n",
       "car_type           0\n",
       "dtype: int64"
      ]
     },
     "execution_count": 6,
     "metadata": {},
     "output_type": "execute_result"
    }
   ],
   "source": [
    "carkaidee.isnull().sum()"
   ]
  },
  {
   "cell_type": "code",
   "execution_count": 7,
   "metadata": {},
   "outputs": [
    {
     "name": "stdout",
     "output_type": "stream",
     "text": [
      "<class 'pandas.core.frame.DataFrame'>\n",
      "Int64Index: 8879 entries, 0 to 1775\n",
      "Data columns (total 13 columns):\n",
      " #   Column        Non-Null Count  Dtype \n",
      "---  ------        --------------  ----- \n",
      " 0   price         8879 non-null   int64 \n",
      " 1   desc          8665 non-null   object\n",
      " 2   ad_id         8879 non-null   int64 \n",
      " 3   location      8879 non-null   object\n",
      " 4   timestamp     8879 non-null   int64 \n",
      " 5   mileage       6801 non-null   object\n",
      " 6   brand         8879 non-null   object\n",
      " 7   model         8879 non-null   object\n",
      " 8   year          8879 non-null   int64 \n",
      " 9   fuel          8879 non-null   object\n",
      " 10  transmission  8612 non-null   object\n",
      " 11  color         8555 non-null   object\n",
      " 12  car_type      8879 non-null   object\n",
      "dtypes: int64(4), object(9)\n",
      "memory usage: 971.1+ KB\n"
     ]
    }
   ],
   "source": [
    "carkaidee.info()"
   ]
  },
  {
   "cell_type": "markdown",
   "metadata": {},
   "source": [
    "## convert all non numeric in mileage "
   ]
  },
  {
   "cell_type": "code",
   "execution_count": 8,
   "metadata": {},
   "outputs": [
    {
     "name": "stdout",
     "output_type": "stream",
     "text": [
      "<class 'pandas.core.frame.DataFrame'>\n",
      "Int64Index: 8879 entries, 0 to 1775\n",
      "Data columns (total 13 columns):\n",
      " #   Column        Non-Null Count  Dtype  \n",
      "---  ------        --------------  -----  \n",
      " 0   price         8879 non-null   int64  \n",
      " 1   desc          8665 non-null   object \n",
      " 2   ad_id         8879 non-null   int64  \n",
      " 3   location      8879 non-null   object \n",
      " 4   timestamp     8879 non-null   int64  \n",
      " 5   mileage       6796 non-null   float64\n",
      " 6   brand         8879 non-null   object \n",
      " 7   model         8879 non-null   object \n",
      " 8   year          8879 non-null   int64  \n",
      " 9   fuel          8879 non-null   object \n",
      " 10  transmission  8612 non-null   object \n",
      " 11  color         8555 non-null   object \n",
      " 12  car_type      8879 non-null   object \n",
      "dtypes: float64(1), int64(4), object(8)\n",
      "memory usage: 971.1+ KB\n"
     ]
    }
   ],
   "source": [
    "carkaidee['mileage'] = pd.to_numeric(carkaidee.mileage, errors = 'coerce')\n",
    "carkaidee.info()"
   ]
  },
  {
   "cell_type": "code",
   "execution_count": 9,
   "metadata": {},
   "outputs": [
    {
     "data": {
      "text/html": [
       "<div>\n",
       "<style scoped>\n",
       "    .dataframe tbody tr th:only-of-type {\n",
       "        vertical-align: middle;\n",
       "    }\n",
       "\n",
       "    .dataframe tbody tr th {\n",
       "        vertical-align: top;\n",
       "    }\n",
       "\n",
       "    .dataframe thead th {\n",
       "        text-align: right;\n",
       "    }\n",
       "</style>\n",
       "<table border=\"1\" class=\"dataframe\">\n",
       "  <thead>\n",
       "    <tr style=\"text-align: right;\">\n",
       "      <th></th>\n",
       "      <th>price</th>\n",
       "      <th>ad_id</th>\n",
       "      <th>timestamp</th>\n",
       "      <th>mileage</th>\n",
       "      <th>year</th>\n",
       "    </tr>\n",
       "  </thead>\n",
       "  <tbody>\n",
       "    <tr>\n",
       "      <th>count</th>\n",
       "      <td>8.879000e+03</td>\n",
       "      <td>8.879000e+03</td>\n",
       "      <td>8.879000e+03</td>\n",
       "      <td>6.796000e+03</td>\n",
       "      <td>8879.000</td>\n",
       "    </tr>\n",
       "    <tr>\n",
       "      <th>mean</th>\n",
       "      <td>5.549796e+05</td>\n",
       "      <td>3.549939e+08</td>\n",
       "      <td>1.587364e+09</td>\n",
       "      <td>1.470196e+05</td>\n",
       "      <td>2011.808</td>\n",
       "    </tr>\n",
       "    <tr>\n",
       "      <th>std</th>\n",
       "      <td>7.556894e+05</td>\n",
       "      <td>6.434564e+06</td>\n",
       "      <td>7.123863e+06</td>\n",
       "      <td>1.932636e+06</td>\n",
       "      <td>6.023</td>\n",
       "    </tr>\n",
       "    <tr>\n",
       "      <th>min</th>\n",
       "      <td>9.990000e+02</td>\n",
       "      <td>1.313805e+08</td>\n",
       "      <td>1.493269e+09</td>\n",
       "      <td>0.000000e+00</td>\n",
       "      <td>1956.000</td>\n",
       "    </tr>\n",
       "    <tr>\n",
       "      <th>25%</th>\n",
       "      <td>2.590000e+05</td>\n",
       "      <td>3.548677e+08</td>\n",
       "      <td>1.586933e+09</td>\n",
       "      <td>5.500000e+04</td>\n",
       "      <td>2010.000</td>\n",
       "    </tr>\n",
       "    <tr>\n",
       "      <th>50%</th>\n",
       "      <td>3.790000e+05</td>\n",
       "      <td>3.557181e+08</td>\n",
       "      <td>1.589459e+09</td>\n",
       "      <td>1.000000e+05</td>\n",
       "      <td>2013.000</td>\n",
       "    </tr>\n",
       "    <tr>\n",
       "      <th>75%</th>\n",
       "      <td>5.690000e+05</td>\n",
       "      <td>3.561931e+08</td>\n",
       "      <td>1.590916e+09</td>\n",
       "      <td>1.528590e+05</td>\n",
       "      <td>2016.000</td>\n",
       "    </tr>\n",
       "    <tr>\n",
       "      <th>max</th>\n",
       "      <td>2.190000e+07</td>\n",
       "      <td>3.562432e+08</td>\n",
       "      <td>1.591088e+09</td>\n",
       "      <td>1.234568e+08</td>\n",
       "      <td>2020.000</td>\n",
       "    </tr>\n",
       "  </tbody>\n",
       "</table>\n",
       "</div>"
      ],
      "text/plain": [
       "              price         ad_id     timestamp       mileage      year\n",
       "count  8.879000e+03  8.879000e+03  8.879000e+03  6.796000e+03  8879.000\n",
       "mean   5.549796e+05  3.549939e+08  1.587364e+09  1.470196e+05  2011.808\n",
       "std    7.556894e+05  6.434564e+06  7.123863e+06  1.932636e+06     6.023\n",
       "min    9.990000e+02  1.313805e+08  1.493269e+09  0.000000e+00  1956.000\n",
       "25%    2.590000e+05  3.548677e+08  1.586933e+09  5.500000e+04  2010.000\n",
       "50%    3.790000e+05  3.557181e+08  1.589459e+09  1.000000e+05  2013.000\n",
       "75%    5.690000e+05  3.561931e+08  1.590916e+09  1.528590e+05  2016.000\n",
       "max    2.190000e+07  3.562432e+08  1.591088e+09  1.234568e+08  2020.000"
      ]
     },
     "execution_count": 9,
     "metadata": {},
     "output_type": "execute_result"
    }
   ],
   "source": [
    "carkaidee.describe().round(3)"
   ]
  },
  {
   "cell_type": "markdown",
   "metadata": {},
   "source": [
    "## check outlier in price and mileage"
   ]
  },
  {
   "cell_type": "code",
   "execution_count": 10,
   "metadata": {},
   "outputs": [
    {
     "data": {
      "text/plain": [
       "<matplotlib.axes._subplots.AxesSubplot at 0x24e19286dc8>"
      ]
     },
     "execution_count": 10,
     "metadata": {},
     "output_type": "execute_result"
    },
    {
     "data": {
      "image/png": "[encoded data removed]",
      "text/plain": [
       "<Figure size 432x288 with 1 Axes>"
      ]
     },
     "metadata": {
      "needs_background": "light"
     },
     "output_type": "display_data"
    }
   ],
   "source": [
    "carkaidee.boxplot()"
   ]
  },
  {
   "cell_type": "code",
   "execution_count": 11,
   "metadata": {},
   "outputs": [],
   "source": [
    "carkaidee = carkaidee.drop(['desc','ad_id','timestamp'], axis=1)"
   ]
  },
  {
   "cell_type": "code",
   "execution_count": 12,
   "metadata": {},
   "outputs": [
    {
     "data": {
      "text/plain": [
       "<matplotlib.axes._subplots.AxesSubplot at 0x24e1a5efb88>"
      ]
     },
     "execution_count": 12,
     "metadata": {},
     "output_type": "execute_result"
    },
    {
     "data": {
      "image/png": "[encoded data removed]",
      "text/plain": [
       "<Figure size 432x288 with 1 Axes>"
      ]
     },
     "metadata": {
      "needs_background": "light"
     },
     "output_type": "display_data"
    }
   ],
   "source": [
    "carkaidee.boxplot(column=['price', 'mileage', 'year'])"
   ]
  },
  {
   "cell_type": "code",
   "execution_count": 13,
   "metadata": {},
   "outputs": [],
   "source": [
    "carkaidee = carkaidee[(carkaidee.price > carkaidee.price.quantile(0.001)) & (carkaidee.price < carkaidee.price.quantile(0.96))]"
   ]
  },
  {
   "cell_type": "code",
   "execution_count": 14,
   "metadata": {},
   "outputs": [
    {
     "data": {
      "text/plain": [
       "<matplotlib.axes._subplots.AxesSubplot at 0x24e1a6a7a08>"
      ]
     },
     "execution_count": 14,
     "metadata": {},
     "output_type": "execute_result"
    },
    {
     "data": {
      "image/png": "[encoded data removed]",
      "text/plain": [
       "<Figure size 432x288 with 1 Axes>"
      ]
     },
     "metadata": {
      "needs_background": "light"
     },
     "output_type": "display_data"
    }
   ],
   "source": [
    "# carkaidee.boxplot(column=['price', 'mileage', 'year'])\n",
    "carkaidee.boxplot()"
   ]
  },
  {
   "cell_type": "markdown",
   "metadata": {},
   "source": [
    "## clean out over 500,000 km mileage"
   ]
  },
  {
   "cell_type": "code",
   "execution_count": 15,
   "metadata": {
    "scrolled": false
   },
   "outputs": [],
   "source": [
    "carkaidee.mileage[carkaidee.mileage>500000] = np.nan"
   ]
  },
  {
   "cell_type": "code",
   "execution_count": 16,
   "metadata": {},
   "outputs": [
    {
     "data": {
      "text/plain": [
       "<matplotlib.axes._subplots.AxesSubplot at 0x24e1a7189c8>"
      ]
     },
     "execution_count": 16,
     "metadata": {},
     "output_type": "execute_result"
    },
    {
     "data": {
      "image/png": "[encoded data removed]",
      "text/plain": [
       "<Figure size 432x288 with 1 Axes>"
      ]
     },
     "metadata": {
      "needs_background": "light"
     },
     "output_type": "display_data"
    }
   ],
   "source": [
    "carkaidee.boxplot()"
   ]
  },
  {
   "cell_type": "markdown",
   "metadata": {},
   "source": [
    "## fill missing data in train_df "
   ]
  },
  {
   "cell_type": "code",
   "execution_count": 17,
   "metadata": {},
   "outputs": [],
   "source": [
    "def clean_data(df):\n",
    "  for col in df.columns:\n",
    "    mode = df[col].mode()[0]\n",
    "    df[col] = df[col].fillna(mode)\n",
    "  return df"
   ]
  },
  {
   "cell_type": "code",
   "execution_count": 18,
   "metadata": {},
   "outputs": [],
   "source": [
    "clean = clean_data(carkaidee.copy())"
   ]
  },
  {
   "cell_type": "markdown",
   "metadata": {},
   "source": [
    "# category data set"
   ]
  },
  {
   "cell_type": "code",
   "execution_count": 19,
   "metadata": {},
   "outputs": [],
   "source": [
    "clean.car_type = clean.car_type.astype('category')\n",
    "clean.transmission = clean.transmission.astype('category')\n",
    "clean.fuel = clean.fuel.astype('category')"
   ]
  },
  {
   "cell_type": "code",
   "execution_count": 20,
   "metadata": {},
   "outputs": [
    {
     "data": {
      "text/plain": [
       "<matplotlib.axes._subplots.AxesSubplot at 0x24e1a7cf648>"
      ]
     },
     "execution_count": 20,
     "metadata": {},
     "output_type": "execute_result"
    },
    {
     "data": {
      "image/png": "[encoded data removed]",
      "text/plain": [
       "<Figure size 432x288 with 1 Axes>"
      ]
     },
     "metadata": {
      "needs_background": "light"
     },
     "output_type": "display_data"
    }
   ],
   "source": [
    "clean.boxplot('mileage')"
   ]
  },
  {
   "cell_type": "code",
   "execution_count": 21,
   "metadata": {},
   "outputs": [
    {
     "data": {
      "text/html": [
       "<div>\n",
       "<style scoped>\n",
       "    .dataframe tbody tr th:only-of-type {\n",
       "        vertical-align: middle;\n",
       "    }\n",
       "\n",
       "    .dataframe tbody tr th {\n",
       "        vertical-align: top;\n",
       "    }\n",
       "\n",
       "    .dataframe thead th {\n",
       "        text-align: right;\n",
       "    }\n",
       "</style>\n",
       "<table border=\"1\" class=\"dataframe\">\n",
       "  <thead>\n",
       "    <tr style=\"text-align: right;\">\n",
       "      <th></th>\n",
       "      <th>price</th>\n",
       "      <th>location</th>\n",
       "      <th>mileage</th>\n",
       "      <th>brand</th>\n",
       "      <th>model</th>\n",
       "      <th>year</th>\n",
       "      <th>fuel</th>\n",
       "      <th>transmission</th>\n",
       "      <th>color</th>\n",
       "      <th>car_type</th>\n",
       "    </tr>\n",
       "  </thead>\n",
       "  <tbody>\n",
       "    <tr>\n",
       "      <th>1668</th>\n",
       "      <td>98000</td>\n",
       "      <td>ชลบุรี</td>\n",
       "      <td>100000.0</td>\n",
       "      <td>Isuzu</td>\n",
       "      <td>Adventure</td>\n",
       "      <td>2001</td>\n",
       "      <td>ดีเซล</td>\n",
       "      <td>เกียร์อัตโนมัติ</td>\n",
       "      <td>บรอนซ์ทอง</td>\n",
       "      <td>รถ MPV / SUV</td>\n",
       "    </tr>\n",
       "    <tr>\n",
       "      <th>2991</th>\n",
       "      <td>319000</td>\n",
       "      <td>กรุงเทพมหานคร</td>\n",
       "      <td>85000.0</td>\n",
       "      <td>Toyota</td>\n",
       "      <td>Vios</td>\n",
       "      <td>2015</td>\n",
       "      <td>เบนซิน</td>\n",
       "      <td>เกียร์อัตโนมัติ</td>\n",
       "      <td>ขาว</td>\n",
       "      <td>รถเก๋ง</td>\n",
       "    </tr>\n",
       "    <tr>\n",
       "      <th>1791</th>\n",
       "      <td>485000</td>\n",
       "      <td>ยะลา</td>\n",
       "      <td>89100.0</td>\n",
       "      <td>Toyota</td>\n",
       "      <td>Hilux Vigo Champ</td>\n",
       "      <td>2014</td>\n",
       "      <td>ดีเซล</td>\n",
       "      <td>เกียร์ธรรมดา</td>\n",
       "      <td>ดำ</td>\n",
       "      <td>รถกระบะ</td>\n",
       "    </tr>\n",
       "    <tr>\n",
       "      <th>5283</th>\n",
       "      <td>849000</td>\n",
       "      <td>กรุงเทพมหานคร</td>\n",
       "      <td>70000.0</td>\n",
       "      <td>Mini</td>\n",
       "      <td>COOPER</td>\n",
       "      <td>2012</td>\n",
       "      <td>เบนซิน</td>\n",
       "      <td>เกียร์อัตโนมัติ</td>\n",
       "      <td>ขาว</td>\n",
       "      <td>รถเก๋ง</td>\n",
       "    </tr>\n",
       "    <tr>\n",
       "      <th>4485</th>\n",
       "      <td>269000</td>\n",
       "      <td>นครปฐม</td>\n",
       "      <td>155000.0</td>\n",
       "      <td>Honda</td>\n",
       "      <td>City</td>\n",
       "      <td>2013</td>\n",
       "      <td>เบนซิน + LPG</td>\n",
       "      <td>เกียร์อัตโนมัติ</td>\n",
       "      <td>น้ำตาล</td>\n",
       "      <td>รถเก๋ง</td>\n",
       "    </tr>\n",
       "  </tbody>\n",
       "</table>\n",
       "</div>"
      ],
      "text/plain": [
       "       price       location   mileage   brand             model  year  \\\n",
       "1668   98000         ชลบุรี  100000.0   Isuzu         Adventure  2001   \n",
       "2991  319000  กรุงเทพมหานคร   85000.0  Toyota              Vios  2015   \n",
       "1791  485000           ยะลา   89100.0  Toyota  Hilux Vigo Champ  2014   \n",
       "5283  849000  กรุงเทพมหานคร   70000.0    Mini            COOPER  2012   \n",
       "4485  269000         นครปฐม  155000.0   Honda              City  2013   \n",
       "\n",
       "              fuel     transmission      color      car_type  \n",
       "1668         ดีเซล  เกียร์อัตโนมัติ  บรอนซ์ทอง  รถ MPV / SUV  \n",
       "2991        เบนซิน  เกียร์อัตโนมัติ        ขาว        รถเก๋ง  \n",
       "1791         ดีเซล     เกียร์ธรรมดา         ดำ       รถกระบะ  \n",
       "5283        เบนซิน  เกียร์อัตโนมัติ        ขาว        รถเก๋ง  \n",
       "4485  เบนซิน + LPG  เกียร์อัตโนมัติ     น้ำตาล        รถเก๋ง  "
      ]
     },
     "metadata": {},
     "output_type": "display_data"
    }
   ],
   "source": [
    "display(clean.sample(5))"
   ]
  },
  {
   "cell_type": "markdown",
   "metadata": {},
   "source": [
    "# Add car_age dataset"
   ]
  },
  {
   "cell_type": "code",
   "execution_count": 22,
   "metadata": {},
   "outputs": [],
   "source": [
    "clean['car_age'] = 2020 - clean.year"
   ]
  },
  {
   "cell_type": "code",
   "execution_count": 23,
   "metadata": {},
   "outputs": [
    {
     "data": {
      "text/plain": [
       "<matplotlib.axes._subplots.AxesSubplot at 0x24e1a862048>"
      ]
     },
     "execution_count": 23,
     "metadata": {},
     "output_type": "execute_result"
    },
    {
     "data": {
      "image/png": "[encoded data removed]",
      "text/plain": [
       "<Figure size 432x288 with 1 Axes>"
      ]
     },
     "metadata": {
      "needs_background": "light"
     },
     "output_type": "display_data"
    }
   ],
   "source": [
    "clean.boxplot('car_age')"
   ]
  },
  {
   "cell_type": "code",
   "execution_count": 24,
   "metadata": {},
   "outputs": [
    {
     "data": {
      "text/html": [
       "<div>\n",
       "<style scoped>\n",
       "    .dataframe tbody tr th:only-of-type {\n",
       "        vertical-align: middle;\n",
       "    }\n",
       "\n",
       "    .dataframe tbody tr th {\n",
       "        vertical-align: top;\n",
       "    }\n",
       "\n",
       "    .dataframe thead th {\n",
       "        text-align: right;\n",
       "    }\n",
       "</style>\n",
       "<table border=\"1\" class=\"dataframe\">\n",
       "  <thead>\n",
       "    <tr style=\"text-align: right;\">\n",
       "      <th></th>\n",
       "      <th>price</th>\n",
       "      <th>location</th>\n",
       "      <th>mileage</th>\n",
       "      <th>brand</th>\n",
       "      <th>model</th>\n",
       "      <th>year</th>\n",
       "      <th>fuel</th>\n",
       "      <th>transmission</th>\n",
       "      <th>color</th>\n",
       "      <th>car_type</th>\n",
       "      <th>car_age</th>\n",
       "    </tr>\n",
       "  </thead>\n",
       "  <tbody>\n",
       "    <tr>\n",
       "      <th>135</th>\n",
       "      <td>89000</td>\n",
       "      <td>กาฬสินธุ์</td>\n",
       "      <td>34567.0</td>\n",
       "      <td>Toyota</td>\n",
       "      <td>Hilux Mighty-X</td>\n",
       "      <td>1956</td>\n",
       "      <td>ดีเซล</td>\n",
       "      <td>เกียร์ธรรมดา</td>\n",
       "      <td>น้ำเงิน</td>\n",
       "      <td>รถกระบะ</td>\n",
       "      <td>64</td>\n",
       "    </tr>\n",
       "    <tr>\n",
       "      <th>1</th>\n",
       "      <td>1150000</td>\n",
       "      <td>กรุงเทพมหานคร</td>\n",
       "      <td>1234.0</td>\n",
       "      <td>Chevrolet</td>\n",
       "      <td>รุ่นอื่นๆ</td>\n",
       "      <td>1965</td>\n",
       "      <td>เบนซิน</td>\n",
       "      <td>เกียร์อัตโนมัติ</td>\n",
       "      <td>แดง</td>\n",
       "      <td>รถอื่น ๆ</td>\n",
       "      <td>55</td>\n",
       "    </tr>\n",
       "    <tr>\n",
       "      <th>4522</th>\n",
       "      <td>139000</td>\n",
       "      <td>กรุงเทพมหานคร</td>\n",
       "      <td>100000.0</td>\n",
       "      <td>Jeep</td>\n",
       "      <td>Willy</td>\n",
       "      <td>1968</td>\n",
       "      <td>เบนซิน</td>\n",
       "      <td>เกียร์ธรรมดา</td>\n",
       "      <td>เขียว</td>\n",
       "      <td>รถ MPV / SUV</td>\n",
       "      <td>52</td>\n",
       "    </tr>\n",
       "    <tr>\n",
       "      <th>636</th>\n",
       "      <td>285000</td>\n",
       "      <td>เชียงราย</td>\n",
       "      <td>200000.0</td>\n",
       "      <td>Jeep</td>\n",
       "      <td>Willy</td>\n",
       "      <td>1969</td>\n",
       "      <td>เบนซิน</td>\n",
       "      <td>เกียร์อัตโนมัติ</td>\n",
       "      <td>ขาว</td>\n",
       "      <td>รถ MPV / SUV</td>\n",
       "      <td>51</td>\n",
       "    </tr>\n",
       "  </tbody>\n",
       "</table>\n",
       "</div>"
      ],
      "text/plain": [
       "        price       location   mileage      brand           model  year  \\\n",
       "135     89000      กาฬสินธุ์   34567.0     Toyota  Hilux Mighty-X  1956   \n",
       "1     1150000  กรุงเทพมหานคร    1234.0  Chevrolet       รุ่นอื่นๆ  1965   \n",
       "4522   139000  กรุงเทพมหานคร  100000.0       Jeep           Willy  1968   \n",
       "636    285000       เชียงราย  200000.0       Jeep           Willy  1969   \n",
       "\n",
       "        fuel     transmission    color      car_type  car_age  \n",
       "135    ดีเซล     เกียร์ธรรมดา  น้ำเงิน       รถกระบะ       64  \n",
       "1     เบนซิน  เกียร์อัตโนมัติ      แดง      รถอื่น ๆ       55  \n",
       "4522  เบนซิน     เกียร์ธรรมดา    เขียว  รถ MPV / SUV       52  \n",
       "636   เบนซิน  เกียร์อัตโนมัติ      ขาว  รถ MPV / SUV       51  "
      ]
     },
     "execution_count": 24,
     "metadata": {},
     "output_type": "execute_result"
    }
   ],
   "source": [
    "clean.loc[clean['car_age']>50].sort_values(by='car_age', ascending = False)"
   ]
  },
  {
   "cell_type": "code",
   "execution_count": 25,
   "metadata": {},
   "outputs": [
    {
     "name": "stdout",
     "output_type": "stream",
     "text": [
      "<class 'pandas.core.frame.DataFrame'>\n",
      "Int64Index: 8512 entries, 0 to 1775\n",
      "Data columns (total 11 columns):\n",
      " #   Column        Non-Null Count  Dtype   \n",
      "---  ------        --------------  -----   \n",
      " 0   price         8512 non-null   int64   \n",
      " 1   location      8512 non-null   object  \n",
      " 2   mileage       8512 non-null   float64 \n",
      " 3   brand         8512 non-null   object  \n",
      " 4   model         8512 non-null   object  \n",
      " 5   year          8512 non-null   int64   \n",
      " 6   fuel          8512 non-null   category\n",
      " 7   transmission  8512 non-null   category\n",
      " 8   color         8512 non-null   object  \n",
      " 9   car_type      8512 non-null   category\n",
      " 10  car_age       8512 non-null   int64   \n",
      "dtypes: category(3), float64(1), int64(3), object(4)\n",
      "memory usage: 624.1+ KB\n"
     ]
    }
   ],
   "source": [
    "clean.info()"
   ]
  },
  {
   "cell_type": "markdown",
   "metadata": {},
   "source": [
    "# 3.Extract feature"
   ]
  },
  {
   "cell_type": "code",
   "execution_count": 26,
   "metadata": {},
   "outputs": [
    {
     "data": {
      "text/html": [
       "<div>\n",
       "<style scoped>\n",
       "    .dataframe tbody tr th:only-of-type {\n",
       "        vertical-align: middle;\n",
       "    }\n",
       "\n",
       "    .dataframe tbody tr th {\n",
       "        vertical-align: top;\n",
       "    }\n",
       "\n",
       "    .dataframe thead th {\n",
       "        text-align: right;\n",
       "    }\n",
       "</style>\n",
       "<table border=\"1\" class=\"dataframe\">\n",
       "  <thead>\n",
       "    <tr style=\"text-align: right;\">\n",
       "      <th></th>\n",
       "      <th>price</th>\n",
       "      <th>location</th>\n",
       "      <th>mileage</th>\n",
       "      <th>brand</th>\n",
       "      <th>model</th>\n",
       "      <th>year</th>\n",
       "      <th>fuel</th>\n",
       "      <th>transmission</th>\n",
       "      <th>color</th>\n",
       "      <th>car_type</th>\n",
       "      <th>car_age</th>\n",
       "    </tr>\n",
       "  </thead>\n",
       "  <tbody>\n",
       "    <tr>\n",
       "      <th>0</th>\n",
       "      <td>569000</td>\n",
       "      <td>กรุงเทพมหานคร</td>\n",
       "      <td>5700.0</td>\n",
       "      <td>Mazda</td>\n",
       "      <td>Mazda2 Sport</td>\n",
       "      <td>2020</td>\n",
       "      <td>เบนซิน</td>\n",
       "      <td>เกียร์อัตโนมัติ</td>\n",
       "      <td>เทา</td>\n",
       "      <td>รถเก๋ง</td>\n",
       "      <td>0</td>\n",
       "    </tr>\n",
       "    <tr>\n",
       "      <th>1</th>\n",
       "      <td>1150000</td>\n",
       "      <td>กรุงเทพมหานคร</td>\n",
       "      <td>1234.0</td>\n",
       "      <td>Chevrolet</td>\n",
       "      <td>รุ่นอื่นๆ</td>\n",
       "      <td>1965</td>\n",
       "      <td>เบนซิน</td>\n",
       "      <td>เกียร์อัตโนมัติ</td>\n",
       "      <td>แดง</td>\n",
       "      <td>รถอื่น ๆ</td>\n",
       "      <td>55</td>\n",
       "    </tr>\n",
       "    <tr>\n",
       "      <th>2</th>\n",
       "      <td>799000</td>\n",
       "      <td>นนทบุรี</td>\n",
       "      <td>100000.0</td>\n",
       "      <td>Mitsubishi</td>\n",
       "      <td>Pajero Sport</td>\n",
       "      <td>2016</td>\n",
       "      <td>ดีเซล</td>\n",
       "      <td>เกียร์อัตโนมัติ</td>\n",
       "      <td>ขาว</td>\n",
       "      <td>รถ MPV / SUV</td>\n",
       "      <td>4</td>\n",
       "    </tr>\n",
       "    <tr>\n",
       "      <th>3</th>\n",
       "      <td>429000</td>\n",
       "      <td>กรุงเทพมหานคร</td>\n",
       "      <td>184921.0</td>\n",
       "      <td>Toyota</td>\n",
       "      <td>Camry</td>\n",
       "      <td>2010</td>\n",
       "      <td>ไฮบริด</td>\n",
       "      <td>เกียร์อัตโนมัติ</td>\n",
       "      <td>ดำ</td>\n",
       "      <td>รถเก๋ง</td>\n",
       "      <td>10</td>\n",
       "    </tr>\n",
       "    <tr>\n",
       "      <th>4</th>\n",
       "      <td>268000</td>\n",
       "      <td>กรุงเทพมหานคร</td>\n",
       "      <td>103000.0</td>\n",
       "      <td>Nissan</td>\n",
       "      <td>Almera</td>\n",
       "      <td>2016</td>\n",
       "      <td>เบนซิน</td>\n",
       "      <td>เกียร์อัตโนมัติ</td>\n",
       "      <td>ขาว</td>\n",
       "      <td>รถเก๋ง</td>\n",
       "      <td>4</td>\n",
       "    </tr>\n",
       "  </tbody>\n",
       "</table>\n",
       "</div>"
      ],
      "text/plain": [
       "     price       location   mileage       brand         model  year    fuel  \\\n",
       "0   569000  กรุงเทพมหานคร    5700.0       Mazda  Mazda2 Sport  2020  เบนซิน   \n",
       "1  1150000  กรุงเทพมหานคร    1234.0   Chevrolet     รุ่นอื่นๆ  1965  เบนซิน   \n",
       "2   799000        นนทบุรี  100000.0  Mitsubishi  Pajero Sport  2016   ดีเซล   \n",
       "3   429000  กรุงเทพมหานคร  184921.0      Toyota         Camry  2010  ไฮบริด   \n",
       "4   268000  กรุงเทพมหานคร  103000.0      Nissan        Almera  2016  เบนซิน   \n",
       "\n",
       "      transmission color      car_type  car_age  \n",
       "0  เกียร์อัตโนมัติ   เทา        รถเก๋ง        0  \n",
       "1  เกียร์อัตโนมัติ   แดง      รถอื่น ๆ       55  \n",
       "2  เกียร์อัตโนมัติ   ขาว  รถ MPV / SUV        4  \n",
       "3  เกียร์อัตโนมัติ    ดำ        รถเก๋ง       10  \n",
       "4  เกียร์อัตโนมัติ   ขาว        รถเก๋ง        4  "
      ]
     },
     "execution_count": 26,
     "metadata": {},
     "output_type": "execute_result"
    }
   ],
   "source": [
    "clean.head()"
   ]
  },
  {
   "cell_type": "code",
   "execution_count": 27,
   "metadata": {},
   "outputs": [],
   "source": [
    "dummy = pd.get_dummies(clean[['location','brand','model', 'color','fuel', 'transmission', 'car_type']])\n",
    "clean1 = pd.concat([clean.copy(), dummy], axis=1)\n",
    "clean1 = clean1._get_numeric_data()"
   ]
  },
  {
   "cell_type": "code",
   "execution_count": 28,
   "metadata": {},
   "outputs": [
    {
     "data": {
      "text/html": [
       "<div>\n",
       "<style scoped>\n",
       "    .dataframe tbody tr th:only-of-type {\n",
       "        vertical-align: middle;\n",
       "    }\n",
       "\n",
       "    .dataframe tbody tr th {\n",
       "        vertical-align: top;\n",
       "    }\n",
       "\n",
       "    .dataframe thead th {\n",
       "        text-align: right;\n",
       "    }\n",
       "</style>\n",
       "<table border=\"1\" class=\"dataframe\">\n",
       "  <thead>\n",
       "    <tr style=\"text-align: right;\">\n",
       "      <th></th>\n",
       "      <th>price</th>\n",
       "      <th>mileage</th>\n",
       "      <th>year</th>\n",
       "      <th>car_age</th>\n",
       "      <th>location_กระบี่</th>\n",
       "      <th>location_กรุงเทพมหานคร</th>\n",
       "      <th>location_กาญจนบุรี</th>\n",
       "      <th>location_กาฬสินธุ์</th>\n",
       "      <th>location_กำแพงเพชร</th>\n",
       "      <th>location_ขอนแก่น</th>\n",
       "      <th>...</th>\n",
       "      <th>fuel_เบนซิน + LPG</th>\n",
       "      <th>fuel_เบนซิน + NGV</th>\n",
       "      <th>fuel_ไฮบริด</th>\n",
       "      <th>transmission_เกียร์ธรรมดา</th>\n",
       "      <th>transmission_เกียร์อัตโนมัติ</th>\n",
       "      <th>car_type_รถ MPV / SUV</th>\n",
       "      <th>car_type_รถกระบะ</th>\n",
       "      <th>car_type_รถตู้</th>\n",
       "      <th>car_type_รถอื่น ๆ</th>\n",
       "      <th>car_type_รถเก๋ง</th>\n",
       "    </tr>\n",
       "  </thead>\n",
       "  <tbody>\n",
       "    <tr>\n",
       "      <th>0</th>\n",
       "      <td>569000</td>\n",
       "      <td>5700.0</td>\n",
       "      <td>2020</td>\n",
       "      <td>0</td>\n",
       "      <td>0</td>\n",
       "      <td>1</td>\n",
       "      <td>0</td>\n",
       "      <td>0</td>\n",
       "      <td>0</td>\n",
       "      <td>0</td>\n",
       "      <td>...</td>\n",
       "      <td>0</td>\n",
       "      <td>0</td>\n",
       "      <td>0</td>\n",
       "      <td>0</td>\n",
       "      <td>1</td>\n",
       "      <td>0</td>\n",
       "      <td>0</td>\n",
       "      <td>0</td>\n",
       "      <td>0</td>\n",
       "      <td>1</td>\n",
       "    </tr>\n",
       "    <tr>\n",
       "      <th>1</th>\n",
       "      <td>1150000</td>\n",
       "      <td>1234.0</td>\n",
       "      <td>1965</td>\n",
       "      <td>55</td>\n",
       "      <td>0</td>\n",
       "      <td>1</td>\n",
       "      <td>0</td>\n",
       "      <td>0</td>\n",
       "      <td>0</td>\n",
       "      <td>0</td>\n",
       "      <td>...</td>\n",
       "      <td>0</td>\n",
       "      <td>0</td>\n",
       "      <td>0</td>\n",
       "      <td>0</td>\n",
       "      <td>1</td>\n",
       "      <td>0</td>\n",
       "      <td>0</td>\n",
       "      <td>0</td>\n",
       "      <td>1</td>\n",
       "      <td>0</td>\n",
       "    </tr>\n",
       "    <tr>\n",
       "      <th>2</th>\n",
       "      <td>799000</td>\n",
       "      <td>100000.0</td>\n",
       "      <td>2016</td>\n",
       "      <td>4</td>\n",
       "      <td>0</td>\n",
       "      <td>0</td>\n",
       "      <td>0</td>\n",
       "      <td>0</td>\n",
       "      <td>0</td>\n",
       "      <td>0</td>\n",
       "      <td>...</td>\n",
       "      <td>0</td>\n",
       "      <td>0</td>\n",
       "      <td>0</td>\n",
       "      <td>0</td>\n",
       "      <td>1</td>\n",
       "      <td>1</td>\n",
       "      <td>0</td>\n",
       "      <td>0</td>\n",
       "      <td>0</td>\n",
       "      <td>0</td>\n",
       "    </tr>\n",
       "    <tr>\n",
       "      <th>3</th>\n",
       "      <td>429000</td>\n",
       "      <td>184921.0</td>\n",
       "      <td>2010</td>\n",
       "      <td>10</td>\n",
       "      <td>0</td>\n",
       "      <td>1</td>\n",
       "      <td>0</td>\n",
       "      <td>0</td>\n",
       "      <td>0</td>\n",
       "      <td>0</td>\n",
       "      <td>...</td>\n",
       "      <td>0</td>\n",
       "      <td>0</td>\n",
       "      <td>1</td>\n",
       "      <td>0</td>\n",
       "      <td>1</td>\n",
       "      <td>0</td>\n",
       "      <td>0</td>\n",
       "      <td>0</td>\n",
       "      <td>0</td>\n",
       "      <td>1</td>\n",
       "    </tr>\n",
       "    <tr>\n",
       "      <th>4</th>\n",
       "      <td>268000</td>\n",
       "      <td>103000.0</td>\n",
       "      <td>2016</td>\n",
       "      <td>4</td>\n",
       "      <td>0</td>\n",
       "      <td>1</td>\n",
       "      <td>0</td>\n",
       "      <td>0</td>\n",
       "      <td>0</td>\n",
       "      <td>0</td>\n",
       "      <td>...</td>\n",
       "      <td>0</td>\n",
       "      <td>0</td>\n",
       "      <td>0</td>\n",
       "      <td>0</td>\n",
       "      <td>1</td>\n",
       "      <td>0</td>\n",
       "      <td>0</td>\n",
       "      <td>0</td>\n",
       "      <td>0</td>\n",
       "      <td>1</td>\n",
       "    </tr>\n",
       "  </tbody>\n",
       "</table>\n",
       "<p>5 rows × 431 columns</p>\n",
       "</div>"
      ],
      "text/plain": [
       "     price   mileage  year  car_age  location_กระบี่  location_กรุงเทพมหานคร  \\\n",
       "0   569000    5700.0  2020        0                0                       1   \n",
       "1  1150000    1234.0  1965       55                0                       1   \n",
       "2   799000  100000.0  2016        4                0                       0   \n",
       "3   429000  184921.0  2010       10                0                       1   \n",
       "4   268000  103000.0  2016        4                0                       1   \n",
       "\n",
       "   location_กาญจนบุรี  location_กาฬสินธุ์  location_กำแพงเพชร  \\\n",
       "0                   0                   0                   0   \n",
       "1                   0                   0                   0   \n",
       "2                   0                   0                   0   \n",
       "3                   0                   0                   0   \n",
       "4                   0                   0                   0   \n",
       "\n",
       "   location_ขอนแก่น  ...  fuel_เบนซิน + LPG  fuel_เบนซิน + NGV  fuel_ไฮบริด  \\\n",
       "0                 0  ...                  0                  0            0   \n",
       "1                 0  ...                  0                  0            0   \n",
       "2                 0  ...                  0                  0            0   \n",
       "3                 0  ...                  0                  0            1   \n",
       "4                 0  ...                  0                  0            0   \n",
       "\n",
       "   transmission_เกียร์ธรรมดา  transmission_เกียร์อัตโนมัติ  \\\n",
       "0                          0                             1   \n",
       "1                          0                             1   \n",
       "2                          0                             1   \n",
       "3                          0                             1   \n",
       "4                          0                             1   \n",
       "\n",
       "   car_type_รถ MPV / SUV  car_type_รถกระบะ  car_type_รถตู้  car_type_รถอื่น ๆ  \\\n",
       "0                      0                 0               0                  0   \n",
       "1                      0                 0               0                  1   \n",
       "2                      1                 0               0                  0   \n",
       "3                      0                 0               0                  0   \n",
       "4                      0                 0               0                  0   \n",
       "\n",
       "   car_type_รถเก๋ง  \n",
       "0                1  \n",
       "1                0  \n",
       "2                0  \n",
       "3                1  \n",
       "4                1  \n",
       "\n",
       "[5 rows x 431 columns]"
      ]
     },
     "execution_count": 28,
     "metadata": {},
     "output_type": "execute_result"
    }
   ],
   "source": [
    "clean1.head()"
   ]
  },
  {
   "cell_type": "code",
   "execution_count": 29,
   "metadata": {},
   "outputs": [
    {
     "data": {
      "text/plain": [
       "Index(['price', 'mileage', 'year', 'car_age', 'location_กระบี่',\n",
       "       'location_กรุงเทพมหานคร', 'location_กาญจนบุรี', 'location_กาฬสินธุ์',\n",
       "       'location_กำแพงเพชร', 'location_ขอนแก่น',\n",
       "       ...\n",
       "       'fuel_เบนซิน + LPG', 'fuel_เบนซิน + NGV', 'fuel_ไฮบริด',\n",
       "       'transmission_เกียร์ธรรมดา', 'transmission_เกียร์อัตโนมัติ',\n",
       "       'car_type_รถ MPV / SUV', 'car_type_รถกระบะ', 'car_type_รถตู้',\n",
       "       'car_type_รถอื่น ๆ', 'car_type_รถเก๋ง'],\n",
       "      dtype='object', length=431)"
      ]
     },
     "execution_count": 29,
     "metadata": {},
     "output_type": "execute_result"
    }
   ],
   "source": [
    "clean1.columns"
   ]
  },
  {
   "cell_type": "code",
   "execution_count": 30,
   "metadata": {},
   "outputs": [
    {
     "data": {
      "text/plain": [
       "0       1\n",
       "1       1\n",
       "2       0\n",
       "3       1\n",
       "4       1\n",
       "       ..\n",
       "1770    0\n",
       "1772    1\n",
       "1773    1\n",
       "1774    0\n",
       "1775    1\n",
       "Name: location_กรุงเทพมหานคร, Length: 8512, dtype: uint8"
      ]
     },
     "execution_count": 30,
     "metadata": {},
     "output_type": "execute_result"
    }
   ],
   "source": [
    "clean1.location_กรุงเทพมหานคร"
   ]
  },
  {
   "cell_type": "code",
   "execution_count": 31,
   "metadata": {},
   "outputs": [],
   "source": [
    "def split_data_price(df):\n",
    "  y = df['price']\n",
    "  X = df.drop('price', axis=1)\n",
    "  return X, y"
   ]
  },
  {
   "cell_type": "code",
   "execution_count": 32,
   "metadata": {},
   "outputs": [],
   "source": [
    "X, y = split_data_price(clean1.copy())"
   ]
  },
  {
   "cell_type": "code",
   "execution_count": 33,
   "metadata": {},
   "outputs": [
    {
     "name": "stdout",
     "output_type": "stream",
     "text": [
      "(8512, 430)\n"
     ]
    },
    {
     "data": {
      "text/html": [
       "<div>\n",
       "<style scoped>\n",
       "    .dataframe tbody tr th:only-of-type {\n",
       "        vertical-align: middle;\n",
       "    }\n",
       "\n",
       "    .dataframe tbody tr th {\n",
       "        vertical-align: top;\n",
       "    }\n",
       "\n",
       "    .dataframe thead th {\n",
       "        text-align: right;\n",
       "    }\n",
       "</style>\n",
       "<table border=\"1\" class=\"dataframe\">\n",
       "  <thead>\n",
       "    <tr style=\"text-align: right;\">\n",
       "      <th></th>\n",
       "      <th>mileage</th>\n",
       "      <th>year</th>\n",
       "      <th>car_age</th>\n",
       "      <th>location_กระบี่</th>\n",
       "      <th>location_กรุงเทพมหานคร</th>\n",
       "      <th>location_กาญจนบุรี</th>\n",
       "      <th>location_กาฬสินธุ์</th>\n",
       "      <th>location_กำแพงเพชร</th>\n",
       "      <th>location_ขอนแก่น</th>\n",
       "      <th>location_จันทบุรี</th>\n",
       "      <th>...</th>\n",
       "      <th>fuel_เบนซิน + LPG</th>\n",
       "      <th>fuel_เบนซิน + NGV</th>\n",
       "      <th>fuel_ไฮบริด</th>\n",
       "      <th>transmission_เกียร์ธรรมดา</th>\n",
       "      <th>transmission_เกียร์อัตโนมัติ</th>\n",
       "      <th>car_type_รถ MPV / SUV</th>\n",
       "      <th>car_type_รถกระบะ</th>\n",
       "      <th>car_type_รถตู้</th>\n",
       "      <th>car_type_รถอื่น ๆ</th>\n",
       "      <th>car_type_รถเก๋ง</th>\n",
       "    </tr>\n",
       "  </thead>\n",
       "  <tbody>\n",
       "    <tr>\n",
       "      <th>0</th>\n",
       "      <td>5700.0</td>\n",
       "      <td>2020</td>\n",
       "      <td>0</td>\n",
       "      <td>0</td>\n",
       "      <td>1</td>\n",
       "      <td>0</td>\n",
       "      <td>0</td>\n",
       "      <td>0</td>\n",
       "      <td>0</td>\n",
       "      <td>0</td>\n",
       "      <td>...</td>\n",
       "      <td>0</td>\n",
       "      <td>0</td>\n",
       "      <td>0</td>\n",
       "      <td>0</td>\n",
       "      <td>1</td>\n",
       "      <td>0</td>\n",
       "      <td>0</td>\n",
       "      <td>0</td>\n",
       "      <td>0</td>\n",
       "      <td>1</td>\n",
       "    </tr>\n",
       "    <tr>\n",
       "      <th>1</th>\n",
       "      <td>1234.0</td>\n",
       "      <td>1965</td>\n",
       "      <td>55</td>\n",
       "      <td>0</td>\n",
       "      <td>1</td>\n",
       "      <td>0</td>\n",
       "      <td>0</td>\n",
       "      <td>0</td>\n",
       "      <td>0</td>\n",
       "      <td>0</td>\n",
       "      <td>...</td>\n",
       "      <td>0</td>\n",
       "      <td>0</td>\n",
       "      <td>0</td>\n",
       "      <td>0</td>\n",
       "      <td>1</td>\n",
       "      <td>0</td>\n",
       "      <td>0</td>\n",
       "      <td>0</td>\n",
       "      <td>1</td>\n",
       "      <td>0</td>\n",
       "    </tr>\n",
       "    <tr>\n",
       "      <th>2</th>\n",
       "      <td>100000.0</td>\n",
       "      <td>2016</td>\n",
       "      <td>4</td>\n",
       "      <td>0</td>\n",
       "      <td>0</td>\n",
       "      <td>0</td>\n",
       "      <td>0</td>\n",
       "      <td>0</td>\n",
       "      <td>0</td>\n",
       "      <td>0</td>\n",
       "      <td>...</td>\n",
       "      <td>0</td>\n",
       "      <td>0</td>\n",
       "      <td>0</td>\n",
       "      <td>0</td>\n",
       "      <td>1</td>\n",
       "      <td>1</td>\n",
       "      <td>0</td>\n",
       "      <td>0</td>\n",
       "      <td>0</td>\n",
       "      <td>0</td>\n",
       "    </tr>\n",
       "    <tr>\n",
       "      <th>3</th>\n",
       "      <td>184921.0</td>\n",
       "      <td>2010</td>\n",
       "      <td>10</td>\n",
       "      <td>0</td>\n",
       "      <td>1</td>\n",
       "      <td>0</td>\n",
       "      <td>0</td>\n",
       "      <td>0</td>\n",
       "      <td>0</td>\n",
       "      <td>0</td>\n",
       "      <td>...</td>\n",
       "      <td>0</td>\n",
       "      <td>0</td>\n",
       "      <td>1</td>\n",
       "      <td>0</td>\n",
       "      <td>1</td>\n",
       "      <td>0</td>\n",
       "      <td>0</td>\n",
       "      <td>0</td>\n",
       "      <td>0</td>\n",
       "      <td>1</td>\n",
       "    </tr>\n",
       "    <tr>\n",
       "      <th>4</th>\n",
       "      <td>103000.0</td>\n",
       "      <td>2016</td>\n",
       "      <td>4</td>\n",
       "      <td>0</td>\n",
       "      <td>1</td>\n",
       "      <td>0</td>\n",
       "      <td>0</td>\n",
       "      <td>0</td>\n",
       "      <td>0</td>\n",
       "      <td>0</td>\n",
       "      <td>...</td>\n",
       "      <td>0</td>\n",
       "      <td>0</td>\n",
       "      <td>0</td>\n",
       "      <td>0</td>\n",
       "      <td>1</td>\n",
       "      <td>0</td>\n",
       "      <td>0</td>\n",
       "      <td>0</td>\n",
       "      <td>0</td>\n",
       "      <td>1</td>\n",
       "    </tr>\n",
       "  </tbody>\n",
       "</table>\n",
       "<p>5 rows × 430 columns</p>\n",
       "</div>"
      ],
      "text/plain": [
       "    mileage  year  car_age  location_กระบี่  location_กรุงเทพมหานคร  \\\n",
       "0    5700.0  2020        0                0                       1   \n",
       "1    1234.0  1965       55                0                       1   \n",
       "2  100000.0  2016        4                0                       0   \n",
       "3  184921.0  2010       10                0                       1   \n",
       "4  103000.0  2016        4                0                       1   \n",
       "\n",
       "   location_กาญจนบุรี  location_กาฬสินธุ์  location_กำแพงเพชร  \\\n",
       "0                   0                   0                   0   \n",
       "1                   0                   0                   0   \n",
       "2                   0                   0                   0   \n",
       "3                   0                   0                   0   \n",
       "4                   0                   0                   0   \n",
       "\n",
       "   location_ขอนแก่น  location_จันทบุรี  ...  fuel_เบนซิน + LPG  \\\n",
       "0                 0                  0  ...                  0   \n",
       "1                 0                  0  ...                  0   \n",
       "2                 0                  0  ...                  0   \n",
       "3                 0                  0  ...                  0   \n",
       "4                 0                  0  ...                  0   \n",
       "\n",
       "   fuel_เบนซิน + NGV  fuel_ไฮบริด  transmission_เกียร์ธรรมดา  \\\n",
       "0                  0            0                          0   \n",
       "1                  0            0                          0   \n",
       "2                  0            0                          0   \n",
       "3                  0            1                          0   \n",
       "4                  0            0                          0   \n",
       "\n",
       "   transmission_เกียร์อัตโนมัติ  car_type_รถ MPV / SUV  car_type_รถกระบะ  \\\n",
       "0                             1                      0                 0   \n",
       "1                             1                      0                 0   \n",
       "2                             1                      1                 0   \n",
       "3                             1                      0                 0   \n",
       "4                             1                      0                 0   \n",
       "\n",
       "   car_type_รถตู้  car_type_รถอื่น ๆ  car_type_รถเก๋ง  \n",
       "0               0                  0                1  \n",
       "1               0                  1                0  \n",
       "2               0                  0                0  \n",
       "3               0                  0                1  \n",
       "4               0                  0                1  \n",
       "\n",
       "[5 rows x 430 columns]"
      ]
     },
     "execution_count": 33,
     "metadata": {},
     "output_type": "execute_result"
    }
   ],
   "source": [
    "print(X.shape)\n",
    "X.head()"
   ]
  },
  {
   "cell_type": "code",
   "execution_count": 34,
   "metadata": {},
   "outputs": [
    {
     "name": "stdout",
     "output_type": "stream",
     "text": [
      "(8512, 430)\n"
     ]
    },
    {
     "data": {
      "text/plain": [
       "0     569000\n",
       "1    1150000\n",
       "2     799000\n",
       "3     429000\n",
       "4     268000\n",
       "Name: price, dtype: int64"
      ]
     },
     "execution_count": 34,
     "metadata": {},
     "output_type": "execute_result"
    }
   ],
   "source": [
    "print(X.shape)\n",
    "y.head()"
   ]
  },
  {
   "cell_type": "markdown",
   "metadata": {},
   "source": [
    "## create train and test set"
   ]
  },
  {
   "cell_type": "code",
   "execution_count": 35,
   "metadata": {},
   "outputs": [],
   "source": [
    "X_train, X_test, y_train, y_test = train_test_split(X,y, test_size= 0.2, random_state = 42)"
   ]
  },
  {
   "cell_type": "markdown",
   "metadata": {},
   "source": [
    "# 4.Train model (Regression)"
   ]
  },
  {
   "cell_type": "code",
   "execution_count": 36,
   "metadata": {},
   "outputs": [],
   "source": [
    "from sklearn.ensemble import GradientBoostingRegressor, RandomForestRegressor\n",
    "from sklearn.linear_model import LinearRegression\n",
    "from sklearn.linear_model import Lasso\n",
    "from sklearn.metrics import mean_squared_error"
   ]
  },
  {
   "cell_type": "code",
   "execution_count": 37,
   "metadata": {},
   "outputs": [],
   "source": [
    "# lasso = Lasso(alpha=0.1, normalize = True)\n",
    "# lasso.fit(train_feat, y_train)"
   ]
  },
  {
   "cell_type": "code",
   "execution_count": 38,
   "metadata": {},
   "outputs": [
    {
     "data": {
      "text/plain": [
       "RandomForestRegressor()"
      ]
     },
     "execution_count": 38,
     "metadata": {},
     "output_type": "execute_result"
    }
   ],
   "source": [
    "forest = RandomForestRegressor()\n",
    "forest.fit(X_train, y_train)"
   ]
  },
  {
   "cell_type": "markdown",
   "metadata": {},
   "source": [
    "# Evaluation (Regression) with mean squar error ; mse"
   ]
  },
  {
   "cell_type": "code",
   "execution_count": 41,
   "metadata": {},
   "outputs": [],
   "source": [
    "y_pred = forest.predict(X_test)"
   ]
  },
  {
   "cell_type": "code",
   "execution_count": 48,
   "metadata": {},
   "outputs": [
    {
     "name": "stdout",
     "output_type": "stream",
     "text": [
      "R2 : 0.865309163575489\n"
     ]
    }
   ],
   "source": [
    "print('R2 :', forest.score(X_test, y_test))"
   ]
  },
  {
   "cell_type": "code",
   "execution_count": 46,
   "metadata": {},
   "outputs": [
    {
     "name": "stdout",
     "output_type": "stream",
     "text": [
      "Random forest model MSE  : 12436907461.827703\n"
     ]
    }
   ],
   "source": [
    "forest_mse = mean_squared_error(y_test, y_pred)\n",
    "print('Random forest model MSE  :', forest_mse)"
   ]
  },
  {
   "cell_type": "markdown",
   "metadata": {},
   "source": [
    "## Root mean sqaur error"
   ]
  },
  {
   "cell_type": "code",
   "execution_count": 44,
   "metadata": {},
   "outputs": [
    {
     "data": {
      "text/plain": [
       "111232.12141630943"
      ]
     },
     "execution_count": 44,
     "metadata": {},
     "output_type": "execute_result"
    }
   ],
   "source": [
    "import math\n",
    "# math.sqrt(mean_squared_error(y_test, y_pred))\n",
    "math.sqrt(12372584834.772602)"
   ]
  },
  {
   "cell_type": "code",
   "execution_count": null,
   "metadata": {},
   "outputs": [],
   "source": []
  }
 ],
 "metadata": {
  "kernelspec": {
   "display_name": "Python 3.7 (tensorflow)",
   "language": "python",
   "name": "tensorflow"
  },
  "language_info": {
   "codemirror_mode": {
    "name": "ipython",
    "version": 3
   },
   "file_extension": ".py",
   "mimetype": "text/x-python",
   "name": "python",
   "nbconvert_exporter": "python",
   "pygments_lexer": "ipython3",
   "version": "3.7.7"
  }
 },
 "nbformat": 4,
 "nbformat_minor": 4
}
