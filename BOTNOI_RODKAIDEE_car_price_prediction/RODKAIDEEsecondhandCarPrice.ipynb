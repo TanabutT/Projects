{
 "cells": [
  {
   "cell_type": "code",
   "execution_count": 0,
   "metadata": {
    "application/vnd.databricks.v1+cell": {
     "cellMetadata": {},
     "inputWidgets": {},
     "nuid": "bdbe1c23-d2c7-45c9-be90-db89bc4f4c63",
     "showTitle": false,
     "title": ""
    }
   },
   "outputs": [],
   "source": [
    "import pandas as pd\n",
    "import numpy as np\n",
    "import matplotlib.pyplot as plt\n",
    "from sklearn.model_selection import train_test_split"
   ]
  },
  {
   "cell_type": "code",
   "execution_count": 0,
   "metadata": {
    "application/vnd.databricks.v1+cell": {
     "cellMetadata": {},
     "inputWidgets": {},
     "nuid": "00531f4c-ce5c-45bb-b09b-2a7d76580867",
     "showTitle": false,
     "title": ""
    }
   },
   "outputs": [],
   "source": [
    "def load_data():\n",
    "  train_df = pd.read_csv('train.csv')\n",
    "  test_df = pd.read_csv('test.csv')\n",
    "  return train_df, test_df"
   ]
  },
  {
   "cell_type": "markdown",
   "metadata": {
    "application/vnd.databricks.v1+cell": {
     "cellMetadata": {},
     "inputWidgets": {},
     "nuid": "5e07d7a9-4aa6-4bb8-98e3-509fd8117a04",
     "showTitle": false,
     "title": ""
    }
   },
   "source": [
    "# 1.Load Data"
   ]
  },
  {
   "cell_type": "code",
   "execution_count": 0,
   "metadata": {
    "application/vnd.databricks.v1+cell": {
     "cellMetadata": {},
     "inputWidgets": {},
     "nuid": "23ecc38c-4015-47ee-9195-77f5807c45c2",
     "showTitle": false,
     "title": ""
    }
   },
   "outputs": [],
   "source": [
    "train_df, test_df = load_data()"
   ]
  },
  {
   "cell_type": "code",
   "execution_count": 0,
   "metadata": {
    "application/vnd.databricks.v1+cell": {
     "cellMetadata": {},
     "inputWidgets": {},
     "nuid": "a9e45dbc-e59e-4e7f-8503-697f7e9fe19a",
     "showTitle": false,
     "title": ""
    }
   },
   "outputs": [],
   "source": [
    "carkaidee = pd.concat([train_df, test_df], axis=0)"
   ]
  },
  {
   "cell_type": "code",
   "execution_count": 0,
   "metadata": {
    "application/vnd.databricks.v1+cell": {
     "cellMetadata": {},
     "inputWidgets": {},
     "nuid": "320cf81b-accd-4288-adb1-756b81676c10",
     "showTitle": false,
     "title": ""
    }
   },
   "outputs": [],
   "source": [
    "carkaidee.shape"
   ]
  },
  {
   "cell_type": "markdown",
   "metadata": {
    "application/vnd.databricks.v1+cell": {
     "cellMetadata": {},
     "inputWidgets": {},
     "nuid": "5111b519-d695-4603-9200-205737d92d47",
     "showTitle": false,
     "title": ""
    }
   },
   "source": [
    "## train_df data wrangling"
   ]
  },
  {
   "cell_type": "code",
   "execution_count": 0,
   "metadata": {
    "application/vnd.databricks.v1+cell": {
     "cellMetadata": {},
     "inputWidgets": {},
     "nuid": "59b6bc73-a2a9-4687-808d-bb558558ef5d",
     "showTitle": false,
     "title": ""
    }
   },
   "outputs": [],
   "source": [
    "carkaidee.isnull().sum()"
   ]
  },
  {
   "cell_type": "code",
   "execution_count": 0,
   "metadata": {
    "application/vnd.databricks.v1+cell": {
     "cellMetadata": {},
     "inputWidgets": {},
     "nuid": "b271ac77-cdf3-4992-85c1-0167c28e46e2",
     "showTitle": false,
     "title": ""
    }
   },
   "outputs": [],
   "source": [
    "carkaidee.info()"
   ]
  },
  {
   "cell_type": "markdown",
   "metadata": {
    "application/vnd.databricks.v1+cell": {
     "cellMetadata": {},
     "inputWidgets": {},
     "nuid": "5fbe43a4-9dd4-4b65-8225-08a436a29915",
     "showTitle": false,
     "title": ""
    }
   },
   "source": [
    "## convert all non numeric in mileage"
   ]
  },
  {
   "cell_type": "code",
   "execution_count": 0,
   "metadata": {
    "application/vnd.databricks.v1+cell": {
     "cellMetadata": {},
     "inputWidgets": {},
     "nuid": "9bcd8f77-d121-4589-8b25-980ef3e9e427",
     "showTitle": false,
     "title": ""
    }
   },
   "outputs": [],
   "source": [
    "carkaidee['mileage'] = pd.to_numeric(carkaidee.mileage, errors = 'coerce')\n",
    "carkaidee.info()"
   ]
  },
  {
   "cell_type": "code",
   "execution_count": 0,
   "metadata": {
    "application/vnd.databricks.v1+cell": {
     "cellMetadata": {},
     "inputWidgets": {},
     "nuid": "7cd992e4-df5f-4ed8-a44d-14a42fdc73d7",
     "showTitle": false,
     "title": ""
    },
    "scrolled": true
   },
   "outputs": [],
   "source": [
    "carkaidee.describe().round(3)"
   ]
  },
  {
   "cell_type": "markdown",
   "metadata": {
    "application/vnd.databricks.v1+cell": {
     "cellMetadata": {},
     "inputWidgets": {},
     "nuid": "1b5921ea-6712-4d0e-9f0b-11b8888a2da1",
     "showTitle": false,
     "title": ""
    }
   },
   "source": [
    "## check outlier in price and mileage"
   ]
  },
  {
   "cell_type": "code",
   "execution_count": 0,
   "metadata": {
    "application/vnd.databricks.v1+cell": {
     "cellMetadata": {},
     "inputWidgets": {},
     "nuid": "ca4800d1-b000-478c-890b-5fab790d3469",
     "showTitle": false,
     "title": ""
    }
   },
   "outputs": [],
   "source": [
    "carkaidee.boxplot()"
   ]
  },
  {
   "cell_type": "code",
   "execution_count": 0,
   "metadata": {
    "application/vnd.databricks.v1+cell": {
     "cellMetadata": {},
     "inputWidgets": {},
     "nuid": "13a647b8-bbff-460c-aedf-b5054f5fac86",
     "showTitle": false,
     "title": ""
    }
   },
   "outputs": [],
   "source": [
    "carkaidee = carkaidee.drop(['desc','ad_id','timestamp'], axis=1)"
   ]
  },
  {
   "cell_type": "code",
   "execution_count": 0,
   "metadata": {
    "application/vnd.databricks.v1+cell": {
     "cellMetadata": {},
     "inputWidgets": {},
     "nuid": "3af3f7c6-4c34-4b7c-8a89-ffa54b9cf25b",
     "showTitle": false,
     "title": ""
    }
   },
   "outputs": [],
   "source": [
    "carkaidee.boxplot(column=['price', 'mileage', 'year'])"
   ]
  },
  {
   "cell_type": "code",
   "execution_count": 0,
   "metadata": {
    "application/vnd.databricks.v1+cell": {
     "cellMetadata": {},
     "inputWidgets": {},
     "nuid": "2dcfd91f-c83f-4b85-b9c6-007aeb114dbf",
     "showTitle": false,
     "title": ""
    }
   },
   "outputs": [],
   "source": [
    "carkaidee = carkaidee[(carkaidee.price > carkaidee.price.quantile(0.001)) & (carkaidee.price < carkaidee.price.quantile(0.96))]"
   ]
  },
  {
   "cell_type": "code",
   "execution_count": 0,
   "metadata": {
    "application/vnd.databricks.v1+cell": {
     "cellMetadata": {},
     "inputWidgets": {},
     "nuid": "cfbe8a4a-4fd9-44c5-9fcd-b5eaea11298f",
     "showTitle": false,
     "title": ""
    }
   },
   "outputs": [],
   "source": [
    "# carkaidee.boxplot(column=['price', 'mileage', 'year'])\n",
    "carkaidee.boxplot()"
   ]
  },
  {
   "cell_type": "markdown",
   "metadata": {
    "application/vnd.databricks.v1+cell": {
     "cellMetadata": {},
     "inputWidgets": {},
     "nuid": "1108f66e-b8ce-4e39-a90c-7c091edc5093",
     "showTitle": false,
     "title": ""
    }
   },
   "source": [
    "## clean out over 500,000 km mileage"
   ]
  },
  {
   "cell_type": "code",
   "execution_count": 0,
   "metadata": {
    "application/vnd.databricks.v1+cell": {
     "cellMetadata": {},
     "inputWidgets": {},
     "nuid": "e44fc14f-29a2-46e0-b3fa-dfe137e37d7b",
     "showTitle": false,
     "title": ""
    },
    "scrolled": false
   },
   "outputs": [],
   "source": [
    "carkaidee.mileage[carkaidee.mileage>500000] = np.nan"
   ]
  },
  {
   "cell_type": "code",
   "execution_count": 0,
   "metadata": {
    "application/vnd.databricks.v1+cell": {
     "cellMetadata": {},
     "inputWidgets": {},
     "nuid": "96b93c2f-8d1e-4309-b3a2-eb8667d5f745",
     "showTitle": false,
     "title": ""
    }
   },
   "outputs": [],
   "source": [
    "carkaidee.boxplot()"
   ]
  },
  {
   "cell_type": "markdown",
   "metadata": {
    "application/vnd.databricks.v1+cell": {
     "cellMetadata": {},
     "inputWidgets": {},
     "nuid": "5578ce43-12df-4d75-82c1-4b3d83c51327",
     "showTitle": false,
     "title": ""
    }
   },
   "source": [
    "## fill missing data in carkaidee"
   ]
  },
  {
   "cell_type": "code",
   "execution_count": 0,
   "metadata": {
    "application/vnd.databricks.v1+cell": {
     "cellMetadata": {},
     "inputWidgets": {},
     "nuid": "21f70074-3513-4ae7-91fb-1fd12cfbf68b",
     "showTitle": false,
     "title": ""
    }
   },
   "outputs": [],
   "source": [
    "def clean_data(df):\n",
    "  for col in df.columns:\n",
    "    mode = df[col].mode()[0]\n",
    "    df[col] = df[col].fillna(mode)\n",
    "  return df"
   ]
  },
  {
   "cell_type": "code",
   "execution_count": 0,
   "metadata": {
    "application/vnd.databricks.v1+cell": {
     "cellMetadata": {},
     "inputWidgets": {},
     "nuid": "7155f388-930d-4775-adff-88bf83e6b641",
     "showTitle": false,
     "title": ""
    }
   },
   "outputs": [],
   "source": [
    "clean = clean_data(carkaidee.copy())"
   ]
  },
  {
   "cell_type": "markdown",
   "metadata": {
    "application/vnd.databricks.v1+cell": {
     "cellMetadata": {},
     "inputWidgets": {},
     "nuid": "b02decc0-d300-457e-803b-d52df75c1737",
     "showTitle": false,
     "title": ""
    }
   },
   "source": [
    "# category data set"
   ]
  },
  {
   "cell_type": "code",
   "execution_count": 0,
   "metadata": {
    "application/vnd.databricks.v1+cell": {
     "cellMetadata": {},
     "inputWidgets": {},
     "nuid": "cd8d2d81-1291-4454-949e-1848947309b6",
     "showTitle": false,
     "title": ""
    }
   },
   "outputs": [],
   "source": [
    "clean.car_type = clean.car_type.astype('category')\n",
    "clean.transmission = clean.transmission.astype('category')\n",
    "clean.fuel = clean.fuel.astype('category')"
   ]
  },
  {
   "cell_type": "code",
   "execution_count": 0,
   "metadata": {
    "application/vnd.databricks.v1+cell": {
     "cellMetadata": {},
     "inputWidgets": {},
     "nuid": "8df42a60-01b3-47c3-b4a2-6214b1c1ef5d",
     "showTitle": false,
     "title": ""
    }
   },
   "outputs": [],
   "source": [
    "clean.boxplot('mileage')"
   ]
  },
  {
   "cell_type": "code",
   "execution_count": 0,
   "metadata": {
    "application/vnd.databricks.v1+cell": {
     "cellMetadata": {},
     "inputWidgets": {},
     "nuid": "af68d766-ea06-4fae-8ba3-b4514b0fb4d9",
     "showTitle": false,
     "title": ""
    }
   },
   "outputs": [],
   "source": [
    "display(clean.sample(5))"
   ]
  },
  {
   "cell_type": "markdown",
   "metadata": {
    "application/vnd.databricks.v1+cell": {
     "cellMetadata": {},
     "inputWidgets": {},
     "nuid": "8507af58-087b-4ff6-ab92-166caca81aa6",
     "showTitle": false,
     "title": ""
    }
   },
   "source": [
    "# Add car_age dataset"
   ]
  },
  {
   "cell_type": "code",
   "execution_count": 0,
   "metadata": {
    "application/vnd.databricks.v1+cell": {
     "cellMetadata": {},
     "inputWidgets": {},
     "nuid": "2e15d7df-727d-476b-ac2f-144d3fd6827b",
     "showTitle": false,
     "title": ""
    }
   },
   "outputs": [],
   "source": [
    "clean['car_age'] = 2020 - clean.year"
   ]
  },
  {
   "cell_type": "code",
   "execution_count": 0,
   "metadata": {
    "application/vnd.databricks.v1+cell": {
     "cellMetadata": {},
     "inputWidgets": {},
     "nuid": "48dd485d-88a8-449d-b162-c5afeaaeb70e",
     "showTitle": false,
     "title": ""
    }
   },
   "outputs": [],
   "source": [
    "clean.boxplot('car_age')"
   ]
  },
  {
   "cell_type": "code",
   "execution_count": 0,
   "metadata": {
    "application/vnd.databricks.v1+cell": {
     "cellMetadata": {},
     "inputWidgets": {},
     "nuid": "29cf2128-e87b-4d7c-8317-2582d5e0e78a",
     "showTitle": false,
     "title": ""
    }
   },
   "outputs": [],
   "source": [
    "clean.loc[clean['car_age']>50].sort_values(by='car_age', ascending = False)"
   ]
  },
  {
   "cell_type": "code",
   "execution_count": 0,
   "metadata": {
    "application/vnd.databricks.v1+cell": {
     "cellMetadata": {},
     "inputWidgets": {},
     "nuid": "b52197ed-173d-4b93-88d7-40090674bde1",
     "showTitle": false,
     "title": ""
    }
   },
   "outputs": [],
   "source": [
    "clean.info()"
   ]
  },
  {
   "cell_type": "markdown",
   "metadata": {
    "application/vnd.databricks.v1+cell": {
     "cellMetadata": {},
     "inputWidgets": {},
     "nuid": "94ae29c1-9828-40fb-b7ea-fa56c2c9787e",
     "showTitle": false,
     "title": ""
    }
   },
   "source": [
    "# 3.Extract feature"
   ]
  },
  {
   "cell_type": "code",
   "execution_count": 0,
   "metadata": {
    "application/vnd.databricks.v1+cell": {
     "cellMetadata": {},
     "inputWidgets": {},
     "nuid": "9c312a3a-bd75-4f0f-9d68-d22a1ecf18df",
     "showTitle": false,
     "title": ""
    }
   },
   "outputs": [],
   "source": [
    "clean.head()"
   ]
  },
  {
   "cell_type": "code",
   "execution_count": 0,
   "metadata": {
    "application/vnd.databricks.v1+cell": {
     "cellMetadata": {},
     "inputWidgets": {},
     "nuid": "90afff13-61d0-4c0f-a2db-840712755b39",
     "showTitle": false,
     "title": ""
    }
   },
   "outputs": [],
   "source": [
    "dummy = pd.get_dummies(clean[['location','brand','model', 'color','fuel', 'transmission', 'car_type']])\n",
    "clean1 = pd.concat([clean.copy(), dummy], axis=1)\n",
    "clean1 = clean1._get_numeric_data()"
   ]
  },
  {
   "cell_type": "code",
   "execution_count": 0,
   "metadata": {
    "application/vnd.databricks.v1+cell": {
     "cellMetadata": {},
     "inputWidgets": {},
     "nuid": "ec2ed18d-0be0-4883-a7c9-62bc1514f5d0",
     "showTitle": false,
     "title": ""
    }
   },
   "outputs": [],
   "source": [
    "clean1.head()"
   ]
  },
  {
   "cell_type": "code",
   "execution_count": 0,
   "metadata": {
    "application/vnd.databricks.v1+cell": {
     "cellMetadata": {},
     "inputWidgets": {},
     "nuid": "6223d158-4fc6-42ba-bbfd-4e46e7f8e182",
     "showTitle": false,
     "title": ""
    }
   },
   "outputs": [],
   "source": [
    "clean1.columns"
   ]
  },
  {
   "cell_type": "code",
   "execution_count": 0,
   "metadata": {
    "application/vnd.databricks.v1+cell": {
     "cellMetadata": {},
     "inputWidgets": {},
     "nuid": "2eb742c4-13de-4af0-96bd-8093a83c6d70",
     "showTitle": false,
     "title": ""
    }
   },
   "outputs": [],
   "source": [
    "clean1.location_กรุงเทพมหานคร"
   ]
  },
  {
   "cell_type": "code",
   "execution_count": 0,
   "metadata": {
    "application/vnd.databricks.v1+cell": {
     "cellMetadata": {},
     "inputWidgets": {},
     "nuid": "45e5e408-bd46-4177-bc35-f0dc09915fd0",
     "showTitle": false,
     "title": ""
    }
   },
   "outputs": [],
   "source": [
    "def split_data_price(df):\n",
    "  y = df['price']\n",
    "  X = df.drop('price', axis=1)\n",
    "  return X, y"
   ]
  },
  {
   "cell_type": "code",
   "execution_count": 0,
   "metadata": {
    "application/vnd.databricks.v1+cell": {
     "cellMetadata": {},
     "inputWidgets": {},
     "nuid": "0b6e148e-371d-4d35-9926-84a0e9cec045",
     "showTitle": false,
     "title": ""
    }
   },
   "outputs": [],
   "source": [
    "X, y = split_data_price(clean1.copy())"
   ]
  },
  {
   "cell_type": "code",
   "execution_count": 0,
   "metadata": {
    "application/vnd.databricks.v1+cell": {
     "cellMetadata": {},
     "inputWidgets": {},
     "nuid": "56732917-0e4b-42f5-83d3-74634d2fcbfc",
     "showTitle": false,
     "title": ""
    }
   },
   "outputs": [],
   "source": [
    "print(X.shape)\n",
    "X.head()"
   ]
  },
  {
   "cell_type": "code",
   "execution_count": 0,
   "metadata": {
    "application/vnd.databricks.v1+cell": {
     "cellMetadata": {},
     "inputWidgets": {},
     "nuid": "75d3742a-08f6-485f-853b-a311639682b7",
     "showTitle": false,
     "title": ""
    }
   },
   "outputs": [],
   "source": [
    "print(X.shape)\n",
    "y.head()"
   ]
  },
  {
   "cell_type": "markdown",
   "metadata": {
    "application/vnd.databricks.v1+cell": {
     "cellMetadata": {},
     "inputWidgets": {},
     "nuid": "4d83d252-50a0-4b3e-9821-30b70ce04ffa",
     "showTitle": false,
     "title": ""
    }
   },
   "source": [
    "## create train and test set"
   ]
  },
  {
   "cell_type": "code",
   "execution_count": 0,
   "metadata": {
    "application/vnd.databricks.v1+cell": {
     "cellMetadata": {},
     "inputWidgets": {},
     "nuid": "445ae4a7-f1a9-4f6a-869f-2e855a7c5a8f",
     "showTitle": false,
     "title": ""
    }
   },
   "outputs": [],
   "source": [
    "X_train, X_test, y_train, y_test = train_test_split(X,y, test_size= 0.2, random_state = 42)"
   ]
  },
  {
   "cell_type": "markdown",
   "metadata": {
    "application/vnd.databricks.v1+cell": {
     "cellMetadata": {},
     "inputWidgets": {},
     "nuid": "6e235c1d-22ff-456b-85b6-0c515e40524a",
     "showTitle": false,
     "title": ""
    }
   },
   "source": [
    "# 4.Train model (Regression)"
   ]
  },
  {
   "cell_type": "code",
   "execution_count": 0,
   "metadata": {
    "application/vnd.databricks.v1+cell": {
     "cellMetadata": {},
     "inputWidgets": {},
     "nuid": "92864975-ed66-4518-80cb-de8ef576cd4b",
     "showTitle": false,
     "title": ""
    }
   },
   "outputs": [],
   "source": [
    "from sklearn.ensemble import GradientBoostingRegressor, RandomForestRegressor\n",
    "from sklearn.metrics import mean_squared_error"
   ]
  },
  {
   "cell_type": "code",
   "execution_count": 0,
   "metadata": {
    "application/vnd.databricks.v1+cell": {
     "cellMetadata": {},
     "inputWidgets": {},
     "nuid": "f0d9a7d1-f348-47da-83f3-3acc438be9c3",
     "showTitle": false,
     "title": ""
    }
   },
   "outputs": [],
   "source": [
    "forest = RandomForestRegressor()\n",
    "forest.fit(X_train, y_train)"
   ]
  },
  {
   "cell_type": "markdown",
   "metadata": {
    "application/vnd.databricks.v1+cell": {
     "cellMetadata": {},
     "inputWidgets": {},
     "nuid": "135c60e0-bc72-4dc6-8930-448409596e79",
     "showTitle": false,
     "title": ""
    }
   },
   "source": [
    "# Evaluation (Regression) with mean squar error ; mse"
   ]
  },
  {
   "cell_type": "code",
   "execution_count": 0,
   "metadata": {
    "application/vnd.databricks.v1+cell": {
     "cellMetadata": {},
     "inputWidgets": {},
     "nuid": "945addcb-5dd4-42ba-9110-98422cd00709",
     "showTitle": false,
     "title": ""
    }
   },
   "outputs": [],
   "source": [
    "y_pred = forest.predict(X_test)"
   ]
  },
  {
   "cell_type": "code",
   "execution_count": 0,
   "metadata": {
    "application/vnd.databricks.v1+cell": {
     "cellMetadata": {},
     "inputWidgets": {},
     "nuid": "d664e326-1b9d-44b7-9504-fb7f191a0e36",
     "showTitle": false,
     "title": ""
    }
   },
   "outputs": [],
   "source": [
    "print('R2 :', forest.score(X_test, y_test))"
   ]
  },
  {
   "cell_type": "code",
   "execution_count": 0,
   "metadata": {
    "application/vnd.databricks.v1+cell": {
     "cellMetadata": {},
     "inputWidgets": {},
     "nuid": "c29529cc-60c6-4ade-9c11-8ab6b87a1d55",
     "showTitle": false,
     "title": ""
    }
   },
   "outputs": [],
   "source": [
    "forest_mse = mean_squared_error(y_test, y_pred)\n",
    "print('Random forest model MSE  :', forest_mse)"
   ]
  },
  {
   "cell_type": "markdown",
   "metadata": {
    "application/vnd.databricks.v1+cell": {
     "cellMetadata": {},
     "inputWidgets": {},
     "nuid": "50f19cfb-0066-4613-ab86-04fabbf23885",
     "showTitle": false,
     "title": ""
    }
   },
   "source": [
    "## Root mean sqaur error"
   ]
  },
  {
   "cell_type": "code",
   "execution_count": 0,
   "metadata": {
    "application/vnd.databricks.v1+cell": {
     "cellMetadata": {},
     "inputWidgets": {},
     "nuid": "cd3c1605-c5d9-4713-a3d9-00d7c92ffe6a",
     "showTitle": false,
     "title": ""
    }
   },
   "outputs": [],
   "source": [
    "import math\n",
    "print('RSME :', math.sqrt(forest_mse))"
   ]
  },
  {
   "cell_type": "code",
   "execution_count": 0,
   "metadata": {
    "application/vnd.databricks.v1+cell": {
     "cellMetadata": {},
     "inputWidgets": {},
     "nuid": "5e01f7f4-5a6b-4907-bb7d-2956f6fef290",
     "showTitle": false,
     "title": ""
    }
   },
   "outputs": [],
   "source": []
  }
 ],
 "metadata": {
  "application/vnd.databricks.v1+notebook": {
   "dashboards": [],
   "language": "python",
   "notebookMetadata": {},
   "notebookName": "RODKAIDEEsecondhandCarPrice",
   "widgets": {}
  },
  "kernelspec": {
   "display_name": "Python 3.7 (tensorflow)",
   "language": "python",
   "name": "tensorflow"
  },
  "language_info": {
   "codemirror_mode": {
    "name": "ipython",
    "version": 3
   },
   "file_extension": ".py",
   "mimetype": "text/x-python",
   "name": "python",
   "nbconvert_exporter": "python",
   "pygments_lexer": "ipython3",
   "version": "3.7.7"
  }
 },
 "nbformat": 4,
 "nbformat_minor": 0
}
