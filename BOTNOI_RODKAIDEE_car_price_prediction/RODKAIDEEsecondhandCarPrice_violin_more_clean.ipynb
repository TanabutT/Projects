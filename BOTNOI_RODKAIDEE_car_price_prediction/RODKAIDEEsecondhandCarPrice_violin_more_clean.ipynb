{
 "cells": [
  {
   "cell_type": "code",
   "execution_count": 0,
   "metadata": {
    "application/vnd.databricks.v1+cell": {
     "cellMetadata": {},
     "inputWidgets": {},
     "nuid": "b6e89f41-9ae0-4c20-86d3-a98d1be34e85",
     "showTitle": false,
     "title": ""
    }
   },
   "outputs": [],
   "source": [
    "import pandas as pd\n",
    "import numpy as np\n",
    "import seaborn as sns\n",
    "import matplotlib.pyplot as plt\n",
    "from sklearn.model_selection import train_test_split"
   ]
  },
  {
   "cell_type": "code",
   "execution_count": 0,
   "metadata": {
    "application/vnd.databricks.v1+cell": {
     "cellMetadata": {},
     "inputWidgets": {},
     "nuid": "febb9f82-2675-4b2e-aa97-4fd455530988",
     "showTitle": false,
     "title": ""
    }
   },
   "outputs": [],
   "source": [
    "def load_data():\n",
    "  train_df = pd.read_csv('train.csv')\n",
    "  test_df = pd.read_csv('test.csv')\n",
    "  return train_df, test_df"
   ]
  },
  {
   "cell_type": "markdown",
   "metadata": {
    "application/vnd.databricks.v1+cell": {
     "cellMetadata": {},
     "inputWidgets": {},
     "nuid": "d5498d7a-1d0c-435d-982c-98812b1f3f17",
     "showTitle": false,
     "title": ""
    }
   },
   "source": [
    "# 1.Load Data"
   ]
  },
  {
   "cell_type": "code",
   "execution_count": 0,
   "metadata": {
    "application/vnd.databricks.v1+cell": {
     "cellMetadata": {},
     "inputWidgets": {},
     "nuid": "4fad541e-f4b0-4db1-ada3-447d42f78c02",
     "showTitle": false,
     "title": ""
    }
   },
   "outputs": [],
   "source": [
    "train_df, test_df = load_data()"
   ]
  },
  {
   "cell_type": "code",
   "execution_count": 0,
   "metadata": {
    "application/vnd.databricks.v1+cell": {
     "cellMetadata": {},
     "inputWidgets": {},
     "nuid": "11bc9474-3be6-4ef8-8986-4b9c770b5ac7",
     "showTitle": false,
     "title": ""
    }
   },
   "outputs": [],
   "source": [
    "carkaidee = pd.concat([train_df, test_df], axis=0)"
   ]
  },
  {
   "cell_type": "code",
   "execution_count": 0,
   "metadata": {
    "application/vnd.databricks.v1+cell": {
     "cellMetadata": {},
     "inputWidgets": {},
     "nuid": "894996d5-993e-42a6-bb0e-7e9a5a5bb827",
     "showTitle": false,
     "title": ""
    }
   },
   "outputs": [],
   "source": [
    "carkaidee.shape"
   ]
  },
  {
   "cell_type": "markdown",
   "metadata": {
    "application/vnd.databricks.v1+cell": {
     "cellMetadata": {},
     "inputWidgets": {},
     "nuid": "994060c7-cfc9-42dc-b97d-3d0f28878fb4",
     "showTitle": false,
     "title": ""
    }
   },
   "source": [
    "## train_df data wrangling"
   ]
  },
  {
   "cell_type": "code",
   "execution_count": 0,
   "metadata": {
    "application/vnd.databricks.v1+cell": {
     "cellMetadata": {},
     "inputWidgets": {},
     "nuid": "c6bb1da4-e102-4896-8398-c71ed6190cbc",
     "showTitle": false,
     "title": ""
    }
   },
   "outputs": [],
   "source": [
    "carkaidee.isnull().sum()"
   ]
  },
  {
   "cell_type": "code",
   "execution_count": 0,
   "metadata": {
    "application/vnd.databricks.v1+cell": {
     "cellMetadata": {},
     "inputWidgets": {},
     "nuid": "69bef87a-0e9d-4747-bc81-741c6c7f1edc",
     "showTitle": false,
     "title": ""
    }
   },
   "outputs": [],
   "source": [
    "carkaidee.info()"
   ]
  },
  {
   "cell_type": "markdown",
   "metadata": {
    "application/vnd.databricks.v1+cell": {
     "cellMetadata": {},
     "inputWidgets": {},
     "nuid": "4fade3d3-115c-4ba5-8832-6b7825a0eae9",
     "showTitle": false,
     "title": ""
    }
   },
   "source": [
    "## convert all non numeric in mileage"
   ]
  },
  {
   "cell_type": "code",
   "execution_count": 0,
   "metadata": {
    "application/vnd.databricks.v1+cell": {
     "cellMetadata": {},
     "inputWidgets": {},
     "nuid": "e8f2a334-21db-4610-8f06-173e954846cf",
     "showTitle": false,
     "title": ""
    }
   },
   "outputs": [],
   "source": [
    "carkaidee['mileage'] = pd.to_numeric(carkaidee.mileage, errors = 'coerce')\n",
    "carkaidee.info()"
   ]
  },
  {
   "cell_type": "code",
   "execution_count": 0,
   "metadata": {
    "application/vnd.databricks.v1+cell": {
     "cellMetadata": {},
     "inputWidgets": {},
     "nuid": "53af9df8-550e-4dd2-a37d-ce31aeea3981",
     "showTitle": false,
     "title": ""
    },
    "scrolled": true
   },
   "outputs": [],
   "source": [
    "carkaidee.describe().round(3)"
   ]
  },
  {
   "cell_type": "markdown",
   "metadata": {
    "application/vnd.databricks.v1+cell": {
     "cellMetadata": {},
     "inputWidgets": {},
     "nuid": "83a72126-1127-4cd1-9882-dd891a6315ed",
     "showTitle": false,
     "title": ""
    }
   },
   "source": [
    "## check outlier in price and mileage"
   ]
  },
  {
   "cell_type": "code",
   "execution_count": 0,
   "metadata": {
    "application/vnd.databricks.v1+cell": {
     "cellMetadata": {},
     "inputWidgets": {},
     "nuid": "3ded324b-f525-424d-984c-3f878260f077",
     "showTitle": false,
     "title": ""
    }
   },
   "outputs": [],
   "source": [
    "carkaidee.boxplot()"
   ]
  },
  {
   "cell_type": "code",
   "execution_count": 0,
   "metadata": {
    "application/vnd.databricks.v1+cell": {
     "cellMetadata": {},
     "inputWidgets": {},
     "nuid": "e38783f5-dea0-4c6b-8c8e-c3b47cec7cf2",
     "showTitle": false,
     "title": ""
    }
   },
   "outputs": [],
   "source": [
    "carkaidee = carkaidee.drop(['desc','ad_id','timestamp'], axis=1)"
   ]
  },
  {
   "cell_type": "code",
   "execution_count": 0,
   "metadata": {
    "application/vnd.databricks.v1+cell": {
     "cellMetadata": {},
     "inputWidgets": {},
     "nuid": "4546c876-3306-4bb4-824b-078babfe8770",
     "showTitle": false,
     "title": ""
    }
   },
   "outputs": [],
   "source": [
    "carkaidee.boxplot(column=['price', 'mileage', 'year'])"
   ]
  },
  {
   "cell_type": "code",
   "execution_count": 0,
   "metadata": {
    "application/vnd.databricks.v1+cell": {
     "cellMetadata": {},
     "inputWidgets": {},
     "nuid": "0499a636-9f29-42d9-af15-5ea17e22cfff",
     "showTitle": false,
     "title": ""
    }
   },
   "outputs": [],
   "source": [
    "carkaidee = carkaidee[(carkaidee.price > carkaidee.price.quantile(0.001)) & (carkaidee.price < carkaidee.price.quantile(0.96))]"
   ]
  },
  {
   "cell_type": "code",
   "execution_count": 0,
   "metadata": {
    "application/vnd.databricks.v1+cell": {
     "cellMetadata": {},
     "inputWidgets": {},
     "nuid": "b2665e52-d392-4fc3-a6d8-458f8d6ceb24",
     "showTitle": false,
     "title": ""
    }
   },
   "outputs": [],
   "source": [
    "# carkaidee.boxplot(column=['price', 'mileage', 'year'])\n",
    "carkaidee.boxplot()"
   ]
  },
  {
   "cell_type": "markdown",
   "metadata": {
    "application/vnd.databricks.v1+cell": {
     "cellMetadata": {},
     "inputWidgets": {},
     "nuid": "5ad88a97-f8fd-4611-9cb0-d81ee8325ab1",
     "showTitle": false,
     "title": ""
    }
   },
   "source": [
    "### clean out over 300,000 km mileage"
   ]
  },
  {
   "cell_type": "code",
   "execution_count": 0,
   "metadata": {
    "application/vnd.databricks.v1+cell": {
     "cellMetadata": {},
     "inputWidgets": {},
     "nuid": "21e4121d-1c27-468d-9944-24528d5c2042",
     "showTitle": false,
     "title": ""
    },
    "scrolled": false
   },
   "outputs": [],
   "source": [
    "carkaidee.mileage[carkaidee.mileage>300000] = np.nan"
   ]
  },
  {
   "cell_type": "code",
   "execution_count": 0,
   "metadata": {
    "application/vnd.databricks.v1+cell": {
     "cellMetadata": {},
     "inputWidgets": {},
     "nuid": "2743d3d7-d5b7-4a6e-bc39-e8a7f887b543",
     "showTitle": false,
     "title": ""
    }
   },
   "outputs": [],
   "source": [
    "carkaidee.boxplot()"
   ]
  },
  {
   "cell_type": "code",
   "execution_count": 0,
   "metadata": {
    "application/vnd.databricks.v1+cell": {
     "cellMetadata": {},
     "inputWidgets": {},
     "nuid": "dbe46f11-bbf7-4994-a838-06c168ad953f",
     "showTitle": false,
     "title": ""
    }
   },
   "outputs": [],
   "source": [
    "sns.violinplot(x= 'year', orient = 'v', data= carkaidee )"
   ]
  },
  {
   "cell_type": "code",
   "execution_count": 0,
   "metadata": {
    "application/vnd.databricks.v1+cell": {
     "cellMetadata": {},
     "inputWidgets": {},
     "nuid": "409c6404-5bd9-4b81-80a6-7bc95c531706",
     "showTitle": false,
     "title": ""
    }
   },
   "outputs": [],
   "source": [
    "carkaidee.year[carkaidee.year<1990] = np.nan"
   ]
  },
  {
   "cell_type": "markdown",
   "metadata": {
    "application/vnd.databricks.v1+cell": {
     "cellMetadata": {},
     "inputWidgets": {},
     "nuid": "994823f4-5229-41d1-a26e-22ef70973f3d",
     "showTitle": false,
     "title": ""
    }
   },
   "source": [
    "## fill missing data in carkaidee"
   ]
  },
  {
   "cell_type": "code",
   "execution_count": 0,
   "metadata": {
    "application/vnd.databricks.v1+cell": {
     "cellMetadata": {},
     "inputWidgets": {},
     "nuid": "4851b660-bbaf-438d-ac20-ae7ff635c278",
     "showTitle": false,
     "title": ""
    }
   },
   "outputs": [],
   "source": [
    "def clean_data(df):\n",
    "  for col in df.columns:\n",
    "    mode = df[col].mode()[0]\n",
    "    df[col] = df[col].fillna(mode)\n",
    "  return df"
   ]
  },
  {
   "cell_type": "code",
   "execution_count": 0,
   "metadata": {
    "application/vnd.databricks.v1+cell": {
     "cellMetadata": {},
     "inputWidgets": {},
     "nuid": "667c2d14-a7f3-4482-bc76-4ec4bb203f1f",
     "showTitle": false,
     "title": ""
    }
   },
   "outputs": [],
   "source": [
    "clean = clean_data(carkaidee.copy())"
   ]
  },
  {
   "cell_type": "markdown",
   "metadata": {
    "application/vnd.databricks.v1+cell": {
     "cellMetadata": {},
     "inputWidgets": {},
     "nuid": "40adc874-188f-4d4a-a7d5-2de339dac474",
     "showTitle": false,
     "title": ""
    }
   },
   "source": [
    "# category data set"
   ]
  },
  {
   "cell_type": "code",
   "execution_count": 0,
   "metadata": {
    "application/vnd.databricks.v1+cell": {
     "cellMetadata": {},
     "inputWidgets": {},
     "nuid": "de1dd297-4528-4404-80ff-a0d972fe3699",
     "showTitle": false,
     "title": ""
    }
   },
   "outputs": [],
   "source": [
    "clean.car_type = clean.car_type.astype('category')\n",
    "clean.transmission = clean.transmission.astype('category')\n",
    "clean.fuel = clean.fuel.astype('category')"
   ]
  },
  {
   "cell_type": "code",
   "execution_count": 0,
   "metadata": {
    "application/vnd.databricks.v1+cell": {
     "cellMetadata": {},
     "inputWidgets": {},
     "nuid": "de320fb0-8ea8-409f-8bf5-7ad325d19b4b",
     "showTitle": false,
     "title": ""
    }
   },
   "outputs": [],
   "source": [
    "clean.boxplot('mileage')"
   ]
  },
  {
   "cell_type": "code",
   "execution_count": 0,
   "metadata": {
    "application/vnd.databricks.v1+cell": {
     "cellMetadata": {},
     "inputWidgets": {},
     "nuid": "60d21eff-d321-4376-baf4-2c736d8ea13d",
     "showTitle": false,
     "title": ""
    }
   },
   "outputs": [],
   "source": [
    "display(clean.sample(5))"
   ]
  },
  {
   "cell_type": "markdown",
   "metadata": {
    "application/vnd.databricks.v1+cell": {
     "cellMetadata": {},
     "inputWidgets": {},
     "nuid": "4546564f-abed-4f6b-ade7-b82dc62c5712",
     "showTitle": false,
     "title": ""
    }
   },
   "source": [
    "# Add car_age dataset"
   ]
  },
  {
   "cell_type": "code",
   "execution_count": 0,
   "metadata": {
    "application/vnd.databricks.v1+cell": {
     "cellMetadata": {},
     "inputWidgets": {},
     "nuid": "e0d7f65e-3785-4a56-83bd-7f9fd4a9d787",
     "showTitle": false,
     "title": ""
    }
   },
   "outputs": [],
   "source": [
    "clean['car_age'] = 2020 - clean.year"
   ]
  },
  {
   "cell_type": "code",
   "execution_count": 0,
   "metadata": {
    "application/vnd.databricks.v1+cell": {
     "cellMetadata": {},
     "inputWidgets": {},
     "nuid": "eb60aa6e-31a2-422f-8ae2-6800bb57c951",
     "showTitle": false,
     "title": ""
    }
   },
   "outputs": [],
   "source": [
    "clean.boxplot('car_age')"
   ]
  },
  {
   "cell_type": "code",
   "execution_count": 0,
   "metadata": {
    "application/vnd.databricks.v1+cell": {
     "cellMetadata": {},
     "inputWidgets": {},
     "nuid": "66a502ee-2f42-4b7b-9854-8c72588c2d06",
     "showTitle": false,
     "title": ""
    }
   },
   "outputs": [],
   "source": [
    "sns.violinplot(x= 'car_age', orient = 'v', data= clean )"
   ]
  },
  {
   "cell_type": "code",
   "execution_count": 0,
   "metadata": {
    "application/vnd.databricks.v1+cell": {
     "cellMetadata": {},
     "inputWidgets": {},
     "nuid": "4b742a1f-8ee1-4cfd-acdb-252fcff874b5",
     "showTitle": false,
     "title": ""
    }
   },
   "outputs": [],
   "source": [
    "sns.violinplot(x= 'mileage', orient = 'v', data= clean )"
   ]
  },
  {
   "cell_type": "code",
   "execution_count": 0,
   "metadata": {
    "application/vnd.databricks.v1+cell": {
     "cellMetadata": {},
     "inputWidgets": {},
     "nuid": "8d28cecf-9fa1-47ca-b129-60c2a250d15a",
     "showTitle": false,
     "title": ""
    }
   },
   "outputs": [],
   "source": [
    "clean.loc[clean['car_age']>50].sort_values(by='car_age', ascending = False)"
   ]
  },
  {
   "cell_type": "code",
   "execution_count": 0,
   "metadata": {
    "application/vnd.databricks.v1+cell": {
     "cellMetadata": {},
     "inputWidgets": {},
     "nuid": "57ca3ee0-cc83-4b65-a8d0-707a2bc89ec7",
     "showTitle": false,
     "title": ""
    }
   },
   "outputs": [],
   "source": [
    "clean.info()"
   ]
  },
  {
   "cell_type": "markdown",
   "metadata": {
    "application/vnd.databricks.v1+cell": {
     "cellMetadata": {},
     "inputWidgets": {},
     "nuid": "241ed3e9-80d5-4fa9-8cf5-4decb637d768",
     "showTitle": false,
     "title": ""
    }
   },
   "source": [
    "# 3.Extract feature"
   ]
  },
  {
   "cell_type": "code",
   "execution_count": 0,
   "metadata": {
    "application/vnd.databricks.v1+cell": {
     "cellMetadata": {},
     "inputWidgets": {},
     "nuid": "c03cb24c-6474-43cf-89d6-a8525f861074",
     "showTitle": false,
     "title": ""
    }
   },
   "outputs": [],
   "source": [
    "clean.head()"
   ]
  },
  {
   "cell_type": "code",
   "execution_count": 0,
   "metadata": {
    "application/vnd.databricks.v1+cell": {
     "cellMetadata": {},
     "inputWidgets": {},
     "nuid": "d085ee7f-21ed-4c29-ab34-fd806510497b",
     "showTitle": false,
     "title": ""
    }
   },
   "outputs": [],
   "source": [
    "dummy = pd.get_dummies(clean[['location','brand','model', 'color','fuel', 'transmission', 'car_type']])\n",
    "clean1 = pd.concat([clean.copy(), dummy], axis=1)\n",
    "clean1 = clean1._get_numeric_data()"
   ]
  },
  {
   "cell_type": "code",
   "execution_count": 0,
   "metadata": {
    "application/vnd.databricks.v1+cell": {
     "cellMetadata": {},
     "inputWidgets": {},
     "nuid": "76f95351-932b-409a-8b36-704c65313028",
     "showTitle": false,
     "title": ""
    }
   },
   "outputs": [],
   "source": [
    "clean1.head()"
   ]
  },
  {
   "cell_type": "code",
   "execution_count": 0,
   "metadata": {
    "application/vnd.databricks.v1+cell": {
     "cellMetadata": {},
     "inputWidgets": {},
     "nuid": "2bcafead-e0da-4041-ba60-5ab5144e9df1",
     "showTitle": false,
     "title": ""
    }
   },
   "outputs": [],
   "source": [
    "clean1.columns"
   ]
  },
  {
   "cell_type": "code",
   "execution_count": 0,
   "metadata": {
    "application/vnd.databricks.v1+cell": {
     "cellMetadata": {},
     "inputWidgets": {},
     "nuid": "0e1c351e-c815-41a7-9666-bdb7675dba34",
     "showTitle": false,
     "title": ""
    }
   },
   "outputs": [],
   "source": [
    "clean1.location_กรุงเทพมหานคร"
   ]
  },
  {
   "cell_type": "code",
   "execution_count": 0,
   "metadata": {
    "application/vnd.databricks.v1+cell": {
     "cellMetadata": {},
     "inputWidgets": {},
     "nuid": "d6090f84-debe-4845-965b-8ae2b7013132",
     "showTitle": false,
     "title": ""
    }
   },
   "outputs": [],
   "source": [
    "def split_data_price(df):\n",
    "  y = df['price']\n",
    "  X = df.drop('price', axis=1)\n",
    "  return X, y"
   ]
  },
  {
   "cell_type": "code",
   "execution_count": 0,
   "metadata": {
    "application/vnd.databricks.v1+cell": {
     "cellMetadata": {},
     "inputWidgets": {},
     "nuid": "b2d63eac-6724-40f4-9a0e-f504a4d2dea9",
     "showTitle": false,
     "title": ""
    }
   },
   "outputs": [],
   "source": [
    "X, y = split_data_price(clean1.copy())"
   ]
  },
  {
   "cell_type": "code",
   "execution_count": 0,
   "metadata": {
    "application/vnd.databricks.v1+cell": {
     "cellMetadata": {},
     "inputWidgets": {},
     "nuid": "5eff2183-7313-4baa-9fc2-6d2e166a2dee",
     "showTitle": false,
     "title": ""
    }
   },
   "outputs": [],
   "source": [
    "print(X.shape)\n",
    "X.head()"
   ]
  },
  {
   "cell_type": "code",
   "execution_count": 0,
   "metadata": {
    "application/vnd.databricks.v1+cell": {
     "cellMetadata": {},
     "inputWidgets": {},
     "nuid": "7050dbe7-f66f-475c-91d6-da33f967e0da",
     "showTitle": false,
     "title": ""
    }
   },
   "outputs": [],
   "source": [
    "print(X.shape)\n",
    "y.head()"
   ]
  },
  {
   "cell_type": "markdown",
   "metadata": {
    "application/vnd.databricks.v1+cell": {
     "cellMetadata": {},
     "inputWidgets": {},
     "nuid": "fdbbcc8c-bfd3-41d3-ab9f-a273ee846ba4",
     "showTitle": false,
     "title": ""
    }
   },
   "source": [
    "## create train and test set"
   ]
  },
  {
   "cell_type": "code",
   "execution_count": 0,
   "metadata": {
    "application/vnd.databricks.v1+cell": {
     "cellMetadata": {},
     "inputWidgets": {},
     "nuid": "b372410b-d29f-4b96-ae2a-a4fe3e9376a1",
     "showTitle": false,
     "title": ""
    }
   },
   "outputs": [],
   "source": [
    "X_train, X_test, y_train, y_test = train_test_split(X,y, test_size= 0.2, random_state = 42)"
   ]
  },
  {
   "cell_type": "markdown",
   "metadata": {
    "application/vnd.databricks.v1+cell": {
     "cellMetadata": {},
     "inputWidgets": {},
     "nuid": "a5b0f335-9fa1-49ed-a7fa-909834c86c11",
     "showTitle": false,
     "title": ""
    }
   },
   "source": [
    "# 4.Train model (Regression)"
   ]
  },
  {
   "cell_type": "code",
   "execution_count": 0,
   "metadata": {
    "application/vnd.databricks.v1+cell": {
     "cellMetadata": {},
     "inputWidgets": {},
     "nuid": "55cfe290-8781-4491-90f5-1ce7816896c8",
     "showTitle": false,
     "title": ""
    }
   },
   "outputs": [],
   "source": [
    "from sklearn.ensemble import GradientBoostingRegressor, RandomForestRegressor\n",
    "from sklearn.metrics import mean_squared_error"
   ]
  },
  {
   "cell_type": "code",
   "execution_count": 0,
   "metadata": {
    "application/vnd.databricks.v1+cell": {
     "cellMetadata": {},
     "inputWidgets": {},
     "nuid": "0095eb20-02c2-4812-9d42-9132cfe383a7",
     "showTitle": false,
     "title": ""
    }
   },
   "outputs": [],
   "source": [
    "forest = RandomForestRegressor()\n",
    "forest.fit(X_train, y_train)"
   ]
  },
  {
   "cell_type": "markdown",
   "metadata": {
    "application/vnd.databricks.v1+cell": {
     "cellMetadata": {},
     "inputWidgets": {},
     "nuid": "b12c6878-6c7b-48bc-b3eb-8063764dcca7",
     "showTitle": false,
     "title": ""
    }
   },
   "source": [
    "# Evaluation (Regression) with mean squar error ; mse"
   ]
  },
  {
   "cell_type": "code",
   "execution_count": 0,
   "metadata": {
    "application/vnd.databricks.v1+cell": {
     "cellMetadata": {},
     "inputWidgets": {},
     "nuid": "3faa1a6c-10c9-435a-b0aa-8ed207c49e1f",
     "showTitle": false,
     "title": ""
    }
   },
   "outputs": [],
   "source": [
    "y_pred = forest.predict(X_test)"
   ]
  },
  {
   "cell_type": "code",
   "execution_count": 0,
   "metadata": {
    "application/vnd.databricks.v1+cell": {
     "cellMetadata": {},
     "inputWidgets": {},
     "nuid": "cbacc406-185f-4931-bd0b-b69fb4c1fd21",
     "showTitle": false,
     "title": ""
    }
   },
   "outputs": [],
   "source": [
    "print('R2 :', forest.score(X_test, y_test))"
   ]
  },
  {
   "cell_type": "code",
   "execution_count": 0,
   "metadata": {
    "application/vnd.databricks.v1+cell": {
     "cellMetadata": {},
     "inputWidgets": {},
     "nuid": "386bac07-3fa3-4599-a44c-454ccc305f50",
     "showTitle": false,
     "title": ""
    }
   },
   "outputs": [],
   "source": [
    "forest_mse = mean_squared_error(y_test, y_pred)\n",
    "print('Random forest model MSE  :', forest_mse)"
   ]
  },
  {
   "cell_type": "markdown",
   "metadata": {
    "application/vnd.databricks.v1+cell": {
     "cellMetadata": {},
     "inputWidgets": {},
     "nuid": "3a74a682-e9d4-4250-b65b-8983070b7d87",
     "showTitle": false,
     "title": ""
    }
   },
   "source": [
    "## Root mean sqaur error"
   ]
  },
  {
   "cell_type": "code",
   "execution_count": 0,
   "metadata": {
    "application/vnd.databricks.v1+cell": {
     "cellMetadata": {},
     "inputWidgets": {},
     "nuid": "c9f3315d-9b7d-49d6-9b50-412364881918",
     "showTitle": false,
     "title": ""
    }
   },
   "outputs": [],
   "source": [
    "import math\n",
    "print('RSME :', math.sqrt(forest_mse))"
   ]
  },
  {
   "cell_type": "code",
   "execution_count": 0,
   "metadata": {
    "application/vnd.databricks.v1+cell": {
     "cellMetadata": {},
     "inputWidgets": {},
     "nuid": "a5b1be37-ada8-4719-8a2f-5566b3e31e3a",
     "showTitle": false,
     "title": ""
    }
   },
   "outputs": [],
   "source": []
  }
 ],
 "metadata": {
  "application/vnd.databricks.v1+notebook": {
   "dashboards": [],
   "language": "python",
   "notebookMetadata": {},
   "notebookName": "RODKAIDEEsecondhandCarPrice_violin_more_clean",
   "widgets": {}
  },
  "kernelspec": {
   "display_name": "Python 3.7 (tensorflow)",
   "language": "python",
   "name": "tensorflow"
  },
  "language_info": {
   "codemirror_mode": {
    "name": "ipython",
    "version": 3
   },
   "file_extension": ".py",
   "mimetype": "text/x-python",
   "name": "python",
   "nbconvert_exporter": "python",
   "pygments_lexer": "ipython3",
   "version": "3.7.7"
  }
 },
 "nbformat": 4,
 "nbformat_minor": 0
}
