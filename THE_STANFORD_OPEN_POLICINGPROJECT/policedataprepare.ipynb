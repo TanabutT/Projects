{
 "cells": [
  {
   "cell_type": "markdown",
   "metadata": {
    "application/vnd.databricks.v1+cell": {
     "cellMetadata": {},
     "inputWidgets": {},
     "nuid": "848ccfa0-646a-418e-9eee-4468050d33ed",
     "showTitle": false,
     "title": ""
    },
    "id": "Z10V4YTwN4WP"
   },
   "source": [
    "# Police stop in Rhode Island\n",
    "\n",
    "On a typical day in the United States, police officers make more than 50,000 traffic stops. Our team is gathering, analyzing, and releasing records from millions of traffic stops by law enforcement agencies across the country. Our goal is to help researchers, journalists, and policymakers investigate and improve interactions between police and the public\n",
    "\n",
    "the Stanford Open Policing Project dataset and analyze the impact of gender and race on police behavior\n",
    "\n",
    "cradit https://openpolicing.stanford.edu/\n",
    "\n",
    "population:\n",
    "https://datacommons.org/tools/timeline#place=geoId%2F44&statsVar=Count_Person_BlackOrAfricanAmericanAlone%2C0%2C14%2C2%2CCount_Person__Count_Person_HispanicOrLatino%2C0%2C14%2C3%2CCount_Person__Count_Person_WhiteAlone%2C0%2C14%2C7%2CCount_Person__Count_Person_AsianAlone%2C0%2C14%2C1__Count_Person_SomeOtherRaceAlone%2C0%2C14%2C5%2CCount_Person__Count_Person_NativeHawaiianOrOtherPacificIslanderAlone%2C0%2C14%2C4"
   ]
  },
  {
   "cell_type": "markdown",
   "metadata": {
    "application/vnd.databricks.v1+cell": {
     "cellMetadata": {},
     "inputWidgets": {},
     "nuid": "c42fc8d2-de7e-4ce4-b2fb-b3bb2017b7fc",
     "showTitle": false,
     "title": ""
    },
    "id": "Ha8hAfFUN4WU"
   },
   "source": [
    "![image.png](attachment:image.png)"
   ]
  },
  {
   "cell_type": "markdown",
   "metadata": {
    "application/vnd.databricks.v1+cell": {
     "cellMetadata": {},
     "inputWidgets": {},
     "nuid": "5adac44d-c1a0-4e37-882a-b21a434d1756",
     "showTitle": false,
     "title": ""
    },
    "id": "wAY0Mzx-N4WV"
   },
   "source": [
    "## Problem \n",
    "### Do police bias with black and Hispanic drivers and searched more often than whites?\n",
    "### Are traffic stops prone to racial bias?\n",
    "<br>\n",
    "เนื่องจากการปฏิบัติงานของเจ้าหน้าที่ตำรวจในอเมริกานั้น ต้อง interact กับ ผู้คนหลายเชื้อชาติ หลายกลุ่มชาติพันธุ์ ซึ่งทำให้เกิด bias ขึ้นระหว่างทำหน้าที่โดยไม่รู้ตัว dataset นี่เป็นการศึกษา ของ Stanford ที่ต้องการจะ improve interactions between police and the public เราจึ่งมาวิเคราะห์กันว่าจะได้อะไรกันบ้างจากชุดข้อมูลนี้"
   ]
  },
  {
   "cell_type": "markdown",
   "metadata": {
    "application/vnd.databricks.v1+cell": {
     "cellMetadata": {},
     "inputWidgets": {},
     "nuid": "1db35593-15d6-4d1f-a34e-5590d8fa2d3e",
     "showTitle": false,
     "title": ""
    },
    "id": "b_CkV71wN4WV"
   },
   "source": [
    "### <b>คำถามที่จะต้องการหา</b>\n",
    "\n",
    "\n",
    "<br>\n",
    "1.คนส่วนใหญ่โดนเรียกด้วยสาเหตุอะไร<br>\n",
    "2.คนที่โดนตำรวจเรียก มีใครบ้าง ผู้หญิ่งผู้ชาย คนผิวขาว ผิวดำ เชื้อชาติอะไรบ้าง กลุ่มไหนเป็นเท่าไหร่<br>\n",
    "3.คนที่โดนตำรวจเรียก โดนค้นตัว ค้นรถ หรือไม่ มีแนวโน้มว่า gender or race ใดไหมที่โดนมากกว่าปกติ หา bias<br>\n",
    "4.มีความเชื่อมโยงหรือไม่ระหว่าง race กับการ โดนจับในที่สุด<br>\n",
    "5.มีความเชื่อมโยงหรือไม่ระหว่าง race กับการ ค้นหาเจอของผิด กฏหมาย"
   ]
  },
  {
   "cell_type": "code",
   "execution_count": 0,
   "metadata": {
    "application/vnd.databricks.v1+cell": {
     "cellMetadata": {},
     "inputWidgets": {},
     "nuid": "89268ef5-e027-44ca-b764-c8d8ccb5f1dd",
     "showTitle": false,
     "title": ""
    },
    "id": "y9NbRN2WN4WV",
    "outputId": "f5f0b79a-b351-4230-e4c4-1409f494cfea",
    "scrolled": false
   },
   "outputs": [],
   "source": [
    "# Examining the dataset\n",
    "import missingno as msno \n",
    "import pandas as pd\n",
    "\n",
    "# Read 'police.csv' into a DataFrame named ri\n",
    "ri_2020 = pd.read_csv('dataset/ri_statewide_2020_04_01.csv', dtype={'frisk_performed':'float'}, low_memory=False)\n",
    "\n",
    "ri_2020.head()"
   ]
  },
  {
   "cell_type": "code",
   "execution_count": 0,
   "metadata": {
    "application/vnd.databricks.v1+cell": {
     "cellMetadata": {},
     "inputWidgets": {},
     "nuid": "8790febf-82cd-4fa4-ae78-9b54ab5800fb",
     "showTitle": false,
     "title": ""
    },
    "id": "j26jqANcN4WW",
    "outputId": "7a9e168a-8784-4026-9b16-7130b91121c7"
   },
   "outputs": [],
   "source": [
    "msno.matrix(ri_2020)"
   ]
  },
  {
   "cell_type": "code",
   "execution_count": 0,
   "metadata": {
    "application/vnd.databricks.v1+cell": {
     "cellMetadata": {},
     "inputWidgets": {},
     "nuid": "3abe54f8-790d-4a3f-a766-8f40ccdd0861",
     "showTitle": false,
     "title": ""
    },
    "id": "NLvcusgrN4WX",
    "outputId": "3bade22a-5418-440c-d34a-67f41f919c10"
   },
   "outputs": [],
   "source": [
    "ri_2020.info()"
   ]
  },
  {
   "cell_type": "code",
   "execution_count": 0,
   "metadata": {
    "application/vnd.databricks.v1+cell": {
     "cellMetadata": {},
     "inputWidgets": {},
     "nuid": "bdc83bb8-5e51-40c0-9c6b-0a90e70739ff",
     "showTitle": false,
     "title": ""
    },
    "id": "9QeX3hbQN4WX",
    "outputId": "75e0d552-4c2b-49cb-df1a-b9a1442b4272"
   },
   "outputs": [],
   "source": [
    "ri_2020.frisk_performed.value_counts()"
   ]
  },
  {
   "cell_type": "code",
   "execution_count": 0,
   "metadata": {
    "application/vnd.databricks.v1+cell": {
     "cellMetadata": {},
     "inputWidgets": {},
     "nuid": "43e7d91e-b22c-4c20-960c-21e518f29de6",
     "showTitle": false,
     "title": ""
    },
    "id": "rVwjPEqGN4WX",
    "outputId": "d137db2b-cb66-4c49-daa9-6671fd5b8da8"
   },
   "outputs": [],
   "source": [
    "ri_2020.search_basis.value_counts()"
   ]
  },
  {
   "cell_type": "code",
   "execution_count": 0,
   "metadata": {
    "application/vnd.databricks.v1+cell": {
     "cellMetadata": {},
     "inputWidgets": {},
     "nuid": "eb7f87f8-13b5-4fa8-83a7-1823b14e2299",
     "showTitle": false,
     "title": ""
    },
    "id": "iSLPyLd0N4WY",
    "outputId": "82748bc2-b525-473f-b009-c378abb7ded0"
   },
   "outputs": [],
   "source": [
    "ri_2020.columns"
   ]
  },
  {
   "cell_type": "code",
   "execution_count": 0,
   "metadata": {
    "application/vnd.databricks.v1+cell": {
     "cellMetadata": {},
     "inputWidgets": {},
     "nuid": "97a15283-cbd5-4802-9c89-d59aec48109c",
     "showTitle": false,
     "title": ""
    },
    "id": "bvHSDB1TN4WY",
    "outputId": "5597a1c1-0c7f-4c56-92ab-221c6c8e0b8d"
   },
   "outputs": [],
   "source": [
    "# see rough detail with in column\n",
    "\n",
    "for i in ri_2020.columns:\n",
    "    if i != 'raw_row_number' and i != 'date' and i != 'time' and i != 'department_id' and i != 'vehicle_make' and i != 'vehicle_model' and i != 'raw_BasisForStop'and i != 'raw_SearchResultOne' and i != 'raw_SearchResultTwo' and i != 'raw_SearchResultThree':\n",
    "        print(ri_2020[i].value_counts())"
   ]
  },
  {
   "cell_type": "code",
   "execution_count": 0,
   "metadata": {
    "application/vnd.databricks.v1+cell": {
     "cellMetadata": {},
     "inputWidgets": {},
     "nuid": "178851cf-7c5e-4847-ba6c-e05d3660c1f4",
     "showTitle": false,
     "title": ""
    },
    "id": "8GTJ6zYlN4WY",
    "outputId": "45512f13-3544-452e-f7c6-fbc4c1591ff8"
   },
   "outputs": [],
   "source": [
    "#cut down the table only interest column\n",
    "\n",
    "ri_trim = ri_2020[['raw_row_number', 'date', 'time','zone', 'subject_race', 'subject_sex',\n",
    "       'arrest_made', 'citation_issued', 'warning_issued', 'contraband_found', 'contraband_drugs',\n",
    "       'contraband_weapons', 'contraband_alcohol', 'frisk_performed',\n",
    "       'search_conducted', 'reason_for_stop']]\n",
    "\n",
    "#rename column\n",
    "ri_trim = ri_trim.rename(columns={\"time\": \"stop_time\", \"zone\": \"district\"})\n",
    "print(ri_trim.shape)\n",
    "ri_trim.head()"
   ]
  },
  {
   "cell_type": "code",
   "execution_count": 0,
   "metadata": {
    "application/vnd.databricks.v1+cell": {
     "cellMetadata": {},
     "inputWidgets": {},
     "nuid": "a6b23b5a-07d3-47f7-a19a-92848102e5dd",
     "showTitle": false,
     "title": ""
    },
    "id": "5d-puHTyN4WZ",
    "outputId": "2a7c1a2a-44d3-4754-85f7-bf1f4b57a2b1"
   },
   "outputs": [],
   "source": [
    "ri_trim.info()\n",
    "ri_trim.head()"
   ]
  },
  {
   "cell_type": "code",
   "execution_count": 0,
   "metadata": {
    "application/vnd.databricks.v1+cell": {
     "cellMetadata": {},
     "inputWidgets": {},
     "nuid": "b6e4699f-39a8-48b7-9d08-20c79afab956",
     "showTitle": false,
     "title": ""
    },
    "id": "5A9km-rrN4WZ",
    "outputId": "b69066dd-8d3f-46c7-9a6d-a76096506199"
   },
   "outputs": [],
   "source": [
    "ri_trim.columns"
   ]
  },
  {
   "cell_type": "code",
   "execution_count": 0,
   "metadata": {
    "application/vnd.databricks.v1+cell": {
     "cellMetadata": {},
     "inputWidgets": {},
     "nuid": "7deb57ac-5217-4295-b7b2-1e1c374d044c",
     "showTitle": false,
     "title": ""
    },
    "id": "0PNh30sFN4WZ"
   },
   "outputs": [],
   "source": [
    "ri_trim.to_csv('PoliceRI2020.csv')"
   ]
  }
 ],
 "metadata": {
  "application/vnd.databricks.v1+notebook": {
   "dashboards": [],
   "language": "python",
   "notebookMetadata": {},
   "notebookName": "policedataprepare",
   "widgets": {}
  },
  "colab": {
   "name": "Copy of policedataprepare.ipynb",
   "provenance": [
    {
     "file_id": "1yYwVn-iiFRThZ4dk1-Zvu5chUx03lPu4",
     "timestamp": 1608905103745
    }
   ]
  },
  "kernelspec": {
   "display_name": "Python 3",
   "language": "python",
   "name": "python3"
  },
  "language_info": {
   "codemirror_mode": {
    "name": "ipython",
    "version": 3
   },
   "file_extension": ".py",
   "mimetype": "text/x-python",
   "name": "python",
   "nbconvert_exporter": "python",
   "pygments_lexer": "ipython3",
   "version": "3.8.3"
  }
 },
 "nbformat": 4,
 "nbformat_minor": 0
}
