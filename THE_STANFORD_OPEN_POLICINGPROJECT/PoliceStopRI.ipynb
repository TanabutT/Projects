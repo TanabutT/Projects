{
 "cells": [
  {
   "cell_type": "markdown",
   "metadata": {
    "application/vnd.databricks.v1+cell": {
     "cellMetadata": {},
     "inputWidgets": {},
     "nuid": "6754c22e-41ba-439d-bbe1-2c9a82cf45c2",
     "showTitle": false,
     "title": ""
    },
    "id": "EqFZ_uODE3Gi"
   },
   "source": [
    "# DATA EXPLORATION\n",
    "\n",
    "analyzing a dataset of traffic stops in Rhode Island that was collected by the Stanford Open Policing Project.\n",
    "\n",
    "Before beginning your analysis, it's important that to familiarize with the dataset. \n",
    "We will read the dataset into pandas, examine the first few rows, and then count the number of missing values."
   ]
  },
  {
   "cell_type": "code",
   "execution_count": 0,
   "metadata": {
    "application/vnd.databricks.v1+cell": {
     "cellMetadata": {},
     "inputWidgets": {},
     "nuid": "41349f76-ee99-4d61-939c-ecb7153bcef2",
     "showTitle": false,
     "title": ""
    },
    "id": "L190a422E3Go"
   },
   "outputs": [],
   "source": [
    "import numpy as np\n",
    "import pandas as pd\n",
    "import matplotlib.pyplot as plt\n",
    "import seaborn as sns\n",
    "import missingno as msno\n",
    "import datetime as dt"
   ]
  },
  {
   "cell_type": "code",
   "execution_count": 0,
   "metadata": {
    "application/vnd.databricks.v1+cell": {
     "cellMetadata": {},
     "inputWidgets": {},
     "nuid": "33676f8d-7a41-4fc3-8e97-9edaf177819a",
     "showTitle": false,
     "title": ""
    },
    "id": "17oR5mJ6E3Gp",
    "outputId": "91bdbb0f-2ccf-4f6b-d049-10e022eb4031",
    "scrolled": false
   },
   "outputs": [],
   "source": [
    "# Read 'police.csv' into a DataFrame named ri and set index with date and time combile column 'date' and 'stop_time'\n",
    "ri = pd.read_csv('PoliceRI2020.csv', parse_dates= [['date', 'stop_time']], index_col='date_stop_time')\n",
    "\n",
    "# Examine the head of the DataFrame\n",
    "ri.head()"
   ]
  },
  {
   "cell_type": "code",
   "execution_count": 0,
   "metadata": {
    "application/vnd.databricks.v1+cell": {
     "cellMetadata": {},
     "inputWidgets": {},
     "nuid": "7b1626f6-3fe9-468a-9e91-dbdc2d7ed5b5",
     "showTitle": false,
     "title": ""
    },
    "id": "JC6h85UaE3Gq",
    "outputId": "fad790bf-7339-4d24-c9da-cdaae1ffacf0"
   },
   "outputs": [],
   "source": [
    "# Examine the shape of the DataFrame\n",
    "print(ri.shape)\n",
    "\n",
    "# Drop the 'county_name' and 'state' columns\n",
    "ri.drop(['raw_row_number', 'Unnamed: 0', 'contraband_found'], axis='columns', inplace=True)\n",
    "\n",
    "# rename to meaningful name for driver detail\n",
    "ri.rename(columns={'subject_race': 'driver_race', 'subject_sex':'driver_gender'}, inplace=True)\n",
    "\n",
    "# Examine the shape of the DataFrame (again)\n",
    "print(ri.shape)"
   ]
  },
  {
   "cell_type": "code",
   "execution_count": 0,
   "metadata": {
    "application/vnd.databricks.v1+cell": {
     "cellMetadata": {},
     "inputWidgets": {},
     "nuid": "9c935d71-f0ce-4fc8-ab5b-e661d2590aa9",
     "showTitle": false,
     "title": ""
    },
    "id": "QGVsNfbZE3Gr",
    "outputId": "4183d31a-afc0-406e-83c7-4d75be103b77"
   },
   "outputs": [],
   "source": [
    "ri.info()"
   ]
  },
  {
   "cell_type": "markdown",
   "metadata": {
    "application/vnd.databricks.v1+cell": {
     "cellMetadata": {},
     "inputWidgets": {},
     "nuid": "890028c9-a2ad-476b-908d-7e4cddaf14ee",
     "showTitle": false,
     "title": ""
    },
    "id": "6kmySh23E3Gr"
   },
   "source": [
    "# Cleaning and manipulation data\n",
    "\n",
    "manage the missing value and catergorize to the proper type  \n",
    "change nan values in contraband columns to True and False"
   ]
  },
  {
   "cell_type": "code",
   "execution_count": 0,
   "metadata": {
    "application/vnd.databricks.v1+cell": {
     "cellMetadata": {},
     "inputWidgets": {},
     "nuid": "6de03244-50f6-4ceb-aabd-09146266191a",
     "showTitle": false,
     "title": ""
    },
    "id": "fJsDnmufE3Gr",
    "outputId": "c019c740-df05-458e-b5b1-c8d2878ba6bf"
   },
   "outputs": [],
   "source": [
    "# Count the number of missing values in each column\n",
    "ri.isnull().sum()"
   ]
  },
  {
   "cell_type": "code",
   "execution_count": 0,
   "metadata": {
    "application/vnd.databricks.v1+cell": {
     "cellMetadata": {},
     "inputWidgets": {},
     "nuid": "e50d9804-252f-4c02-920b-d1eb6d33575e",
     "showTitle": false,
     "title": ""
    },
    "id": "Wk-ii3V0E3Gs",
    "outputId": "6ed53682-0f32-4197-9cf0-2081d8e3a11d"
   },
   "outputs": [],
   "source": [
    "msno.matrix(ri)"
   ]
  },
  {
   "cell_type": "code",
   "execution_count": 0,
   "metadata": {
    "application/vnd.databricks.v1+cell": {
     "cellMetadata": {},
     "inputWidgets": {},
     "nuid": "edbd92b1-6e87-4b8f-af87-421b97a9b4fb",
     "showTitle": false,
     "title": ""
    },
    "id": "Mz_65NwCE3Gs",
    "outputId": "48a48445-2b11-467a-e7e5-71b43128fb96"
   },
   "outputs": [],
   "source": [
    "# Drop all rows that are missing 'driver_gender'\n",
    "ri.dropna(subset=['driver_gender'], inplace=True)\n",
    "print('\\n')\n",
    "# Count the number of missing values in each column (again)\n",
    "print(ri.isnull().sum())\n",
    "\n",
    "# Examine the shape of the DataFrame\n",
    "print(ri.shape)"
   ]
  },
  {
   "cell_type": "code",
   "execution_count": 0,
   "metadata": {
    "application/vnd.databricks.v1+cell": {
     "cellMetadata": {},
     "inputWidgets": {},
     "nuid": "c2b698d6-28b3-4dd2-a62a-fdae21b516c4",
     "showTitle": false,
     "title": ""
    },
    "id": "5FN4q5B_E3Gs"
   },
   "outputs": [],
   "source": [
    "# check unique value in contraband_ column\n",
    "ri.contraband_drugs.replace(np.nan, False, inplace= True)\n",
    "ri.contraband_weapons.replace(np.nan, False, inplace= True)\n",
    "ri.contraband_alcohol.replace(np.nan, False, inplace= True)"
   ]
  },
  {
   "cell_type": "code",
   "execution_count": 0,
   "metadata": {
    "application/vnd.databricks.v1+cell": {
     "cellMetadata": {},
     "inputWidgets": {},
     "nuid": "4c1eac6e-3cf8-48cf-8889-0f0b167fa6a5",
     "showTitle": false,
     "title": ""
    },
    "id": "gQEP4pR8E3Gt",
    "outputId": "40359f56-24bd-40a7-9d8c-d30af625321a"
   },
   "outputs": [],
   "source": [
    "ri.isnull().sum()"
   ]
  },
  {
   "cell_type": "code",
   "execution_count": 0,
   "metadata": {
    "application/vnd.databricks.v1+cell": {
     "cellMetadata": {},
     "inputWidgets": {},
     "nuid": "fe6b523a-e471-489f-9923-08dd92357aa0",
     "showTitle": false,
     "title": ""
    },
    "id": "w9ZAhzO_E3Gt",
    "outputId": "26dab5aa-9a18-4636-c97a-572acca2f1b4"
   },
   "outputs": [],
   "source": [
    "msno.matrix(ri)"
   ]
  },
  {
   "cell_type": "markdown",
   "metadata": {
    "application/vnd.databricks.v1+cell": {
     "cellMetadata": {},
     "inputWidgets": {},
     "nuid": "8fa64de1-abf9-4301-9571-fb6b6132c6dc",
     "showTitle": false,
     "title": ""
    },
    "id": "bdowWg8rE3Gt"
   },
   "source": [
    "## check posible value type and how many value in each column"
   ]
  },
  {
   "cell_type": "code",
   "execution_count": 0,
   "metadata": {
    "application/vnd.databricks.v1+cell": {
     "cellMetadata": {},
     "inputWidgets": {},
     "nuid": "3af37bc3-c747-4886-8ab3-17c0e9d0be50",
     "showTitle": false,
     "title": ""
    },
    "id": "DQCEvVQQE3Gt",
    "outputId": "54ebb820-c310-4aec-a276-b40c5012d93d"
   },
   "outputs": [],
   "source": [
    "for i in ri.columns:\n",
    "#     if i != 'raw_row_number' and i != 'date' and i != 'time' and i != 'department_id' and i != 'vehicle_make' and i != 'vehicle_model' and i != 'raw_BasisForStop'and i != 'raw_SearchResultOne' and i != 'raw_SearchResultTwo' and i != 'raw_SearchResultThree':\n",
    "        print(ri[i].value_counts())"
   ]
  },
  {
   "cell_type": "markdown",
   "metadata": {
    "application/vnd.databricks.v1+cell": {
     "cellMetadata": {},
     "inputWidgets": {},
     "nuid": "560be405-d56d-4c16-a6fd-a480fdded37b",
     "showTitle": false,
     "title": ""
    },
    "id": "Bdae0w58E3Gu"
   },
   "source": [
    "## Using proper dtype"
   ]
  },
  {
   "cell_type": "code",
   "execution_count": 0,
   "metadata": {
    "application/vnd.databricks.v1+cell": {
     "cellMetadata": {},
     "inputWidgets": {},
     "nuid": "316fa011-2b88-4dbc-82c1-b81aba1cd892",
     "showTitle": false,
     "title": ""
    },
    "id": "XC1yW7PbE3Gu",
    "outputId": "b381b588-2859-4b2c-dc28-3a60f3f5c449"
   },
   "outputs": [],
   "source": [
    "#arrest_made is object then should be change to 'bool'\n",
    "\n",
    "ri['district'] = ri.district.astype('category')\n",
    "ri['driver_race'] = ri.driver_race.astype('category')\n",
    "ri['driver_gender'] = ri.driver_gender.astype('category')\n",
    "ri['arrest_made'] = ri.arrest_made.astype('bool')\n",
    "ri['citation_issued'] = ri.citation_issued.astype('bool')\n",
    "ri['warning_issued'] = ri.warning_issued.astype('bool')\n",
    "ri['frisk_performed'] = ri.frisk_performed.astype('bool')\n",
    "\n",
    "ri['reason_for_stop'] = ri.reason_for_stop.astype('category')\n",
    "\n",
    "print(ri.dtypes)\n",
    "print('\\n')"
   ]
  },
  {
   "cell_type": "code",
   "execution_count": 0,
   "metadata": {
    "application/vnd.databricks.v1+cell": {
     "cellMetadata": {},
     "inputWidgets": {},
     "nuid": "6d4905a4-0664-4541-a89f-8ee83b6e015a",
     "showTitle": false,
     "title": ""
    },
    "id": "obTCd07TE3Gu"
   },
   "outputs": [],
   "source": [
    "# change index to timestamp format\n",
    "ri.index = pd.to_datetime(ri.index)"
   ]
  },
  {
   "cell_type": "code",
   "execution_count": 0,
   "metadata": {
    "application/vnd.databricks.v1+cell": {
     "cellMetadata": {},
     "inputWidgets": {},
     "nuid": "443d41d1-9542-4602-9e19-ac52c9dc992c",
     "showTitle": false,
     "title": ""
    },
    "id": "XvFBDNlAE3Gu",
    "outputId": "90821ac3-db37-4137-c612-f23d484a3d21"
   },
   "outputs": [],
   "source": [
    "#check info() for memory usage reduce when group into proper dtype.\n",
    "print('previously memory usage: 40+ ish MB', '\\n')\n",
    "ri.info()"
   ]
  },
  {
   "cell_type": "code",
   "execution_count": 0,
   "metadata": {
    "application/vnd.databricks.v1+cell": {
     "cellMetadata": {},
     "inputWidgets": {},
     "nuid": "ef583c21-7e96-4c97-800e-fd4e8e99a651",
     "showTitle": false,
     "title": ""
    },
    "id": "2ZEyYZoEE3Gv",
    "outputId": "eee45311-06eb-4782-9b1d-a5e8d7133086"
   },
   "outputs": [],
   "source": [
    "ri.head()"
   ]
  },
  {
   "cell_type": "code",
   "execution_count": 0,
   "metadata": {
    "application/vnd.databricks.v1+cell": {
     "cellMetadata": {},
     "inputWidgets": {},
     "nuid": "f94fa522-7cfa-4630-96b6-3fb75d20fd1a",
     "showTitle": false,
     "title": ""
    },
    "id": "EYmATs4PE3Gv",
    "outputId": "0578086a-8dac-42cd-bbf4-50a61fb60ec0"
   },
   "outputs": [],
   "source": [
    "# check type of index and columns\n",
    "print(ri.index)\n",
    "print(ri.columns)"
   ]
  },
  {
   "cell_type": "code",
   "execution_count": 0,
   "metadata": {
    "application/vnd.databricks.v1+cell": {
     "cellMetadata": {},
     "inputWidgets": {},
     "nuid": "a5620943-6007-4cca-8bcb-1008bda4d617",
     "showTitle": false,
     "title": ""
    },
    "id": "TAWU29xtE3Gv",
    "outputId": "0311f139-33f8-41f3-d903-0b78a3f0a442"
   },
   "outputs": [],
   "source": [
    "# check for general statistics\n",
    "ri.describe()"
   ]
  },
  {
   "cell_type": "markdown",
   "metadata": {
    "application/vnd.databricks.v1+cell": {
     "cellMetadata": {},
     "inputWidgets": {},
     "nuid": "39b2020d-6bc0-4275-9a03-40bb5bb441b8",
     "showTitle": false,
     "title": ""
    },
    "id": "T40Cg7wLE3Gv"
   },
   "source": [
    "## Exploring the relationship between driver gender and policing"
   ]
  },
  {
   "cell_type": "code",
   "execution_count": 0,
   "metadata": {
    "application/vnd.databricks.v1+cell": {
     "cellMetadata": {},
     "inputWidgets": {},
     "nuid": "abbeddc5-b5b4-4757-8ec2-cc6244f5306a",
     "showTitle": false,
     "title": ""
    },
    "id": "bZIokX_AE3Gv",
    "outputId": "df98b3d3-c81c-4d81-dcba-f439546e7335"
   },
   "outputs": [],
   "source": [
    "# Count the unique values in 'violation'\n",
    "print(ri.reason_for_stop.value_counts())\n",
    "print('\\n')\n",
    "\n",
    "# Express the counts as proportions\n",
    "print(ri.reason_for_stop.value_counts(normalize= True))"
   ]
  },
  {
   "cell_type": "code",
   "execution_count": 0,
   "metadata": {
    "application/vnd.databricks.v1+cell": {
     "cellMetadata": {},
     "inputWidgets": {},
     "nuid": "59d05168-2589-4a8f-a755-ded9f6b38add",
     "showTitle": false,
     "title": ""
    },
    "id": "bqGSK3d5E3Gw",
    "outputId": "a5f4cc0d-1914-4703-f483-66362aabc65b"
   },
   "outputs": [],
   "source": [
    "ri.reason_for_stop.value_counts(normalize= True).plot(kind='bar', figsize=(12,5))\n",
    "plt.tight_layout()\n",
    "plt.show()"
   ]
  },
  {
   "cell_type": "markdown",
   "metadata": {
    "application/vnd.databricks.v1+cell": {
     "cellMetadata": {},
     "inputWidgets": {},
     "nuid": "3d2927a9-2239-4d49-adcb-72302459d659",
     "showTitle": false,
     "title": ""
    },
    "id": "0iHlLYTOE3Gw"
   },
   "source": [
    "## separate by driver_gender"
   ]
  },
  {
   "cell_type": "code",
   "execution_count": 0,
   "metadata": {
    "application/vnd.databricks.v1+cell": {
     "cellMetadata": {},
     "inputWidgets": {},
     "nuid": "d208f0f2-3dbf-4c2d-b157-84bc1ed7a878",
     "showTitle": false,
     "title": ""
    },
    "id": "xTaUNdzyE3Gw",
    "outputId": "e8a974be-8e3d-4837-e068-284331c13fd3"
   },
   "outputs": [],
   "source": [
    "# slice to new df as only female and male DataFrame\n",
    "female = ri[ri.driver_gender == 'female']\n",
    "male = ri[ri.driver_gender == 'male']\n",
    "\n",
    "# value_counts(normalize= True) on reason_for_stop\n",
    "print('female reason_for_stop counts \\n', female.reason_for_stop.value_counts(normalize= True))\n",
    "print('\\n')\n",
    "print('male reason_for_stop counts \\n', male.reason_for_stop.value_counts(normalize=True))\n"
   ]
  },
  {
   "cell_type": "code",
   "execution_count": 0,
   "metadata": {
    "application/vnd.databricks.v1+cell": {
     "cellMetadata": {},
     "inputWidgets": {},
     "nuid": "ab1aa38b-72a9-4f59-a5a7-745a281bea05",
     "showTitle": false,
     "title": ""
    },
    "id": "Ee9vWIf0E3Gw",
    "outputId": "08c3796c-6e73-4ad8-fd55-52524e35cd23"
   },
   "outputs": [],
   "source": [
    "# Create 2 subplot to compare female and male case for reasone to stop\n",
    "fig, ax = plt.subplots(1,2, figsize=(18,5), sharey= True)\n",
    "ax[0].bar(female.reason_for_stop.value_counts(normalize= True).index, female.reason_for_stop.value_counts(normalize= True))\n",
    "ax[1].bar(male.reason_for_stop.value_counts(normalize= True).index, male.reason_for_stop.value_counts(normalize= True))\n",
    "ax[0].set_title('female')\n",
    "ax[1].set_title('male')\n",
    "plt.setp(ax[0].xaxis.get_majorticklabels(), rotation=90)\n",
    "plt.setp(ax[1].xaxis.get_majorticklabels(), rotation=90)\n",
    "plt.tight_layout()\n",
    "\n",
    "plt.show()"
   ]
  },
  {
   "cell_type": "markdown",
   "metadata": {
    "application/vnd.databricks.v1+cell": {
     "cellMetadata": {},
     "inputWidgets": {},
     "nuid": "6766bbab-10c8-4b5f-85d6-823d297aeb40",
     "showTitle": false,
     "title": ""
    },
    "id": "VbKAqWcdE3Gx"
   },
   "source": [
    "<b><i> the female speeding case is more than male?</i></b>\n",
    "\n",
    "from 'bar chart show the speeding violate by female more than 65 percent."
   ]
  },
  {
   "cell_type": "code",
   "execution_count": 0,
   "metadata": {
    "application/vnd.databricks.v1+cell": {
     "cellMetadata": {},
     "inputWidgets": {},
     "nuid": "73509230-f13c-4fd4-9f5f-cf528ca90697",
     "showTitle": false,
     "title": ""
    },
    "id": "4GiameYME3Gx",
    "outputId": "135107db-1a61-401d-9d60-d253608a705f"
   },
   "outputs": [],
   "source": [
    "# find out how many male and femele for further investigation\n",
    "print('male on record {} males'.format(male.shape[0]))\n",
    "print('female on record :',female.shape[0], '\\n')\n",
    "print('=> male and female proportion is different.')"
   ]
  },
  {
   "cell_type": "code",
   "execution_count": 0,
   "metadata": {
    "application/vnd.databricks.v1+cell": {
     "cellMetadata": {},
     "inputWidgets": {},
     "nuid": "6ca477df-d0c4-4833-ae11-c05b20bfecb4",
     "showTitle": false,
     "title": ""
    },
    "id": "e-th_sI_E3Gx"
   },
   "outputs": [],
   "source": [
    "# Create a DataFrame of female drivers stopped for speeding\n",
    "female_and_speeding = ri[(ri.driver_gender == 'female') & (ri.reason_for_stop == 'Speeding')]\n",
    "\n",
    "# Create a DataFrame of male drivers stopped for speeding\n",
    "male_and_speeding = ri[(ri.driver_gender == 'male') & (ri.reason_for_stop == 'Speeding')]"
   ]
  },
  {
   "cell_type": "code",
   "execution_count": 0,
   "metadata": {
    "application/vnd.databricks.v1+cell": {
     "cellMetadata": {},
     "inputWidgets": {},
     "nuid": "0aba313b-33f7-4c05-9817-56e3f6a67450",
     "showTitle": false,
     "title": ""
    },
    "id": "Uku2EsqfE3Gx",
    "outputId": "1700ecd0-d95c-4ef1-805f-e8e3bcab59c7"
   },
   "outputs": [],
   "source": [
    "# Compute the stop outcomes for female drivers (as proportions)\n",
    "print(female_and_speeding.citation_issued.value_counts(normalize= True))\n",
    "\n",
    "# Compute the stop outcomes for male drivers (as proportions)\n",
    "print(male_and_speeding.citation_issued.value_counts(normalize= True))"
   ]
  },
  {
   "cell_type": "markdown",
   "metadata": {
    "application/vnd.databricks.v1+cell": {
     "cellMetadata": {},
     "inputWidgets": {},
     "nuid": "9435ce02-b188-4592-b4bb-f6d3f4198fab",
     "showTitle": false,
     "title": ""
    },
    "id": "XzQqYpNKE3Gx"
   },
   "source": [
    "### <i>the data fails to show that gender has an impact on who gets a ticket for speeding.</i>\n",
    "<i><b>The numbers are similar for males and females: about 95% of stops for speeding result in a ticket. Thus, </i></b>  \n",
    "<i>So, be careful on assume the comparison on different sample size."
   ]
  },
  {
   "cell_type": "markdown",
   "metadata": {
    "application/vnd.databricks.v1+cell": {
     "cellMetadata": {},
     "inputWidgets": {},
     "nuid": "e7f316b5-642d-4d74-887c-b96ca8e62adb",
     "showTitle": false,
     "title": ""
    },
    "id": "To93o9YNE3Gy"
   },
   "source": [
    "## Does gender affect whose vehicle is searched?\n",
    "\n",
    ".value_counts() will separate the count for each in pd.series , count() is count every datapoint"
   ]
  },
  {
   "cell_type": "code",
   "execution_count": 0,
   "metadata": {
    "application/vnd.databricks.v1+cell": {
     "cellMetadata": {},
     "inputWidgets": {},
     "nuid": "569280ae-ffc1-40f1-bf4f-198f07cd5048",
     "showTitle": false,
     "title": ""
    },
    "id": "t15MinqbE3Gy",
    "outputId": "6c13c583-0f91-4b4d-edff-51e458caf6d1"
   },
   "outputs": [],
   "source": [
    "# Check the data type of 'search_conducted'\n",
    "print(ri.search_conducted.dtypes)\n",
    "\n",
    "# Calculate the search rate by counting the values\n",
    "print(ri.search_conducted.value_counts(normalize=True))\n",
    "\n",
    "# Calculate the search rate by taking the mean\n",
    "print(ri.search_conducted.mean())"
   ]
  },
  {
   "cell_type": "markdown",
   "metadata": {
    "application/vnd.databricks.v1+cell": {
     "cellMetadata": {},
     "inputWidgets": {},
     "nuid": "c59f187f-ed84-4f9f-a9c2-2a10b4d735db",
     "showTitle": false,
     "title": ""
    },
    "id": "hePnNx80E3Gy"
   },
   "source": [
    "the search rate is about 3.8%."
   ]
  },
  {
   "cell_type": "markdown",
   "metadata": {
    "application/vnd.databricks.v1+cell": {
     "cellMetadata": {},
     "inputWidgets": {},
     "nuid": "5a4c5cb4-dd17-44a6-80e5-26df9862411e",
     "showTitle": false,
     "title": ""
    },
    "id": "mBAKR-ZrE3Gz"
   },
   "source": [
    "## Is the search rate varies by driver gender."
   ]
  },
  {
   "cell_type": "code",
   "execution_count": 0,
   "metadata": {
    "application/vnd.databricks.v1+cell": {
     "cellMetadata": {},
     "inputWidgets": {},
     "nuid": "b74d9be6-da98-43c9-8bae-f97ab0ba6f8f",
     "showTitle": false,
     "title": ""
    },
    "id": "ycBsaC5gE3Gz",
    "outputId": "9a3770d5-da15-4fa2-ef22-31c65fae1247"
   },
   "outputs": [],
   "source": [
    "# Calculate the search rate for both groups simultaneously\n",
    "print(ri.groupby('driver_gender').search_conducted.mean())\n",
    "print('\\n')\n",
    "\n",
    "# calculate by mean with out groupby() วิธีที่สองได้ผมเหมือนกัน\n",
    "# print(ri[ri.driver_gender=='female'].search_conducted.mean())\n",
    "# print(ri[ri.driver_gender=='male'].search_conducted.mean())\n",
    "print('search was conducted in male 4.4 percent and in female 1.9 percent')"
   ]
  },
  {
   "cell_type": "markdown",
   "metadata": {
    "application/vnd.databricks.v1+cell": {
     "cellMetadata": {},
     "inputWidgets": {},
     "nuid": "07307a7e-efe9-4954-9860-cf9d851ff195",
     "showTitle": false,
     "title": ""
    },
    "id": "K7knRPhWE3Gz"
   },
   "source": [
    "## compare Search_conduct rate that consequence from reason_for_stop and driver_gender\n",
    "\n",
    "<b>An all-points bulletin (APB)</b> is a broadcast issued from any American or Canadian law enforcement agency to its personnel, or to other law enforcement agencies. It typically contains information about a wanted suspect who is to be arrested or a person of interest, for whom law enforcement officers are to look. They are usually dangerous or missing persons. As used by American police  \n",
    "\n",
    "An all-points bulletin can also be known as a BOLO or BOL, which stands for \"be on (the) look-out\". Such an alert may also be called a lookout or ATL (\"attempt to locate\")."
   ]
  },
  {
   "cell_type": "code",
   "execution_count": 0,
   "metadata": {
    "application/vnd.databricks.v1+cell": {
     "cellMetadata": {},
     "inputWidgets": {},
     "nuid": "03db36bb-606e-437d-aed1-6f431c790acd",
     "showTitle": false,
     "title": ""
    },
    "id": "U9eHdZtZE3Gz",
    "outputId": "4bb4bb32-bfc5-4ece-85c4-5e675239ca45"
   },
   "outputs": [],
   "source": [
    "# Calculate the search rate for each combination of gender and violation\n",
    "print(ri.groupby(['driver_gender', 'reason_for_stop']).search_conducted.mean())"
   ]
  },
  {
   "cell_type": "markdown",
   "metadata": {
    "application/vnd.databricks.v1+cell": {
     "cellMetadata": {},
     "inputWidgets": {},
     "nuid": "ef870fbe-7438-459b-ad46-619019b572e0",
     "showTitle": false,
     "title": ""
    },
    "id": "kesTW5DTE3G0"
   },
   "source": [
    "it hard to compare between gender , re order of groupby"
   ]
  },
  {
   "cell_type": "code",
   "execution_count": 0,
   "metadata": {
    "application/vnd.databricks.v1+cell": {
     "cellMetadata": {},
     "inputWidgets": {},
     "nuid": "790cc654-a20a-41cd-aa2e-1197533b700f",
     "showTitle": false,
     "title": ""
    },
    "id": "U6omebWrE3G0",
    "outputId": "a3f38d43-461f-459e-bfd5-c9434ed850ac",
    "scrolled": true
   },
   "outputs": [],
   "source": [
    "ri.groupby(['reason_for_stop', 'driver_gender']).search_conducted.mean().head(30)"
   ]
  },
  {
   "cell_type": "markdown",
   "metadata": {
    "application/vnd.databricks.v1+cell": {
     "cellMetadata": {},
     "inputWidgets": {},
     "nuid": "7a109d3d-0082-4915-a6a3-7dd8e45e0b31",
     "showTitle": false,
     "title": ""
    },
    "id": "rR-3VbTXE3G0"
   },
   "source": [
    "For all types of violations, the search rate in males is higher than females  \n",
    "\n",
    "that from above the max search rate in female is about 3.8%.\n",
    "that indicated gender does affect on search rate"
   ]
  },
  {
   "cell_type": "code",
   "execution_count": 0,
   "metadata": {
    "application/vnd.databricks.v1+cell": {
     "cellMetadata": {},
     "inputWidgets": {},
     "nuid": "1ee80210-1d03-4b75-a8fb-29695d16b88d",
     "showTitle": false,
     "title": ""
    },
    "id": "wyyVgsaGE3G0",
    "outputId": "c512f27f-96d5-4eff-a009-e4072f6156b8"
   },
   "outputs": [],
   "source": [
    "ri.groupby(['reason_for_stop', 'driver_gender']).search_conducted.mean().unstack(level=-1)"
   ]
  },
  {
   "cell_type": "code",
   "execution_count": 0,
   "metadata": {
    "application/vnd.databricks.v1+cell": {
     "cellMetadata": {},
     "inputWidgets": {},
     "nuid": "c5c2aad9-304f-4d5b-a444-b7d7b66b9984",
     "showTitle": false,
     "title": ""
    },
    "id": "Pm_wt984E3G1",
    "outputId": "37d46cae-7ecd-4690-8c49-df7645528fc1",
    "scrolled": true
   },
   "outputs": [],
   "source": [
    "ri.groupby(['reason_for_stop', 'driver_gender']).search_conducted.mean().unstack(level=-1).plot(kind= 'bar', figsize=(15,3))\n",
    "# plt.tight_layout()\n",
    "plt.title('Search conducted after stop for each reason_for_stop compare between driver_gender')\n",
    "plt.show()"
   ]
  },
  {
   "cell_type": "markdown",
   "metadata": {
    "application/vnd.databricks.v1+cell": {
     "cellMetadata": {},
     "inputWidgets": {},
     "nuid": "ed3c23c0-469a-4ef5-bdea-42687b5aff61",
     "showTitle": false,
     "title": ""
    },
    "id": "XqVhY0Y7E3G1"
   },
   "source": [
    "## Does gender affect who is frisked during a search?"
   ]
  },
  {
   "cell_type": "code",
   "execution_count": 0,
   "metadata": {
    "application/vnd.databricks.v1+cell": {
     "cellMetadata": {},
     "inputWidgets": {},
     "nuid": "053d0cf9-6f2b-4883-89d2-0b7fa7ed7750",
     "showTitle": false,
     "title": ""
    },
    "id": "WLOAwWoNE3G1",
    "outputId": "4aaec5ea-362d-42bf-9026-30102fb3e6fb"
   },
   "outputs": [],
   "source": [
    "# Take the sum of 'frisk'\n",
    "print(ri.frisk_performed.sum())"
   ]
  },
  {
   "cell_type": "markdown",
   "metadata": {
    "application/vnd.databricks.v1+cell": {
     "cellMetadata": {},
     "inputWidgets": {},
     "nuid": "42261f4f-6a94-4e41-a651-7a4b6a80716c",
     "showTitle": false,
     "title": ""
    },
    "id": "EeGIV-WUE3G1"
   },
   "source": [
    "## compare frisk by gender"
   ]
  },
  {
   "cell_type": "code",
   "execution_count": 0,
   "metadata": {
    "application/vnd.databricks.v1+cell": {
     "cellMetadata": {},
     "inputWidgets": {},
     "nuid": "f11ec5e8-ced8-423a-ae64-7bc2f1233a4e",
     "showTitle": false,
     "title": ""
    },
    "id": "GNfW7LjuE3G1",
    "outputId": "e2e89c65-0bb1-4fa7-83fa-36efeadbeb09"
   },
   "outputs": [],
   "source": [
    "# Create a DataFrame of stops in which a search was conducted\n",
    "searched = ri[ri.search_conducted == True]\n",
    "\n",
    "# Calculate the overall frisk rate by taking the mean of 'frisk'\n",
    "print(searched.frisk_performed.mean())\n",
    "\n",
    "# Calculate the frisk rate for each gender\n",
    "print(searched.groupby('driver_gender').frisk_performed.mean())"
   ]
  },
  {
   "cell_type": "markdown",
   "metadata": {
    "application/vnd.databricks.v1+cell": {
     "cellMetadata": {},
     "inputWidgets": {},
     "nuid": "b540e694-f078-4060-8882-8a241c8be1fd",
     "showTitle": false,
     "title": ""
    },
    "id": "2YYgVyNoE3G1"
   },
   "source": [
    "<i>The frisk rate is higher for males than for females around 10 percent, <br>   though we can't conclude that this difference is caused by the driver's gender."
   ]
  },
  {
   "cell_type": "markdown",
   "metadata": {
    "application/vnd.databricks.v1+cell": {
     "cellMetadata": {},
     "inputWidgets": {},
     "nuid": "f417f3a2-e491-4e10-a002-ab84174f2512",
     "showTitle": false,
     "title": ""
    },
    "id": "-9EKPoP5E3G2"
   },
   "source": [
    "## Chance of drugs founded with search was conducted"
   ]
  },
  {
   "cell_type": "code",
   "execution_count": 0,
   "metadata": {
    "application/vnd.databricks.v1+cell": {
     "cellMetadata": {},
     "inputWidgets": {},
     "nuid": "a760b627-5cfd-4410-a2bd-0bdd0a9c6952",
     "showTitle": false,
     "title": ""
    },
    "id": "uowGevlfE3G2",
    "outputId": "bb128619-8a8b-4b80-c4b2-d3a7dba5bcc5"
   },
   "outputs": [],
   "source": [
    "ri.groupby('search_conducted').mean() #.contraband_drugs.mean()"
   ]
  },
  {
   "cell_type": "markdown",
   "metadata": {
    "application/vnd.databricks.v1+cell": {
     "cellMetadata": {},
     "inputWidgets": {},
     "nuid": "3415a310-d58f-4851-bb09-28dccbf66cde",
     "showTitle": false,
     "title": ""
    },
    "id": "rbNJOJVYE3G2"
   },
   "source": [
    "<i><b> each searh has change that relate with drug 26.8 percent."
   ]
  },
  {
   "cell_type": "markdown",
   "metadata": {
    "application/vnd.databricks.v1+cell": {
     "cellMetadata": {},
     "inputWidgets": {},
     "nuid": "e90bbae6-6db1-4dbb-b655-e6fb5d5a505e",
     "showTitle": false,
     "title": ""
    },
    "id": "zanlkjgDE3G2"
   },
   "source": [
    "## Chance of illegal contraband founded with search was conducted separated by driver race"
   ]
  },
  {
   "cell_type": "code",
   "execution_count": 0,
   "metadata": {
    "application/vnd.databricks.v1+cell": {
     "cellMetadata": {},
     "inputWidgets": {},
     "nuid": "1f95db4f-3bfa-49fa-833c-a1a5e2cd2d26",
     "showTitle": false,
     "title": ""
    },
    "id": "0w1up3kbE3G2",
    "outputId": "15b4212a-8862-4776-d05c-20394b8d51a9"
   },
   "outputs": [],
   "source": [
    "ri.loc[ri['search_conducted']== True].groupby('driver_race').mean()[['contraband_weapons','contraband_alcohol', 'contraband_drugs']] "
   ]
  },
  {
   "cell_type": "code",
   "execution_count": 0,
   "metadata": {
    "application/vnd.databricks.v1+cell": {
     "cellMetadata": {},
     "inputWidgets": {},
     "nuid": "c1b580dd-697a-4b48-8cad-364ce10a49ac",
     "showTitle": false,
     "title": ""
    },
    "id": "Y-8fSPVDE3G3",
    "outputId": "4a5d0344-c83e-4dfc-f8ce-afda79c395dc"
   },
   "outputs": [],
   "source": [
    "ri.loc[ri['search_conducted']== True].groupby('driver_race').mean()[['contraband_weapons','contraband_alcohol', 'contraband_drugs']].plot.bar()\n",
    "plt.tight_layout()\n",
    "plt.show()"
   ]
  },
  {
   "cell_type": "markdown",
   "metadata": {
    "application/vnd.databricks.v1+cell": {
     "cellMetadata": {},
     "inputWidgets": {},
     "nuid": "0d8a7062-7299-4849-b617-c0bd6987c9b8",
     "showTitle": false,
     "title": ""
    },
    "id": "KlRqLQUHE3G3"
   },
   "source": [
    "<i><b>from the chart above show no significant connection for specific driver_race to the contraband illegal subject."
   ]
  },
  {
   "cell_type": "markdown",
   "metadata": {
    "application/vnd.databricks.v1+cell": {
     "cellMetadata": {},
     "inputWidgets": {},
     "nuid": "210892e1-f952-479e-9fbc-429c0cf7b785",
     "showTitle": false,
     "title": ""
    },
    "id": "ymgmmRChE3G3"
   },
   "source": [
    "## What violations are caught in each district?\n",
    "\n",
    "pd.crosstab(df.column1,df.column2) # df.column is pd.series\n",
    ".loc[]"
   ]
  },
  {
   "cell_type": "code",
   "execution_count": 0,
   "metadata": {
    "application/vnd.databricks.v1+cell": {
     "cellMetadata": {},
     "inputWidgets": {},
     "nuid": "79e54b44-a478-4c75-85d6-671df84512bd",
     "showTitle": false,
     "title": ""
    },
    "id": "DE7WDDneE3G3",
    "outputId": "5b3d6b1b-2be5-4da7-94b0-74cbf5176a12"
   },
   "outputs": [],
   "source": [
    "# group the table and see frequency in all districts and violations\n",
    "all_area = pd.crosstab(ri['district'], ri['reason_for_stop'])\n",
    "all_area.head(10)"
   ]
  },
  {
   "cell_type": "code",
   "execution_count": 0,
   "metadata": {
    "application/vnd.databricks.v1+cell": {
     "cellMetadata": {},
     "inputWidgets": {},
     "nuid": "345ba56e-416c-4438-96d4-e409d378dff4",
     "showTitle": false,
     "title": ""
    },
    "id": "TBupTj2nE3G3",
    "outputId": "e15a0e82-1b30-44d0-ed99-64d08718245a"
   },
   "outputs": [],
   "source": [
    "all_area.plot(kind='bar', figsize= (12,5))\n",
    "plt.tight_layout()\n",
    "plt.legend(loc=\"upper left\")\n",
    "plt.show()"
   ]
  },
  {
   "cell_type": "markdown",
   "metadata": {
    "application/vnd.databricks.v1+cell": {
     "cellMetadata": {},
     "inputWidgets": {},
     "nuid": "2116d5a9-911e-4a2e-ad30-2e6f53377439",
     "showTitle": false,
     "title": ""
    },
    "id": "Gn_D9f0LE3G4"
   },
   "source": [
    "<i>each district must have a different population size of people but we saw the most stop is \"Speeding\"."
   ]
  },
  {
   "cell_type": "code",
   "execution_count": 0,
   "metadata": {
    "application/vnd.databricks.v1+cell": {
     "cellMetadata": {},
     "inputWidgets": {},
     "nuid": "10fa4a76-dd41-4368-b9ce-48474b57c130",
     "showTitle": false,
     "title": ""
    },
    "id": "9U4AX51hE3G4"
   },
   "outputs": [],
   "source": [
    "# all_area_nrm = (all_area-all_area.min())/(all_area.max()-all_area.min()) == need?\n",
    "# all_area_stded = (all_area-all_area.mean())/all_area.std() == not reasonable to use Standardization "
   ]
  },
  {
   "cell_type": "markdown",
   "metadata": {
    "application/vnd.databricks.v1+cell": {
     "cellMetadata": {},
     "inputWidgets": {},
     "nuid": "1f1bea81-2697-48b7-b4e4-27abc55b9c98",
     "showTitle": false,
     "title": ""
    },
    "id": "9OmNH_t5E3G4"
   },
   "source": [
    "# How Driver Race influence police activity?"
   ]
  },
  {
   "cell_type": "code",
   "execution_count": 0,
   "metadata": {
    "application/vnd.databricks.v1+cell": {
     "cellMetadata": {},
     "inputWidgets": {},
     "nuid": "964993d1-a0a0-4a2d-868e-72f4868fb2c9",
     "showTitle": false,
     "title": ""
    },
    "id": "SHbSMI3iE3G4",
    "outputId": "596b8f76-69d7-4508-ca52-c41b445fcb6a"
   },
   "outputs": [],
   "source": [
    "# show each race count\n",
    "ri.loc[ri.index.year == 2015].driver_race.value_counts()"
   ]
  },
  {
   "cell_type": "code",
   "execution_count": 0,
   "metadata": {
    "application/vnd.databricks.v1+cell": {
     "cellMetadata": {},
     "inputWidgets": {},
     "nuid": "47ff9757-5d58-42ba-a264-52c9d4355b71",
     "showTitle": false,
     "title": ""
    },
    "id": "Yh68CdnoE3G4",
    "outputId": "134c069a-449f-4b68-c263-3427a5571a00"
   },
   "outputs": [],
   "source": [
    "# find the stop count for each race in year 2015\n",
    "race_stop = pd.DataFrame(ri.loc[ri.index.year == 2015].driver_race.value_counts())\n",
    "race_stop"
   ]
  },
  {
   "cell_type": "code",
   "execution_count": 0,
   "metadata": {
    "application/vnd.databricks.v1+cell": {
     "cellMetadata": {},
     "inputWidgets": {},
     "nuid": "f3eade22-38ed-484f-a941-a2ed589a96e5",
     "showTitle": false,
     "title": ""
    },
    "id": "tFbPjfIWE3G4"
   },
   "outputs": [],
   "source": []
  },
  {
   "cell_type": "code",
   "execution_count": 0,
   "metadata": {
    "application/vnd.databricks.v1+cell": {
     "cellMetadata": {},
     "inputWidgets": {},
     "nuid": "d15c945f-03de-4dbe-b019-819caec51d23",
     "showTitle": false,
     "title": ""
    },
    "id": "iE0IE6hCE3G7",
    "outputId": "bcf8c237-13ab-4de7-b238-3641bd516329"
   },
   "outputs": [],
   "source": [
    "Ri_pop = pd.read_csv('dataset/RIpopulation.csv')\n",
    "Ri_pop"
   ]
  },
  {
   "cell_type": "code",
   "execution_count": 0,
   "metadata": {
    "application/vnd.databricks.v1+cell": {
     "cellMetadata": {},
     "inputWidgets": {},
     "nuid": "a581f3e4-6808-4fa5-ab2f-ed4fec38fc73",
     "showTitle": false,
     "title": ""
    },
    "id": "tcaBt6F2E3G8"
   },
   "outputs": [],
   "source": [
    "# proper change the colomn name and adjust table\n",
    "Ri_pop2015 = pd.DataFrame(Ri_pop.loc[Ri_pop['date'] ==2015])\n",
    "Ri_pop2015.drop(columns=['date'], inplace= True)\n",
    "Ri_pop2015 = Ri_pop2015.transpose()\n",
    "Ri_pop2015.rename(columns={4: \"pop2015\"},inplace=True)"
   ]
  },
  {
   "cell_type": "code",
   "execution_count": 0,
   "metadata": {
    "application/vnd.databricks.v1+cell": {
     "cellMetadata": {},
     "inputWidgets": {},
     "nuid": "eb6e151f-c930-49f6-8152-8bd76b987d50",
     "showTitle": false,
     "title": ""
    },
    "id": "x6NPPD7tE3G8",
    "outputId": "37aa3410-f3b7-4f66-c1a4-f43811f914e1"
   },
   "outputs": [],
   "source": [
    "Ri_pop2015"
   ]
  },
  {
   "cell_type": "markdown",
   "metadata": {
    "application/vnd.databricks.v1+cell": {
     "cellMetadata": {},
     "inputWidgets": {},
     "nuid": "6bc5b801-679f-4822-afea-9f57d651eedd",
     "showTitle": false,
     "title": ""
    },
    "id": "ObSrRr28E3G8"
   },
   "source": [
    "## Find out the stop rate on each race\n",
    "\n",
    "by merging 2 tables and add stop_rate column"
   ]
  },
  {
   "cell_type": "code",
   "execution_count": 0,
   "metadata": {
    "application/vnd.databricks.v1+cell": {
     "cellMetadata": {},
     "inputWidgets": {},
     "nuid": "e303ea54-d337-4b6b-96a2-922918b2138a",
     "showTitle": false,
     "title": ""
    },
    "id": "lyg2Z_mJE3G8"
   },
   "outputs": [],
   "source": [
    "race_stop2015 = race_stop.merge(Ri_pop2015, left_on=race_stop.index, right_on=Ri_pop2015.index)\n",
    "race_stop2015.rename(columns={'key_0': \"race\", 'driver_race':'stop_number', 'pop2015':'num_people'},inplace=True)\n",
    "race_stop2015['stop_rate'] = race_stop2015['stop_number'] / race_stop2015['num_people']"
   ]
  },
  {
   "cell_type": "code",
   "execution_count": 0,
   "metadata": {
    "application/vnd.databricks.v1+cell": {
     "cellMetadata": {},
     "inputWidgets": {},
     "nuid": "4d4b0235-33a7-4b53-9a20-3e0aa5158f6b",
     "showTitle": false,
     "title": ""
    },
    "id": "8NyuienXE3G9",
    "outputId": "02b17534-0388-40ed-dcd3-6ab917fbb157"
   },
   "outputs": [],
   "source": [
    "race_stop2015"
   ]
  },
  {
   "cell_type": "code",
   "execution_count": 0,
   "metadata": {
    "application/vnd.databricks.v1+cell": {
     "cellMetadata": {},
     "inputWidgets": {},
     "nuid": "e9a3b8ec-b9db-48b5-a3da-0d97ae18063e",
     "showTitle": false,
     "title": ""
    },
    "id": "HMvfITkuE3G9",
    "outputId": "9c132139-45bf-4e27-ec63-41c623e53059"
   },
   "outputs": [],
   "source": [
    "race_stop2015.set_index('race').stop_rate.sort_values(ascending= False).plot(kind= 'bar', figsize= (7,3))\n",
    "plt.xticks(rotation=45)\n",
    "plt.yticks([0.1,0.2,0.3])\n",
    "plt.ylabel('stop_rate')\n",
    "# plt.gca().axes.get_xaxis().set_visible(False) use to hide xtick and x-axis\n",
    "\n",
    "plt.show()"
   ]
  },
  {
   "cell_type": "markdown",
   "metadata": {
    "application/vnd.databricks.v1+cell": {
     "cellMetadata": {},
     "inputWidgets": {},
     "nuid": "55d883a4-c8be-47ce-a4ca-f3d2062ba12b",
     "showTitle": false,
     "title": ""
    },
    "id": "hrATn0rgE3G9"
   },
   "source": [
    "<b><i> In Rhod Island stop rate for black people is higher than the rest race base on population proportion.\n",
    "Black drivers are stopped at a rate 3.2 times higher than white drivers. Hispanic drivers are stopped at a rate 1.6 times higher than white drivers."
   ]
  },
  {
   "cell_type": "markdown",
   "metadata": {
    "application/vnd.databricks.v1+cell": {
     "cellMetadata": {},
     "inputWidgets": {},
     "nuid": "0cda6aad-6246-4903-aca5-a3deeb5907fb",
     "showTitle": false,
     "title": ""
    },
    "id": "EH0x0NawE3G9"
   },
   "source": [
    "## Search rates and frisk rate by each race"
   ]
  },
  {
   "cell_type": "code",
   "execution_count": 0,
   "metadata": {
    "application/vnd.databricks.v1+cell": {
     "cellMetadata": {},
     "inputWidgets": {},
     "nuid": "9e838ed3-0995-4a1f-b8b3-68fa1d8d24b2",
     "showTitle": false,
     "title": ""
    },
    "id": "95xTy7uZE3G9",
    "outputId": "4bd0fa00-00a8-46ec-d2e7-0ef2b9ea84b9"
   },
   "outputs": [],
   "source": [
    "# fns2015 = ri.loc[ri.index.year == 2015].groupby('driver_race').mean()[['frisk_performed','search_conducted']]\n",
    "fns2015 = ri.groupby('driver_race').mean()[['frisk_performed','search_conducted']]\n",
    "fns2015"
   ]
  },
  {
   "cell_type": "code",
   "execution_count": 0,
   "metadata": {
    "application/vnd.databricks.v1+cell": {
     "cellMetadata": {},
     "inputWidgets": {},
     "nuid": "92f61ca9-10f5-4661-b102-2ca22a40d108",
     "showTitle": false,
     "title": ""
    },
    "id": "9vU8lJYSE3G-",
    "outputId": "63f17cff-aa6c-4ee4-a3fb-4e2cef970c6e"
   },
   "outputs": [],
   "source": [
    "fns2015.sort_values(by='frisk_performed', ascending=False).plot.bar(color=['brown', 'green'], figsize= (12,5))\n",
    "plt.xticks(rotation=35)\n",
    "plt.tight_layout()\n",
    "plt.show()"
   ]
  },
  {
   "cell_type": "code",
   "execution_count": 0,
   "metadata": {
    "application/vnd.databricks.v1+cell": {
     "cellMetadata": {},
     "inputWidgets": {},
     "nuid": "bd10dc04-a2c3-4860-a428-4e37aa3fa88b",
     "showTitle": false,
     "title": ""
    },
    "id": "0MMyYJcSE3G-",
    "outputId": "5f4ccc5b-47bd-4554-92cd-488d11dc5806"
   },
   "outputs": [],
   "source": [
    "# compare value how many fold base on white race \n",
    "fns2015.loc['white']['frisk_performed']\n",
    "fns2015.loc['white']['search_conducted']\n",
    "fns2015_twhite = fns2015.copy()\n",
    "fns2015_twhite['div_by_whith_frisk'] = fns2015_twhite.frisk_performed / (fns2015.loc['white']['frisk_performed'])\n",
    "fns2015_twhite['div_by_whith_sch'] = fns2015_twhite.frisk_performed / (fns2015.loc['white']['search_conducted'])\n",
    "fns2015_twhite"
   ]
  },
  {
   "cell_type": "markdown",
   "metadata": {
    "application/vnd.databricks.v1+cell": {
     "cellMetadata": {},
     "inputWidgets": {},
     "nuid": "476e1dfe-608c-4e40-a0d4-7c45ea9b409e",
     "showTitle": false,
     "title": ""
    },
    "id": "yyjGzSwoE3G-"
   },
   "source": [
    "Here we see that among drivers who were stopped, <i><b>black drivers were searched at a rate 2.19</i></b> times higher than white drivers, and <i><b>Hispanic drivers were searched at a rate 1.92</i></b> times higher than white drivers. <i><b>Black drivers were frisked at a rate 1.16</i></b> times higher than white drivers were, and <i><b>Hispanic drivers were frisked at a rate 1.02</i></b> times higher than white drivers were."
   ]
  },
  {
   "cell_type": "code",
   "execution_count": 0,
   "metadata": {
    "application/vnd.databricks.v1+cell": {
     "cellMetadata": {},
     "inputWidgets": {},
     "nuid": "5ac37c4d-bc6f-4964-8a16-6f5cdbe04d9c",
     "showTitle": false,
     "title": ""
    },
    "id": "sBqpd24DE3G-",
    "outputId": "5cf6dac1-b92f-43d2-b706-f2f53df90df8"
   },
   "outputs": [],
   "source": [
    "print(\"Here we see that among drivers who were stopped, black drivers were searched at a rate {:.2f} times higher than white drivers, and Hispanic drivers were searched at a rate {:.2f} times higher than white drivers. Black drivers were frisked at a rate {:.2f} times higher than white drivers were, and Hispanic drivers were frisked at a rate {:.2f} times higher than white drivers were\".format(fns2015_twhite.loc['black']['div_by_whith_frisk'], fns2015_twhite.loc['hispanic']['div_by_whith_frisk'], fns2015_twhite.loc['black']['div_by_whith_sch'], fns2015_twhite.loc['hispanic']['div_by_whith_sch']))"
   ]
  }
 ],
 "metadata": {
  "application/vnd.databricks.v1+notebook": {
   "dashboards": [],
   "language": "python",
   "notebookMetadata": {},
   "notebookName": "PoliceStopRI",
   "widgets": {}
  },
  "colab": {
   "name": "Copy of PoliceStopRI.ipynb",
   "provenance": [
    {
     "file_id": "1VwSjFmoqzpWG_X-F8W8lYSrT2dd9I7wS",
     "timestamp": 1608902744150
    }
   ]
  },
  "kernelspec": {
   "display_name": "Python 3",
   "language": "python",
   "name": "python3"
  },
  "language_info": {
   "codemirror_mode": {
    "name": "ipython",
    "version": 3
   },
   "file_extension": ".py",
   "mimetype": "text/x-python",
   "name": "python",
   "nbconvert_exporter": "python",
   "pygments_lexer": "ipython3",
   "version": "3.8.3"
  }
 },
 "nbformat": 4,
 "nbformat_minor": 0
}
