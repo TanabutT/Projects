{
 "cells": [
  {
   "cell_type": "markdown",
   "metadata": {
    "application/vnd.databricks.v1+cell": {
     "cellMetadata": {},
     "inputWidgets": {},
     "nuid": "56c056ee-de4e-4fb9-9ef3-13d6440ccddc",
     "showTitle": false,
     "title": ""
    },
    "id": "3RKC0wygRxjb"
   },
   "source": [
    "# THE STANFORDOPEN POLICINGPROJECT part 2"
   ]
  },
  {
   "cell_type": "markdown",
   "metadata": {
    "application/vnd.databricks.v1+cell": {
     "cellMetadata": {},
     "inputWidgets": {},
     "nuid": "4b2a5540-cdc3-494e-8cec-4641f2fe2d8b",
     "showTitle": false,
     "title": ""
    },
    "id": "xoPwNmi7gcsi"
   },
   "source": [
    "## ใช้ search เป็น label ในการหาว่าใครจะโดนตรวจ  \r\n",
    "## ต้องตัดส่วนของ arrest_made ออกไป"
   ]
  },
  {
   "cell_type": "code",
   "execution_count": 0,
   "metadata": {
    "application/vnd.databricks.v1+cell": {
     "cellMetadata": {},
     "inputWidgets": {},
     "nuid": "d3aade89-6c60-4bd5-b6df-2e2dd0ad940b",
     "showTitle": false,
     "title": ""
    },
    "colab": {
     "base_uri": "https://localhost:8080/",
     "height": 35
    },
    "executionInfo": {
     "elapsed": 3299,
     "status": "ok",
     "timestamp": 1608821876291,
     "user": {
      "displayName": "Tanabut Taksinavongskul",
      "photoUrl": "https://lh3.googleusercontent.com/a-/AOh14GjdeYgguREkhXj0QQyf-Dk6Ab4ckWW-o7LRRp-S=s64",
      "userId": "14729062160457571427"
     },
     "user_tz": -420
    },
    "id": "Lia2XIuzIKKK",
    "outputId": "77d1bc0a-e461-4f3d-e8dd-1857219a9afe"
   },
   "outputs": [],
   "source": [
    "import tensorflow as tf\r\n",
    "tf.test.gpu_device_name()"
   ]
  },
  {
   "cell_type": "markdown",
   "metadata": {
    "application/vnd.databricks.v1+cell": {
     "cellMetadata": {},
     "inputWidgets": {},
     "nuid": "cffc8480-d28b-4344-a7a9-0c938c9b021a",
     "showTitle": false,
     "title": ""
    },
    "id": "bDnjP57NiaxH"
   },
   "source": [
    "## จุดมุ่งหมายของการทำ Machine Learning model\r\n",
    "  มาลองคิดวิเคราห์ดูกันสนุกๆ ก่อน จากข้อมูลชุดนี้ที่เรามี สามารถนำไปใช้ประโยชน์อะไรได้บ้าง"
   ]
  },
  {
   "cell_type": "markdown",
   "metadata": {
    "application/vnd.databricks.v1+cell": {
     "cellMetadata": {},
     "inputWidgets": {},
     "nuid": "d68e3e23-a43a-49e1-bbdb-43592925a90f",
     "showTitle": false,
     "title": ""
    },
    "id": "ZL1mZaxenlPl"
   },
   "source": [
    "1. ด้านมืด ตัว model นี้ ถ้านำไปใช้ในกรณีผู้ต้องการทำสิ่งผิดกฏหมาย ลักลอบนำสิ่งผิดกฏหมายต่างๆ เช่น อาวุธ ยาเสพย์ติด สามารถรู้ได้ว่า ต้องเลือกใช้ transporter ประเภท ลักษณะ เชื้อชาติ เพศ แบบไหนถึงจะหลบเลี่ยงต่อการถูกจับ และถูกตรวจค้นได้มากที่สุด หรือ หลีกเลี่ยงการฝ่าฝืนกฏจราจร อันเพิ่มความเสี่ยงให้เกิดการถูกตรวจค้นและโดนค้นหาสิ่งผิดกฏหมายในยานพาหนะในที่สุด\r\n",
    "2. ด้านสว่าง ฝั่งนี้ก็จะเป็นประโยชน์แก่ตำรวจเอง สองประเด็นย่อย คือ หนึ่ง ทำให้ตำรวจไม่ bias หรือ อคติต่อคนจำพวกไหนจำพวกหนึ่งมากเกินไป และ ไม่ปล่อยปะหละหลวมกับคนอีกจำพวกหนึ่ง ทำให้การปฏิบัติหน้าที่มีความรอบคอบมากขึ้น สอง เมื่อการปฏิบัติหน้าที่มีความรอบคอบ และเท่าเทียมกันต่อทุกคนทุกความหลากหลายของกลุ่มคน ทำให้มีภาพลักษณ์ต่อสาธารณชนดีขึ้นไม่มีการเลือกปฏิบัติต่อกลุ่มคนบางกลุ่ม ป้องกันไม่ให้เกิดปัญหาตามมาเช่น ข่าวดังที่ติด hashtag ไปทั่วเรื่อง #blacklivematter นั่นเอง"
   ]
  },
  {
   "cell_type": "markdown",
   "metadata": {
    "application/vnd.databricks.v1+cell": {
     "cellMetadata": {},
     "inputWidgets": {},
     "nuid": "8c9af739-ef06-40f9-8437-9a0a1576ff29",
     "showTitle": false,
     "title": ""
    },
    "id": "0MRC0e0KhQ0S"
   },
   "source": [
    "# เริ่มสร้าง Machine learning model กันเลยครับ\r\n",
    "\r\n",
    "  กำหนดตัวผลลัพท์จาก model ที่เราต้องการ\r\n",
    "ขั้นแรก เราต้องการให้ผลลัพท์คือ ค่า y_pred (ค่าการทำนายจาก model) จากข้อมูลของการปฏิบัติงานของตำรวจใน Rhode Island ที่เกิดขึ้นจริงและเก็บ record ไว้ ในครั้งนี้จะมาสนใจในการทำ model ว่าจากพื้นฐานข้อมูลที่มีอยู่นี้ลักษณะการปฏิบัติงานของตำรวจส่งผลต่อการ ตรวจค้นยานพาหนะในท้ายที่สุดหรือไม่ นั่นก็คือ เราให้ label ที่ต้องการจะ model บอกเราครับ เพราะฉะนั้น จากตารางที่เรามีข้างล่างจะเห็นว่า ควร drop เรื่องของการถูกจับกุมหลังตรวจค้นยานพาหนะทิ้งไปเนื่องจากเป็นผลที่เกิดหลังจากพบเจอสิ่งผิดกฏหมาย\r\n",
    "<br>\r\n",
    "<br>\r\n",
    "  <b><U>ให้ label หรือผลลัพธ์ที่ต้องการจาก model ที่ได้คือ search_conducted ก็คือการตรวจค้นยานพาหนะ<b><u>"
   ]
  },
  {
   "cell_type": "markdown",
   "metadata": {
    "application/vnd.databricks.v1+cell": {
     "cellMetadata": {},
     "inputWidgets": {},
     "nuid": "30a55a59-07ae-4b54-9ec7-2d5bec12e972",
     "showTitle": false,
     "title": ""
    },
    "id": "LWd1UlMnhT2s"
   },
   "source": [
    "## Importing the libraries"
   ]
  },
  {
   "cell_type": "code",
   "execution_count": 0,
   "metadata": {
    "application/vnd.databricks.v1+cell": {
     "cellMetadata": {},
     "inputWidgets": {},
     "nuid": "d18c76df-8a1e-4345-adaa-833bdd701a39",
     "showTitle": false,
     "title": ""
    },
    "id": "iYKnBPLZl8lx"
   },
   "outputs": [],
   "source": [
    "import numpy as np\r\n",
    "import matplotlib.pyplot as plt\r\n",
    "import pandas as pd "
   ]
  },
  {
   "cell_type": "markdown",
   "metadata": {
    "application/vnd.databricks.v1+cell": {
     "cellMetadata": {},
     "inputWidgets": {},
     "nuid": "b5638e92-72b0-4188-af83-6e9a6d102916",
     "showTitle": false,
     "title": ""
    },
    "id": "K1VMqkGvhc3-"
   },
   "source": [
    "## Importing the dataset and prepare prior to model input"
   ]
  },
  {
   "cell_type": "code",
   "execution_count": 0,
   "metadata": {
    "application/vnd.databricks.v1+cell": {
     "cellMetadata": {},
     "inputWidgets": {},
     "nuid": "81b3bd61-ed71-433e-82e8-e235dcf9b09d",
     "showTitle": false,
     "title": ""
    },
    "colab": {
     "base_uri": "https://localhost:8080/"
    },
    "executionInfo": {
     "elapsed": 3281,
     "status": "ok",
     "timestamp": 1608821876293,
     "user": {
      "displayName": "Tanabut Taksinavongskul",
      "photoUrl": "https://lh3.googleusercontent.com/a-/AOh14GjdeYgguREkhXj0QQyf-Dk6Ab4ckWW-o7LRRp-S=s64",
      "userId": "14729062160457571427"
     },
     "user_tz": -420
    },
    "id": "VEeW7iTPoTJY",
    "outputId": "3cf4214f-d3a9-4947-d6b2-2b6db8e836d4"
   },
   "outputs": [],
   "source": [
    "from google.colab import drive\n",
    "drive.mount('/content/drive')"
   ]
  },
  {
   "cell_type": "code",
   "execution_count": 0,
   "metadata": {
    "application/vnd.databricks.v1+cell": {
     "cellMetadata": {},
     "inputWidgets": {},
     "nuid": "bf1bdfa1-2754-44e4-bc2d-f507aafec62b",
     "showTitle": false,
     "title": ""
    },
    "id": "FJeJxFizmuwv"
   },
   "outputs": [],
   "source": [
    "raw = pd.read_csv('/content/drive/MyDrive/DS511 Data Science/ProjectFinalDS711_110_115/PoliceRI2020cleaned.csv',index_col= \"date_stop_time\")"
   ]
  },
  {
   "cell_type": "code",
   "execution_count": 0,
   "metadata": {
    "application/vnd.databricks.v1+cell": {
     "cellMetadata": {},
     "inputWidgets": {},
     "nuid": "322689b7-283e-4d4e-8a83-5be971ada04f",
     "showTitle": false,
     "title": ""
    },
    "colab": {
     "base_uri": "https://localhost:8080/",
     "height": 235
    },
    "executionInfo": {
     "elapsed": 3826,
     "status": "ok",
     "timestamp": 1608821876848,
     "user": {
      "displayName": "Tanabut Taksinavongskul",
      "photoUrl": "https://lh3.googleusercontent.com/a-/AOh14GjdeYgguREkhXj0QQyf-Dk6Ab4ckWW-o7LRRp-S=s64",
      "userId": "14729062160457571427"
     },
     "user_tz": -420
    },
    "id": "qTROqcKuiz6S",
    "outputId": "1e0f4330-7294-49b5-a88b-7d41d126c2d0"
   },
   "outputs": [],
   "source": [
    "raw.head()"
   ]
  },
  {
   "cell_type": "markdown",
   "metadata": {
    "application/vnd.databricks.v1+cell": {
     "cellMetadata": {},
     "inputWidgets": {},
     "nuid": "eb101476-34a4-4ec6-af57-2924b8c0d5b1",
     "showTitle": false,
     "title": ""
    },
    "id": "lEsFKFonrVXs"
   },
   "source": [
    "## ทำการสลับให้ column ที่เป็น label ไปอยู่ท้ายสุดให้ง่ายต่อการเลือก column ในการทำงาน"
   ]
  },
  {
   "cell_type": "markdown",
   "metadata": {
    "application/vnd.databricks.v1+cell": {
     "cellMetadata": {},
     "inputWidgets": {},
     "nuid": "fb68a0a3-44cc-49e4-8f63-6c8f2ecbbe69",
     "showTitle": false,
     "title": ""
    },
    "id": "CXGRixnIpHnW"
   },
   "source": [
    "ข้อมูลเป็นแบบตารางที่ทำการ clean มาเรียบร้อยแล้วแต่ยังต้องมีการจัดเรียงให้ง่ายต่อการป้อนเข้าสู่ model ของ ML: machine learning ต่อไป เราจะกำหนดจากจุดมุ่งหมายได้บน"
   ]
  },
  {
   "cell_type": "code",
   "execution_count": 0,
   "metadata": {
    "application/vnd.databricks.v1+cell": {
     "cellMetadata": {},
     "inputWidgets": {},
     "nuid": "eb09e34e-ff5f-489b-8dde-96ff4cac7724",
     "showTitle": false,
     "title": ""
    },
    "colab": {
     "base_uri": "https://localhost:8080/"
    },
    "executionInfo": {
     "elapsed": 3820,
     "status": "ok",
     "timestamp": 1608821876848,
     "user": {
      "displayName": "Tanabut Taksinavongskul",
      "photoUrl": "https://lh3.googleusercontent.com/a-/AOh14GjdeYgguREkhXj0QQyf-Dk6Ab4ckWW-o7LRRp-S=s64",
      "userId": "14729062160457571427"
     },
     "user_tz": -420
    },
    "id": "74GjakoHq6n0",
    "outputId": "d12b0084-bd21-4d86-ba05-ddb985a94d90"
   },
   "outputs": [],
   "source": [
    "raw.columns"
   ]
  },
  {
   "cell_type": "code",
   "execution_count": 0,
   "metadata": {
    "application/vnd.databricks.v1+cell": {
     "cellMetadata": {},
     "inputWidgets": {},
     "nuid": "3c580612-f0c8-4722-9887-0f1f60efc408",
     "showTitle": false,
     "title": ""
    },
    "colab": {
     "base_uri": "https://localhost:8080/",
     "height": 235
    },
    "executionInfo": {
     "elapsed": 4271,
     "status": "ok",
     "timestamp": 1608821877306,
     "user": {
      "displayName": "Tanabut Taksinavongskul",
      "photoUrl": "https://lh3.googleusercontent.com/a-/AOh14GjdeYgguREkhXj0QQyf-Dk6Ab4ckWW-o7LRRp-S=s64",
      "userId": "14729062160457571427"
     },
     "user_tz": -420
    },
    "id": "xWmpZBpDq_CX",
    "outputId": "8bdf5281-7e3d-49ac-de70-985a6dd2564c"
   },
   "outputs": [],
   "source": [
    "raw = raw[['district', 'driver_race', 'driver_gender', 'arrest_made',\r\n",
    "       'citation_issued', 'warning_issued', 'contraband_drugs',\r\n",
    "       'contraband_weapons', 'contraband_alcohol', 'frisk_performed',\r\n",
    "       'reason_for_stop', 'search_conducted']]\r\n",
    "raw.head()"
   ]
  },
  {
   "cell_type": "markdown",
   "metadata": {
    "application/vnd.databricks.v1+cell": {
     "cellMetadata": {},
     "inputWidgets": {},
     "nuid": "24f3c4a3-688b-4723-9c93-8aea7d730d7e",
     "showTitle": false,
     "title": ""
    },
    "id": "G6n1ZKw1pAEG"
   },
   "source": [
    "ต่อไป คือการทำการ drop column \"arrest_made\" ควร drop เรื่องของการถูกจับกุมหลังตรวจค้นยานพาหนะทิ้งไปเนื่องจากเป็นผลที่เกิดหลังจากพบเจอสิ่งผิดกฏหมายโดยใช้ code ดังนี้"
   ]
  },
  {
   "cell_type": "code",
   "execution_count": 0,
   "metadata": {
    "application/vnd.databricks.v1+cell": {
     "cellMetadata": {},
     "inputWidgets": {},
     "nuid": "db1631c3-86db-46ed-a81b-abc191ccd500",
     "showTitle": false,
     "title": ""
    },
    "colab": {
     "base_uri": "https://localhost:8080/",
     "height": 235
    },
    "executionInfo": {
     "elapsed": 4266,
     "status": "ok",
     "timestamp": 1608821877307,
     "user": {
      "displayName": "Tanabut Taksinavongskul",
      "photoUrl": "https://lh3.googleusercontent.com/a-/AOh14GjdeYgguREkhXj0QQyf-Dk6Ab4ckWW-o7LRRp-S=s64",
      "userId": "14729062160457571427"
     },
     "user_tz": -420
    },
    "id": "MLwICMDImpNq",
    "outputId": "3cd67f58-0e12-4569-c907-074466b22a9d"
   },
   "outputs": [],
   "source": [
    "raw.drop('arrest_made', axis=1, inplace= True)\r\n",
    "raw.head()"
   ]
  },
  {
   "cell_type": "markdown",
   "metadata": {
    "application/vnd.databricks.v1+cell": {
     "cellMetadata": {},
     "inputWidgets": {},
     "nuid": "3e4feba7-0328-4715-90b7-492f6b2a1cd1",
     "showTitle": false,
     "title": ""
    },
    "id": "1yrO__TXpnbQ"
   },
   "source": [
    "### ทดลองดึงข้อมูลออกมาดูจากแถวที่ 25 โดยไม่รวมเอา column ที่เป็น Label (ผลลัพธ์) ออกมาด้วย ว่าข้อมูลมีลักษณะอย่างไร"
   ]
  },
  {
   "cell_type": "code",
   "execution_count": 0,
   "metadata": {
    "application/vnd.databricks.v1+cell": {
     "cellMetadata": {},
     "inputWidgets": {},
     "nuid": "92d8bc5a-88d3-4376-b76e-78fc0ecaff41",
     "showTitle": false,
     "title": ""
    },
    "colab": {
     "base_uri": "https://localhost:8080/"
    },
    "executionInfo": {
     "elapsed": 4260,
     "status": "ok",
     "timestamp": 1608821877307,
     "user": {
      "displayName": "Tanabut Taksinavongskul",
      "photoUrl": "https://lh3.googleusercontent.com/a-/AOh14GjdeYgguREkhXj0QQyf-Dk6Ab4ckWW-o7LRRp-S=s64",
      "userId": "14729062160457571427"
     },
     "user_tz": -420
    },
    "id": "D0sedXWwuGfc",
    "outputId": "048b4fb3-43b6-401b-9e37-e88e2748ee01"
   },
   "outputs": [],
   "source": [
    "raw.iloc[25, :-1].values"
   ]
  },
  {
   "cell_type": "markdown",
   "metadata": {
    "application/vnd.databricks.v1+cell": {
     "cellMetadata": {},
     "inputWidgets": {},
     "nuid": "32c1667f-a608-4a39-aa77-227166b6f819",
     "showTitle": false,
     "title": ""
    },
    "id": "d4u8XjN-pVM2"
   },
   "source": [
    "## ทำการแบ่งชุดข้อมูลให้เป็นส่วนของการ train ของ model และ ส่วน Label ของ model"
   ]
  },
  {
   "cell_type": "code",
   "execution_count": 0,
   "metadata": {
    "application/vnd.databricks.v1+cell": {
     "cellMetadata": {},
     "inputWidgets": {},
     "nuid": "e89f67e6-75d4-4090-910d-eb998a7dc327",
     "showTitle": false,
     "title": ""
    },
    "colab": {
     "base_uri": "https://localhost:8080/"
    },
    "executionInfo": {
     "elapsed": 4255,
     "status": "ok",
     "timestamp": 1608821877308,
     "user": {
      "displayName": "Tanabut Taksinavongskul",
      "photoUrl": "https://lh3.googleusercontent.com/a-/AOh14GjdeYgguREkhXj0QQyf-Dk6Ab4ckWW-o7LRRp-S=s64",
      "userId": "14729062160457571427"
     },
     "user_tz": -420
    },
    "id": "oNso9_tQjpy4",
    "outputId": "27f9e935-ad68-41e1-d06f-5feaa040cd9f"
   },
   "outputs": [],
   "source": [
    "X = raw.iloc[:, :-1].values\r\n",
    "y = raw.iloc[:, -1].values\r\n",
    "print(\"X :\", X)\r\n",
    "print(\"y :\", y)\r\n",
    "print(\"X shape :\", X.shape)"
   ]
  },
  {
   "cell_type": "markdown",
   "metadata": {
    "application/vnd.databricks.v1+cell": {
     "cellMetadata": {},
     "inputWidgets": {},
     "nuid": "dd6c20f6-96cd-4be6-bdaa-8a3b468bdcc9",
     "showTitle": false,
     "title": ""
    },
    "id": "lqitMoZMgrG4"
   },
   "source": [
    "## Encoding the Independent Variable"
   ]
  },
  {
   "cell_type": "markdown",
   "metadata": {
    "application/vnd.databricks.v1+cell": {
     "cellMetadata": {},
     "inputWidgets": {},
     "nuid": "61d62440-5639-40b0-88bd-b3eeb3496043",
     "showTitle": false,
     "title": ""
    },
    "id": "sWrNxN9ttUcT"
   },
   "source": [
    "### ขั้นตอนนี้เป็นการทำการแปลงข้อมูลของค่า X ที่เป็นข้อมูลไว้สำหรับเป็น Train Model โดยจะแปลงที่ column \"district\", \"driver_race\", \"driver_gender\",\r\n",
    "\"reason_for_stop\" ที่เป็นข้อมูล Categorical Data ให้แตกเป็น Column ย่อย ๆ\r\n",
    "และเก็บข้อมูลเป็นแบบ Binary (เก็บค่าที่เป็น 0 หรือ 1 เท่านั้น)\r\n",
    "\r\n",
    "โดยปกติเราสามารถใช้ ฟังก์ชั่น getdummy() ได้ แต่ในที่นี้ขอใช้เป็น preprocessing ใน sklearn มาอำนวยความสะดวกในการทำ คือการใช้ ColumnTranformer และ\r\n",
    "OneHotEncoder"
   ]
  },
  {
   "cell_type": "markdown",
   "metadata": {
    "application/vnd.databricks.v1+cell": {
     "cellMetadata": {},
     "inputWidgets": {},
     "nuid": "ea052b8e-18c4-4bec-919f-1064c51bbde5",
     "showTitle": false,
     "title": ""
    },
    "id": "vjLTjq0NvO-f"
   },
   "source": [
    "และจะเห็นได้ว่าหลังจากผ่านกระบวนการนี้ ตัว feature ของค่า X จะมีขนาดเพิ่มจาก 10 เป็น 31 features"
   ]
  },
  {
   "cell_type": "code",
   "execution_count": 0,
   "metadata": {
    "application/vnd.databricks.v1+cell": {
     "cellMetadata": {},
     "inputWidgets": {},
     "nuid": "1691ece9-79b6-4492-a7f4-69e0f589f4dc",
     "showTitle": false,
     "title": ""
    },
    "id": "fsoqNZ1DgqJ1"
   },
   "outputs": [],
   "source": [
    "from sklearn.compose import ColumnTransformer\r\n",
    "from sklearn.preprocessing import OneHotEncoder\r\n",
    "ct = ColumnTransformer(transformers=[('encoder', OneHotEncoder(), [0,1,2,9])], remainder='passthrough')\r\n",
    "X = np.array(ct.fit_transform(X))"
   ]
  },
  {
   "cell_type": "code",
   "execution_count": 0,
   "metadata": {
    "application/vnd.databricks.v1+cell": {
     "cellMetadata": {},
     "inputWidgets": {},
     "nuid": "f703eff8-5f98-4450-ba15-5812a13b3eb7",
     "showTitle": false,
     "title": ""
    },
    "colab": {
     "base_uri": "https://localhost:8080/"
    },
    "executionInfo": {
     "elapsed": 5741,
     "status": "ok",
     "timestamp": 1608821878803,
     "user": {
      "displayName": "Tanabut Taksinavongskul",
      "photoUrl": "https://lh3.googleusercontent.com/a-/AOh14GjdeYgguREkhXj0QQyf-Dk6Ab4ckWW-o7LRRp-S=s64",
      "userId": "14729062160457571427"
     },
     "user_tz": -420
    },
    "id": "YUAvNC7ei0so",
    "outputId": "f7ab174e-ff35-4d50-8d54-b7f83e6652a5"
   },
   "outputs": [],
   "source": [
    "print(X)\r\n",
    "print(X.shape)"
   ]
  },
  {
   "cell_type": "markdown",
   "metadata": {
    "application/vnd.databricks.v1+cell": {
     "cellMetadata": {},
     "inputWidgets": {},
     "nuid": "ea4e78b9-5abe-42ea-8896-b2c00b7ad582",
     "showTitle": false,
     "title": ""
    },
    "id": "Sw2BoH5Pvc0Q"
   },
   "source": [
    "ทดลองดึง row ที่ 25 เช่นเดิมเพื่อดูว่าข้อมูลเป็นอย่างไรหลังจากทำผ่านการใช้ OneHotencoder ลองนำไปเทียบกับ row ที่ 25  ที่เราดึงจากตารางก่อนผ่านกระบวนการดูได้"
   ]
  },
  {
   "cell_type": "code",
   "execution_count": 0,
   "metadata": {
    "application/vnd.databricks.v1+cell": {
     "cellMetadata": {},
     "inputWidgets": {},
     "nuid": "dfaeb6c3-3dd7-4cd6-a087-d2718b1dba3d",
     "showTitle": false,
     "title": ""
    },
    "colab": {
     "base_uri": "https://localhost:8080/"
    },
    "executionInfo": {
     "elapsed": 5735,
     "status": "ok",
     "timestamp": 1608821878803,
     "user": {
      "displayName": "Tanabut Taksinavongskul",
      "photoUrl": "https://lh3.googleusercontent.com/a-/AOh14GjdeYgguREkhXj0QQyf-Dk6Ab4ckWW-o7LRRp-S=s64",
      "userId": "14729062160457571427"
     },
     "user_tz": -420
    },
    "id": "KV-zAD1ntgEu",
    "outputId": "2652fba8-943a-4b44-d96c-39f33f4a57df"
   },
   "outputs": [],
   "source": [
    "print(X[25])\r\n",
    "print(X[25].shape)"
   ]
  },
  {
   "cell_type": "markdown",
   "metadata": {
    "application/vnd.databricks.v1+cell": {
     "cellMetadata": {},
     "inputWidgets": {},
     "nuid": "c78a31b4-8d9f-4a12-a1b2-540b5a90b748",
     "showTitle": false,
     "title": ""
    },
    "id": "qCMqSwtLiOrw"
   },
   "source": [
    "## Encoding the Dependent Variable"
   ]
  },
  {
   "cell_type": "markdown",
   "metadata": {
    "application/vnd.databricks.v1+cell": {
     "cellMetadata": {},
     "inputWidgets": {},
     "nuid": "eaebcd1f-9d94-48c7-9e3c-84fa96172765",
     "showTitle": false,
     "title": ""
    },
    "id": "X3QlobSPugq5"
   },
   "source": [
    "### ขั้นตอนนี้เป็นการทำการแปลงข้อมูลของค่า y ที่เป็นข้อมูลไว้สำหรับเป็น Label model จากเดิมเป็นค่า boolean คือ True, False ให้เป็นค่า Binary (คือ 0 และ 1) โดยที่ 0 คือการไม่โดนตรวจค้นยานพาหนะ และ 1 คือโดนตรวจค้นยานพาหนะ"
   ]
  },
  {
   "cell_type": "code",
   "execution_count": 0,
   "metadata": {
    "application/vnd.databricks.v1+cell": {
     "cellMetadata": {},
     "inputWidgets": {},
     "nuid": "a53a6051-352b-4a7c-b88d-ce774676328d",
     "showTitle": false,
     "title": ""
    },
    "id": "rkUxEW_ZiRek"
   },
   "outputs": [],
   "source": [
    "from sklearn.preprocessing import LabelEncoder\r\n",
    "le = LabelEncoder()\r\n",
    "y = le.fit_transform(y)"
   ]
  },
  {
   "cell_type": "code",
   "execution_count": 0,
   "metadata": {
    "application/vnd.databricks.v1+cell": {
     "cellMetadata": {},
     "inputWidgets": {},
     "nuid": "cb70e8c2-85ca-4cc1-878c-790eb1760480",
     "showTitle": false,
     "title": ""
    },
    "colab": {
     "base_uri": "https://localhost:8080/"
    },
    "executionInfo": {
     "elapsed": 5725,
     "status": "ok",
     "timestamp": 1608821878804,
     "user": {
      "displayName": "Tanabut Taksinavongskul",
      "photoUrl": "https://lh3.googleusercontent.com/a-/AOh14GjdeYgguREkhXj0QQyf-Dk6Ab4ckWW-o7LRRp-S=s64",
      "userId": "14729062160457571427"
     },
     "user_tz": -420
    },
    "id": "ILNOL-WSiW74",
    "outputId": "b6cca96b-4b5e-480b-9ef8-62b58f95d8b9"
   },
   "outputs": [],
   "source": [
    "print(y)\r\n",
    "print(y.shape)"
   ]
  },
  {
   "cell_type": "markdown",
   "metadata": {
    "application/vnd.databricks.v1+cell": {
     "cellMetadata": {},
     "inputWidgets": {},
     "nuid": "eb63e811-9d7e-4ff6-83f5-4d450b8bb153",
     "showTitle": false,
     "title": ""
    },
    "id": "YvxIPVyMhmKp"
   },
   "source": [
    "## Splitting the dataset into the Training set and Test set"
   ]
  },
  {
   "cell_type": "markdown",
   "metadata": {
    "application/vnd.databricks.v1+cell": {
     "cellMetadata": {},
     "inputWidgets": {},
     "nuid": "fbc386ad-e872-46b1-863f-fe7555f9fb45",
     "showTitle": false,
     "title": ""
    },
    "id": "yp82hQchxjkZ"
   },
   "source": [
    "### ทำการแยกส่วนของ Training set และ Test set ด้วยการใช้ ฟังก์ชั่น train_test_split ในที่นี้ใช้ test_size 20 เปอร์เซ็นต์ของข้อมูลที่มี 80 เปอร์เซ็นต์ใช้ในการ train model"
   ]
  },
  {
   "cell_type": "markdown",
   "metadata": {
    "application/vnd.databricks.v1+cell": {
     "cellMetadata": {},
     "inputWidgets": {},
     "nuid": "95d994bf-73b5-480e-b728-0f42c437a4d0",
     "showTitle": false,
     "title": ""
    },
    "id": "_H9rjlCuyKVR"
   },
   "source": [
    "และลอง print ค่าของ X_train, X_test , y_train, y_test ออกมาดู และ ขนาดของค่าต่างๆ ก็สำคัญ ไว้ดูว่า มี feature ที่ป้อนไปถูกต้องเท่ากันหรือไม่ เมื่อมีปัญหามาดูในภายหลังจะง่ายต่อการหาวิธีการแก้ไข"
   ]
  },
  {
   "cell_type": "code",
   "execution_count": 0,
   "metadata": {
    "application/vnd.databricks.v1+cell": {
     "cellMetadata": {},
     "inputWidgets": {},
     "nuid": "d41bc408-0f30-4d9d-834f-dc17446ad48a",
     "showTitle": false,
     "title": ""
    },
    "id": "HYdqsWbwoJgp"
   },
   "outputs": [],
   "source": [
    "from sklearn.model_selection import train_test_split\r\n",
    "X_train, X_test , y_train, y_test = train_test_split(X,y, test_size=0.20, random_state= 1)"
   ]
  },
  {
   "cell_type": "code",
   "execution_count": 0,
   "metadata": {
    "application/vnd.databricks.v1+cell": {
     "cellMetadata": {},
     "inputWidgets": {},
     "nuid": "25b14341-0b72-4349-bf80-186aad9d9875",
     "showTitle": false,
     "title": ""
    },
    "colab": {
     "base_uri": "https://localhost:8080/"
    },
    "executionInfo": {
     "elapsed": 6283,
     "status": "ok",
     "timestamp": 1608821879371,
     "user": {
      "displayName": "Tanabut Taksinavongskul",
      "photoUrl": "https://lh3.googleusercontent.com/a-/AOh14GjdeYgguREkhXj0QQyf-Dk6Ab4ckWW-o7LRRp-S=s64",
      "userId": "14729062160457571427"
     },
     "user_tz": -420
    },
    "id": "qrpF254npXH5",
    "outputId": "88aed2d0-69f9-4fe0-fd5d-5c9fc3520b41"
   },
   "outputs": [],
   "source": [
    "print(X_train)\r\n",
    "print(\"X_train shape :\", X_train.shape)"
   ]
  },
  {
   "cell_type": "code",
   "execution_count": 0,
   "metadata": {
    "application/vnd.databricks.v1+cell": {
     "cellMetadata": {},
     "inputWidgets": {},
     "nuid": "3a356bee-75d1-414f-b21d-9e3328b8aa72",
     "showTitle": false,
     "title": ""
    },
    "colab": {
     "base_uri": "https://localhost:8080/"
    },
    "executionInfo": {
     "elapsed": 6278,
     "status": "ok",
     "timestamp": 1608821879371,
     "user": {
      "displayName": "Tanabut Taksinavongskul",
      "photoUrl": "https://lh3.googleusercontent.com/a-/AOh14GjdeYgguREkhXj0QQyf-Dk6Ab4ckWW-o7LRRp-S=s64",
      "userId": "14729062160457571427"
     },
     "user_tz": -420
    },
    "id": "OUTapD6epcRt",
    "outputId": "d47cd407-c68f-498e-a4a9-c65207d7926b"
   },
   "outputs": [],
   "source": [
    "print(X_test)\r\n",
    "print(\"X_test shape :\", X_test.shape)"
   ]
  },
  {
   "cell_type": "code",
   "execution_count": 0,
   "metadata": {
    "application/vnd.databricks.v1+cell": {
     "cellMetadata": {},
     "inputWidgets": {},
     "nuid": "9b343063-c57a-4346-8d7f-0410dd5569e6",
     "showTitle": false,
     "title": ""
    },
    "colab": {
     "base_uri": "https://localhost:8080/"
    },
    "executionInfo": {
     "elapsed": 6273,
     "status": "ok",
     "timestamp": 1608821879372,
     "user": {
      "displayName": "Tanabut Taksinavongskul",
      "photoUrl": "https://lh3.googleusercontent.com/a-/AOh14GjdeYgguREkhXj0QQyf-Dk6Ab4ckWW-o7LRRp-S=s64",
      "userId": "14729062160457571427"
     },
     "user_tz": -420
    },
    "id": "NFzVpyviisWC",
    "outputId": "8ada3390-b6a9-41ed-c0dc-7c83f1a4161f"
   },
   "outputs": [],
   "source": [
    "print(y_train)\r\n",
    "print(\"y_train shape :\", y_train.shape)"
   ]
  },
  {
   "cell_type": "code",
   "execution_count": 0,
   "metadata": {
    "application/vnd.databricks.v1+cell": {
     "cellMetadata": {},
     "inputWidgets": {},
     "nuid": "e76633a0-ae73-44a8-8ad9-1d1a1ef09195",
     "showTitle": false,
     "title": ""
    },
    "colab": {
     "base_uri": "https://localhost:8080/"
    },
    "executionInfo": {
     "elapsed": 6269,
     "status": "ok",
     "timestamp": 1608821879373,
     "user": {
      "displayName": "Tanabut Taksinavongskul",
      "photoUrl": "https://lh3.googleusercontent.com/a-/AOh14GjdeYgguREkhXj0QQyf-Dk6Ab4ckWW-o7LRRp-S=s64",
      "userId": "14729062160457571427"
     },
     "user_tz": -420
    },
    "id": "3aee4B_vpcY8",
    "outputId": "2f67e249-3810-4e77-884b-d94ec5c11286"
   },
   "outputs": [],
   "source": [
    "print(y_test)\r\n",
    "print(\"y_test shape :\", y_test.shape)"
   ]
  },
  {
   "cell_type": "markdown",
   "metadata": {
    "application/vnd.databricks.v1+cell": {
     "cellMetadata": {},
     "inputWidgets": {},
     "nuid": "dec0ea43-cb1b-4019-8981-d8cb1f7b93e1",
     "showTitle": false,
     "title": ""
    },
    "id": "ZHnWWsTj2H72"
   },
   "source": [
    "จากขนาดของข้อมูลแต่ละคู่ จะเห็นว่าจำนวน row ของ ตัวข้อมูลที่คู่กันระหว่าง X_train และ y_train นั้นเท่ากัน เช่นเดียวกับคู่ของ X_test และ y_test"
   ]
  },
  {
   "cell_type": "markdown",
   "metadata": {
    "application/vnd.databricks.v1+cell": {
     "cellMetadata": {},
     "inputWidgets": {},
     "nuid": "12e48429-ee12-44db-b1d2-711eaf9b5355",
     "showTitle": false,
     "title": ""
    },
    "id": "kW3c7UYih0hT"
   },
   "source": [
    "## Feature Scaling"
   ]
  },
  {
   "cell_type": "markdown",
   "metadata": {
    "application/vnd.databricks.v1+cell": {
     "cellMetadata": {},
     "inputWidgets": {},
     "nuid": "2ee0bf5a-fb3f-4deb-904f-e2365b98f658",
     "showTitle": false,
     "title": ""
    },
    "id": "BNBIFSSS2rMV"
   },
   "source": [
    "### การทำ Scaling ช่วยเพิ่มประสิทธิภาพให้กับการ train model ได้ การทำการ scaling ทำที่ขั้นตอนหลังจากแยกชุดข้อมูล ระหว่าง test และ train แล้วเพื่อป้องกันการรั่วของข้อมูล หรือ data leakage"
   ]
  },
  {
   "cell_type": "markdown",
   "metadata": {
    "application/vnd.databricks.v1+cell": {
     "cellMetadata": {},
     "inputWidgets": {},
     "nuid": "0784849b-5762-4fa1-bc21-6a6fdf9b9d7f",
     "showTitle": false,
     "title": ""
    },
    "id": "308mKKTt30t4"
   },
   "source": [
    "และเช่นเดิม ลอง print ค่าของ X_train, X_test ออกมาดู และ ขนาดของค่าต่างๆ ก็สำคัญ"
   ]
  },
  {
   "cell_type": "code",
   "execution_count": 0,
   "metadata": {
    "application/vnd.databricks.v1+cell": {
     "cellMetadata": {},
     "inputWidgets": {},
     "nuid": "90940715-b890-4caa-8389-112c6438a3d6",
     "showTitle": false,
     "title": ""
    },
    "id": "oW4Wt_XcowIo"
   },
   "outputs": [],
   "source": [
    "from sklearn.preprocessing import StandardScaler\r\n",
    "sc = StandardScaler()\r\n",
    "X_train = sc.fit_transform(X_train)\r\n",
    "X_test = sc.fit_transform(X_test)"
   ]
  },
  {
   "cell_type": "code",
   "execution_count": 0,
   "metadata": {
    "application/vnd.databricks.v1+cell": {
     "cellMetadata": {},
     "inputWidgets": {},
     "nuid": "e88c4ec6-c05f-4f20-920d-14dab727e5fc",
     "showTitle": false,
     "title": ""
    },
    "colab": {
     "base_uri": "https://localhost:8080/"
    },
    "executionInfo": {
     "elapsed": 7391,
     "status": "ok",
     "timestamp": 1608821880505,
     "user": {
      "displayName": "Tanabut Taksinavongskul",
      "photoUrl": "https://lh3.googleusercontent.com/a-/AOh14GjdeYgguREkhXj0QQyf-Dk6Ab4ckWW-o7LRRp-S=s64",
      "userId": "14729062160457571427"
     },
     "user_tz": -420
    },
    "id": "tTE3XIhFpub4",
    "outputId": "ae6bf87c-3708-4849-ecb4-f241024a4dd2"
   },
   "outputs": [],
   "source": [
    "print(X_train)\r\n",
    "print(X_train.shape)"
   ]
  },
  {
   "cell_type": "code",
   "execution_count": 0,
   "metadata": {
    "application/vnd.databricks.v1+cell": {
     "cellMetadata": {},
     "inputWidgets": {},
     "nuid": "e3865055-9148-4847-b0e7-4fe47181cc11",
     "showTitle": false,
     "title": ""
    },
    "colab": {
     "base_uri": "https://localhost:8080/"
    },
    "executionInfo": {
     "elapsed": 7386,
     "status": "ok",
     "timestamp": 1608821880505,
     "user": {
      "displayName": "Tanabut Taksinavongskul",
      "photoUrl": "https://lh3.googleusercontent.com/a-/AOh14GjdeYgguREkhXj0QQyf-Dk6Ab4ckWW-o7LRRp-S=s64",
      "userId": "14729062160457571427"
     },
     "user_tz": -420
    },
    "id": "f2WUdjdGkJ5N",
    "outputId": "af03368b-ab9e-4579-edaf-1131154e4de2"
   },
   "outputs": [],
   "source": [
    "print(X_test)\r\n",
    "print(X_test.shape)"
   ]
  },
  {
   "cell_type": "markdown",
   "metadata": {
    "application/vnd.databricks.v1+cell": {
     "cellMetadata": {},
     "inputWidgets": {},
     "nuid": "6d34e9f1-35bf-4e1c-b4fb-f12da4643c33",
     "showTitle": false,
     "title": ""
    },
    "id": "c3dPVG9h4Us3"
   },
   "source": [
    "จากขนาดของข้อมูลแต่ละคู่ จะเห็นว่าจำนวน feature ยังเท่าเดิมคือ31 และจำนวน row ยังเท่าเดิมกับก่อนหน้าการทำ scaling ทั้งของ X_train และ X_test"
   ]
  },
  {
   "cell_type": "markdown",
   "metadata": {
    "application/vnd.databricks.v1+cell": {
     "cellMetadata": {},
     "inputWidgets": {},
     "nuid": "d1eed119-4957-40d4-81fc-612c2cb4d300",
     "showTitle": false,
     "title": ""
    },
    "id": "8wFaUzXZBtJG"
   },
   "source": [
    "## Training model on KNeighborsClassifier"
   ]
  },
  {
   "cell_type": "code",
   "execution_count": 0,
   "metadata": {
    "application/vnd.databricks.v1+cell": {
     "cellMetadata": {},
     "inputWidgets": {},
     "nuid": "96adb897-7c77-44aa-8cf9-6c3e9f548298",
     "showTitle": false,
     "title": ""
    },
    "id": "MrvrQAKNQSt-"
   },
   "outputs": [],
   "source": [
    "#ฺerror stopper/ run all stoper\r\n",
    "print(ttt)"
   ]
  },
  {
   "cell_type": "markdown",
   "metadata": {
    "application/vnd.databricks.v1+cell": {
     "cellMetadata": {},
     "inputWidgets": {},
     "nuid": "514eaab2-c408-4dde-b27e-e92c57134e81",
     "showTitle": false,
     "title": ""
    },
    "id": "veUN4FJdB1js"
   },
   "source": [
    "### ลอง ใช้ KNN model เนื่องจากในทางทฤษฏีแล้วตัวโมเดลตัวนี้ทำงาน และ predict ช้า จึงแยกมาทำตัวเดียวก่อนครับ"
   ]
  },
  {
   "cell_type": "code",
   "execution_count": 0,
   "metadata": {
    "application/vnd.databricks.v1+cell": {
     "cellMetadata": {},
     "inputWidgets": {},
     "nuid": "dd25c204-fb64-4abc-8032-ede27f8a8acc",
     "showTitle": false,
     "title": ""
    },
    "colab": {
     "base_uri": "https://localhost:8080/"
    },
    "executionInfo": {
     "elapsed": 381263,
     "status": "ok",
     "timestamp": 1608822307814,
     "user": {
      "displayName": "Tanabut Taksinavongskul",
      "photoUrl": "https://lh3.googleusercontent.com/a-/AOh14GjdeYgguREkhXj0QQyf-Dk6Ab4ckWW-o7LRRp-S=s64",
      "userId": "14729062160457571427"
     },
     "user_tz": -420
    },
    "id": "QsUMq8SChl4q",
    "outputId": "fcf1b05a-fcfe-444a-d1bc-21edc8329fbd"
   },
   "outputs": [],
   "source": [
    "from sklearn.neighbors import KNeighborsClassifier\r\n",
    "knnclf = KNeighborsClassifier(n_neighbors=5)\r\n",
    "knnclf.fit(X_train, y_train)"
   ]
  },
  {
   "cell_type": "markdown",
   "metadata": {
    "application/vnd.databricks.v1+cell": {
     "cellMetadata": {},
     "inputWidgets": {},
     "nuid": "acfa8d78-39b5-4bcd-b2b6-a09b8cc5b22a",
     "showTitle": false,
     "title": ""
    },
    "id": "Oya52jvqijBx"
   },
   "source": [
    "### Making the Confusion Matrix for KNN"
   ]
  },
  {
   "cell_type": "markdown",
   "metadata": {
    "application/vnd.databricks.v1+cell": {
     "cellMetadata": {},
     "inputWidgets": {},
     "nuid": "a69407ca-364b-4ce6-b8c8-9a263f266ba9",
     "showTitle": false,
     "title": ""
    },
    "id": "s2P1VI69Lx1H"
   },
   "source": [
    "และวัดผลจากคะแนนต่างๆ เช่น accuracy score และ F1_score ของ KNN model"
   ]
  },
  {
   "cell_type": "code",
   "execution_count": 0,
   "metadata": {
    "application/vnd.databricks.v1+cell": {
     "cellMetadata": {},
     "inputWidgets": {},
     "nuid": "45ef2dfb-042f-4488-9cb4-186650c27526",
     "showTitle": false,
     "title": ""
    },
    "colab": {
     "base_uri": "https://localhost:8080/",
     "height": 364
    },
    "executionInfo": {
     "elapsed": 2807062,
     "status": "ok",
     "timestamp": 1608824737933,
     "user": {
      "displayName": "Tanabut Taksinavongskul",
      "photoUrl": "https://lh3.googleusercontent.com/a-/AOh14GjdeYgguREkhXj0QQyf-Dk6Ab4ckWW-o7LRRp-S=s64",
      "userId": "14729062160457571427"
     },
     "user_tz": -420
    },
    "id": "vk9aEe9QiguC",
    "outputId": "fd4a8ece-6594-436e-9395-a0801152175f"
   },
   "outputs": [],
   "source": [
    "from sklearn.metrics import confusion_matrix, accuracy_score, ConfusionMatrixDisplay, f1_score\r\n",
    "\r\n",
    "y_pred = knnclf.predict(X_test)\r\n",
    "cm_knn = confusion_matrix(y_test, y_pred)\r\n",
    "print(cm_knn)\r\n",
    "print(\"accuracy_score ของ model KNN :\",accuracy_score(y_test, y_pred))\r\n",
    "print(\"f1_score ของ model KNN :\",f1_score(y_test, y_pred))\r\n",
    "cmd = ConfusionMatrixDisplay(confusion_matrix=cm_knn, display_labels=['No','Yes'])\r\n",
    "cmd.plot()"
   ]
  },
  {
   "cell_type": "markdown",
   "metadata": {
    "application/vnd.databricks.v1+cell": {
     "cellMetadata": {},
     "inputWidgets": {},
     "nuid": "87bd1be4-c143-4a99-9b32-39aab1db85e5",
     "showTitle": false,
     "title": ""
    },
    "id": "3KhLzANBCPhn"
   },
   "source": [
    "การใช้ KNN ใช้เวลาในการรัน train และเมื่อ train เสร็จ การ predict ก็ทำงานได้ช้ามากเมื่อขนาดของข้อมูลใหญ่มากแบบนี้ ประมาณ 1 ชั่วโมง"
   ]
  },
  {
   "cell_type": "markdown",
   "metadata": {
    "application/vnd.databricks.v1+cell": {
     "cellMetadata": {},
     "inputWidgets": {},
     "nuid": "5db8513d-cbf0-42a2-be60-3b4bf83b9f22",
     "showTitle": false,
     "title": ""
    },
    "id": "4naaOQyKhgyo"
   },
   "source": [
    "## Training model on the Training set with different classifier model"
   ]
  },
  {
   "cell_type": "markdown",
   "metadata": {
    "application/vnd.databricks.v1+cell": {
     "cellMetadata": {},
     "inputWidgets": {},
     "nuid": "e887c736-d579-4545-9edd-c117d214eb63",
     "showTitle": false,
     "title": ""
    },
    "id": "QWdNYIo3BJUr"
   },
   "source": [
    "ต่อมาจึงลองใช้ หลาย model เพื่อดูผลคร่าวๆ ของการเรียนรู้ ที่ค่า hyperparameter ยังเป็นค่าเริ่มต้นอยู่ (default)"
   ]
  },
  {
   "cell_type": "code",
   "execution_count": 0,
   "metadata": {
    "application/vnd.databricks.v1+cell": {
     "cellMetadata": {},
     "inputWidgets": {},
     "nuid": "35326a39-0f61-4266-b9dd-cdc278eb1572",
     "showTitle": false,
     "title": ""
    },
    "colab": {
     "base_uri": "https://localhost:8080/"
    },
    "executionInfo": {
     "elapsed": 111730,
     "status": "ok",
     "timestamp": 1608825646847,
     "user": {
      "displayName": "Tanabut Taksinavongskul",
      "photoUrl": "https://lh3.googleusercontent.com/a-/AOh14GjdeYgguREkhXj0QQyf-Dk6Ab4ckWW-o7LRRp-S=s64",
      "userId": "14729062160457571427"
     },
     "user_tz": -420
    },
    "id": "aTottOBy_3ZU",
    "outputId": "045e9bd4-08b2-4724-bb5e-195e7761f044"
   },
   "outputs": [],
   "source": [
    "from sklearn.linear_model import LogisticRegression\r\n",
    "from sklearn.naive_bayes import GaussianNB\r\n",
    "from sklearn.ensemble import GradientBoostingClassifier\r\n",
    "from sklearn.ensemble import AdaBoostClassifier\r\n",
    "from sklearn.ensemble import RandomForestClassifier\r\n",
    "# Create a report for each model\r\n",
    "from sklearn.metrics import classification_report, f1_score, confusion_matrix\r\n",
    "from sklearn import metrics\r\n",
    "\r\n",
    "algo = [\r\n",
    "        [LogisticRegression(),'LogisticRegression'],\r\n",
    "        [GaussianNB(),'GaussianNB'],\r\n",
    "        [GradientBoostingClassifier(),'GradientBoostingClassifier'],\r\n",
    "        [AdaBoostClassifier(),'AdaBoostClassifier'],\r\n",
    "        [RandomForestClassifier(),'RandomForestClassifier']\r\n",
    "  ]\r\n",
    "\r\n",
    "for a in algo:\r\n",
    "    model=a[0]\r\n",
    "    model.fit(X_train,y_train)\r\n",
    "    y_pred = model.predict(X_test)\r\n",
    "    print(f'{a[0]} score: {model.score(X_test,y_test)}')\r\n",
    "    print(\"f1_score:\",f1_score(y_test, y_pred))\r\n",
    "    print(metrics.confusion_matrix(y_test,y_pred))\r\n",
    "    print(metrics.classification_report(y_test,y_pred))"
   ]
  },
  {
   "cell_type": "markdown",
   "metadata": {
    "application/vnd.databricks.v1+cell": {
     "cellMetadata": {},
     "inputWidgets": {},
     "nuid": "4cc9700c-74e1-4152-9f95-2d03fa3ce940",
     "showTitle": false,
     "title": ""
    },
    "id": "XzJ1J24DFav8"
   },
   "source": [
    "จากการวัดผลค่าต่างๆ เนื่องจากคะแนนต่างๆ มีความใกล้เคียงกัน และ ด้วยความที่ logistic regression มีความซับซ้อนน้อยกว่า หลังจากนี้จะเลือกใช้ Logistic Regression model เพื่อทำการ Tune hyperparameter และวัดผลของ model ต่อไปครับ"
   ]
  },
  {
   "cell_type": "markdown",
   "metadata": {
    "application/vnd.databricks.v1+cell": {
     "cellMetadata": {},
     "inputWidgets": {},
     "nuid": "c901c591-c352-47b6-8f7a-8125220da199",
     "showTitle": false,
     "title": ""
    },
    "id": "bb6jCOCQiAmP"
   },
   "source": [
    "## Training the Logistic Regression model on the Training set"
   ]
  },
  {
   "cell_type": "markdown",
   "metadata": {
    "application/vnd.databricks.v1+cell": {
     "cellMetadata": {},
     "inputWidgets": {},
     "nuid": "e42fa1ca-65ce-42ca-acf3-7401c6b3d940",
     "showTitle": false,
     "title": ""
    },
    "id": "p6ndvFmuPGPx"
   },
   "source": [
    "### ทำการ fit เพื่อ train model"
   ]
  },
  {
   "cell_type": "code",
   "execution_count": 0,
   "metadata": {
    "application/vnd.databricks.v1+cell": {
     "cellMetadata": {},
     "inputWidgets": {},
     "nuid": "95a9679f-8f7b-4cef-aa93-e561c63cdcc0",
     "showTitle": false,
     "title": ""
    },
    "colab": {
     "base_uri": "https://localhost:8080/"
    },
    "executionInfo": {
     "elapsed": 3490,
     "status": "ok",
     "timestamp": 1608825998947,
     "user": {
      "displayName": "Tanabut Taksinavongskul",
      "photoUrl": "https://lh3.googleusercontent.com/a-/AOh14GjdeYgguREkhXj0QQyf-Dk6Ab4ckWW-o7LRRp-S=s64",
      "userId": "14729062160457571427"
     },
     "user_tz": -420
    },
    "id": "HBUV0f1DqAyv",
    "outputId": "84985999-12ab-40ba-8436-bf6468e8e437"
   },
   "outputs": [],
   "source": [
    "from sklearn.linear_model import LogisticRegression\r\n",
    "classifier = LogisticRegression(random_state=1)\r\n",
    "classifier.fit(X_train, y_train)"
   ]
  },
  {
   "cell_type": "markdown",
   "metadata": {
    "application/vnd.databricks.v1+cell": {
     "cellMetadata": {},
     "inputWidgets": {},
     "nuid": "93375426-ce29-46a4-b258-f29966ec2b7e",
     "showTitle": false,
     "title": ""
    },
    "id": "yyxW5b395mR2"
   },
   "source": [
    "## Predicting a new result on newdriver"
   ]
  },
  {
   "cell_type": "markdown",
   "metadata": {
    "application/vnd.databricks.v1+cell": {
     "cellMetadata": {},
     "inputWidgets": {},
     "nuid": "2728c4a5-8924-468b-8faa-540e467f1fc0",
     "showTitle": false,
     "title": ""
    },
    "id": "Pav3rfGZgPL8"
   },
   "source": [
    "### ลองใส่ชุดข้อมูลใหม่จากคนขับใหม่ที่ลองสร้างเองขึ้นมาครับว่า model ของเราใช้งานได้ และ ทำนายออกมาว่าจะโดนตรวจค้นยานพาหนะหรือไม่ และเมื่อสร้างข้อมูลขึ้นมาใหม่ จะต้องทำการ OneHotEncoder กับข้อมูลใหม่นี้ด้วยให้ตรงกับ shape ของการป้อนเข้าไปใส่ให้ model"
   ]
  },
  {
   "cell_type": "code",
   "execution_count": 0,
   "metadata": {
    "application/vnd.databricks.v1+cell": {
     "cellMetadata": {},
     "inputWidgets": {},
     "nuid": "a3f6c47b-2bb1-4fbf-8569-479a821517e6",
     "showTitle": false,
     "title": ""
    },
    "colab": {
     "base_uri": "https://localhost:8080/"
    },
    "executionInfo": {
     "elapsed": 882,
     "status": "ok",
     "timestamp": 1608826140990,
     "user": {
      "displayName": "Tanabut Taksinavongskul",
      "photoUrl": "https://lh3.googleusercontent.com/a-/AOh14GjdeYgguREkhXj0QQyf-Dk6Ab4ckWW-o7LRRp-S=s64",
      "userId": "14729062160457571427"
     },
     "user_tz": -420
    },
    "id": "JeqvhPQzCon-",
    "outputId": "668f0e29-cbc4-4366-ed1e-2d905520fcd2"
   },
   "outputs": [],
   "source": [
    "# ให้ สมมตคนขับรถขึ้นมาหนึ่งคัน โดยมีข้อมูลดังนี้\r\n",
    "newdriver = [['X4', 'white', 'female', True, False, False, False, False, False, 'Speeding']]\r\n",
    "newdriver_encode = np.array(ct.transform(newdriver))\r\n",
    "\r\n",
    "newdriver_encode"
   ]
  },
  {
   "cell_type": "markdown",
   "metadata": {
    "application/vnd.databricks.v1+cell": {
     "cellMetadata": {},
     "inputWidgets": {},
     "nuid": "af706ec6-1344-4119-bb97-19462276a3ea",
     "showTitle": false,
     "title": ""
    },
    "id": "XGrdjJDSg5Iw"
   },
   "source": [
    "### ต้องทำการ scaling ก่อนเข้า model ด้วย"
   ]
  },
  {
   "cell_type": "code",
   "execution_count": 0,
   "metadata": {
    "application/vnd.databricks.v1+cell": {
     "cellMetadata": {},
     "inputWidgets": {},
     "nuid": "f33bdf4a-d42b-40d0-8c1c-26b60efa468e",
     "showTitle": false,
     "title": ""
    },
    "colab": {
     "base_uri": "https://localhost:8080/"
    },
    "executionInfo": {
     "elapsed": 1743,
     "status": "ok",
     "timestamp": 1608826347334,
     "user": {
      "displayName": "Tanabut Taksinavongskul",
      "photoUrl": "https://lh3.googleusercontent.com/a-/AOh14GjdeYgguREkhXj0QQyf-Dk6Ab4ckWW-o7LRRp-S=s64",
      "userId": "14729062160457571427"
     },
     "user_tz": -420
    },
    "id": "FaPtYuYfFcUf",
    "outputId": "0e012409-4aaa-4da6-be6d-b32d602bb53a"
   },
   "outputs": [],
   "source": [
    "newdriver_scale = sc.transform(newdriver_encode)\r\n",
    "print(newdriver_scale)\r\n",
    "print(newdriver_scale.shape)"
   ]
  },
  {
   "cell_type": "code",
   "execution_count": 0,
   "metadata": {
    "application/vnd.databricks.v1+cell": {
     "cellMetadata": {},
     "inputWidgets": {},
     "nuid": "17ffd25d-3d43-4c5f-bf7c-065ef9c1cc89",
     "showTitle": false,
     "title": ""
    },
    "colab": {
     "base_uri": "https://localhost:8080/"
    },
    "executionInfo": {
     "elapsed": 1642,
     "status": "ok",
     "timestamp": 1608826395065,
     "user": {
      "displayName": "Tanabut Taksinavongskul",
      "photoUrl": "https://lh3.googleusercontent.com/a-/AOh14GjdeYgguREkhXj0QQyf-Dk6Ab4ckWW-o7LRRp-S=s64",
      "userId": "14729062160457571427"
     },
     "user_tz": -420
    },
    "id": "-vrz6BQLtUfz",
    "outputId": "4fc1fde5-d245-437e-9a17-cb16704edb92"
   },
   "outputs": [],
   "source": [
    "print(classifier.predict(newdriver_scale))"
   ]
  },
  {
   "cell_type": "code",
   "execution_count": 0,
   "metadata": {
    "application/vnd.databricks.v1+cell": {
     "cellMetadata": {},
     "inputWidgets": {},
     "nuid": "89439707-5855-44af-9ef3-173c9a4c38a1",
     "showTitle": false,
     "title": ""
    },
    "colab": {
     "base_uri": "https://localhost:8080/"
    },
    "executionInfo": {
     "elapsed": 1446,
     "status": "ok",
     "timestamp": 1608826397368,
     "user": {
      "displayName": "Tanabut Taksinavongskul",
      "photoUrl": "https://lh3.googleusercontent.com/a-/AOh14GjdeYgguREkhXj0QQyf-Dk6Ab4ckWW-o7LRRp-S=s64",
      "userId": "14729062160457571427"
     },
     "user_tz": -420
    },
    "id": "SLJevncbs68Z",
    "outputId": "ae493c62-8694-4fcc-ac58-cb1467caf819"
   },
   "outputs": [],
   "source": [
    "classifier.predict_proba(sc.transform(newdriver_scale))"
   ]
  },
  {
   "cell_type": "code",
   "execution_count": 0,
   "metadata": {
    "application/vnd.databricks.v1+cell": {
     "cellMetadata": {},
     "inputWidgets": {},
     "nuid": "e4c1386b-0a3f-48c0-8d46-3e77b023a835",
     "showTitle": false,
     "title": ""
    },
    "colab": {
     "base_uri": "https://localhost:8080/"
    },
    "executionInfo": {
     "elapsed": 1903,
     "status": "ok",
     "timestamp": 1608826398553,
     "user": {
      "displayName": "Tanabut Taksinavongskul",
      "photoUrl": "https://lh3.googleusercontent.com/a-/AOh14GjdeYgguREkhXj0QQyf-Dk6Ab4ckWW-o7LRRp-S=s64",
      "userId": "14729062160457571427"
     },
     "user_tz": -420
    },
    "id": "h5QBNuzKtCyl",
    "outputId": "4bce4761-d32f-46dc-9a45-87e5f57618fe"
   },
   "outputs": [],
   "source": [
    "classifier.predict_log_proba(sc.transform(newdriver_scale))"
   ]
  },
  {
   "cell_type": "markdown",
   "metadata": {
    "application/vnd.databricks.v1+cell": {
     "cellMetadata": {},
     "inputWidgets": {},
     "nuid": "1647a35d-edbc-4ae7-b512-a41c5b669826",
     "showTitle": false,
     "title": ""
    },
    "id": "vKYVQH-l5NpE"
   },
   "source": [
    "## Predicting the Test set results"
   ]
  },
  {
   "cell_type": "markdown",
   "metadata": {
    "application/vnd.databricks.v1+cell": {
     "cellMetadata": {},
     "inputWidgets": {},
     "nuid": "c74b5e69-f667-4da0-9a43-d7a51cd3419e",
     "showTitle": false,
     "title": ""
    },
    "id": "MyJQxoF6exSp"
   },
   "source": [
    "### มาลองทดสอบวัดผลของ model โดยใช้ Test set ที่แยกไว้ตั้งแต่แรก ซึ่งเรามีผลลัพธ์ที่เกิดขึ้นจริงมาเปรียบเทียบกับโมเดล ทำให้เราสามารถวัดประสิทธิภาพความแม่นยำ ความเที่ยงตรง และค่าการวัดผลรูปแบบต่างๆ ได้จาก Test set นี้"
   ]
  },
  {
   "cell_type": "code",
   "execution_count": 0,
   "metadata": {
    "application/vnd.databricks.v1+cell": {
     "cellMetadata": {},
     "inputWidgets": {},
     "nuid": "b08f593f-f2b0-4e43-a31f-86a20542da4b",
     "showTitle": false,
     "title": ""
    },
    "colab": {
     "base_uri": "https://localhost:8080/"
    },
    "executionInfo": {
     "elapsed": 879,
     "status": "ok",
     "timestamp": 1608826635278,
     "user": {
      "displayName": "Tanabut Taksinavongskul",
      "photoUrl": "https://lh3.googleusercontent.com/a-/AOh14GjdeYgguREkhXj0QQyf-Dk6Ab4ckWW-o7LRRp-S=s64",
      "userId": "14729062160457571427"
     },
     "user_tz": -420
    },
    "id": "oHb6fzr5uMzU",
    "outputId": "2586ebe2-f2fe-446a-c6b0-aa3574144159"
   },
   "outputs": [],
   "source": [
    "classifier.predict(X_test)"
   ]
  },
  {
   "cell_type": "code",
   "execution_count": 0,
   "metadata": {
    "application/vnd.databricks.v1+cell": {
     "cellMetadata": {},
     "inputWidgets": {},
     "nuid": "196e68a7-775f-4ca6-abb3-ab52ce5a08ab",
     "showTitle": false,
     "title": ""
    },
    "colab": {
     "base_uri": "https://localhost:8080/"
    },
    "executionInfo": {
     "elapsed": 1007,
     "status": "ok",
     "timestamp": 1608826638501,
     "user": {
      "displayName": "Tanabut Taksinavongskul",
      "photoUrl": "https://lh3.googleusercontent.com/a-/AOh14GjdeYgguREkhXj0QQyf-Dk6Ab4ckWW-o7LRRp-S=s64",
      "userId": "14729062160457571427"
     },
     "user_tz": -420
    },
    "id": "abWuB5qDumx3",
    "outputId": "74df9fc8-bb52-49b0-926b-11565c2a11f6"
   },
   "outputs": [],
   "source": [
    "y_pred = classifier.predict(X_test)\r\n",
    "print(np.concatenate((y_pred.reshape(len(y_pred), 1), y_test.reshape(len(y_test),1)), axis=1))\r\n",
    "print(y_pred.shape)"
   ]
  },
  {
   "cell_type": "markdown",
   "metadata": {
    "application/vnd.databricks.v1+cell": {
     "cellMetadata": {},
     "inputWidgets": {},
     "nuid": "c8a8fd9f-9482-4ced-800d-cbf9f71d788e",
     "showTitle": false,
     "title": ""
    },
    "id": "vovPJ0lXwJaw"
   },
   "source": [
    "ตัวแรกคือ predict และ ตัวที่สองคือค่าจริง ที่คนโดนตรวจค้นในรถหรือไม่โดน  \r\n",
    "0 คือไม่โดน  \r\n",
    "1 คือโดนตรวจค้นรถ"
   ]
  },
  {
   "cell_type": "markdown",
   "metadata": {
    "application/vnd.databricks.v1+cell": {
     "cellMetadata": {},
     "inputWidgets": {},
     "nuid": "c0be0b98-4ce3-4d5c-85ce-92ad6733d051",
     "showTitle": false,
     "title": ""
    },
    "id": "h4Hwj34ziWQW"
   },
   "source": [
    "## Making the Confusion Matrix\r\n",
    "\r\n",
    "ใช้ Confusion Matrix มาช่วยในการ evaluation"
   ]
  },
  {
   "cell_type": "code",
   "execution_count": 0,
   "metadata": {
    "application/vnd.databricks.v1+cell": {
     "cellMetadata": {},
     "inputWidgets": {},
     "nuid": "436eda54-4e24-4e43-8749-44b1eda03772",
     "showTitle": false,
     "title": ""
    },
    "colab": {
     "base_uri": "https://localhost:8080/",
     "height": 364
    },
    "executionInfo": {
     "elapsed": 1190,
     "status": "ok",
     "timestamp": 1608827004993,
     "user": {
      "displayName": "Tanabut Taksinavongskul",
      "photoUrl": "https://lh3.googleusercontent.com/a-/AOh14GjdeYgguREkhXj0QQyf-Dk6Ab4ckWW-o7LRRp-S=s64",
      "userId": "14729062160457571427"
     },
     "user_tz": -420
    },
    "id": "ZbJXzGkbumFJ",
    "outputId": "29873ae7-de48-47e5-a636-cd7bdbb3dc59"
   },
   "outputs": [],
   "source": [
    "from sklearn.metrics import confusion_matrix, accuracy_score, ConfusionMatrixDisplay, roc_auc_score\r\n",
    "cm = confusion_matrix(y_test, y_pred)\r\n",
    "print(cm)\r\n",
    "print(\"accuracy_score :\", accuracy_score(y_test, y_pred))\r\n",
    "print(\"roc_auc_score :\", roc_auc_score(y_test, y_pred))\r\n",
    "cmd = ConfusionMatrixDisplay(confusion_matrix=cm, display_labels=['No','Yes'])\r\n",
    "cmd.plot()"
   ]
  },
  {
   "cell_type": "markdown",
   "metadata": {
    "application/vnd.databricks.v1+cell": {
     "cellMetadata": {},
     "inputWidgets": {},
     "nuid": "fe0eb544-1f98-4b3a-a2db-c4e3c904ab10",
     "showTitle": false,
     "title": ""
    },
    "id": "uZfrtYT8rCok"
   },
   "source": [
    "##  Display classification performance metrics\r\n",
    "\r\n",
    "หาค่าประสิทธิภาพอื่นๆของ classification model ของตัวนี้เพิ่มเติม"
   ]
  },
  {
   "cell_type": "code",
   "execution_count": 0,
   "metadata": {
    "application/vnd.databricks.v1+cell": {
     "cellMetadata": {},
     "inputWidgets": {},
     "nuid": "8aec0620-3f9f-4908-8cc0-e7ae74252f78",
     "showTitle": false,
     "title": ""
    },
    "colab": {
     "base_uri": "https://localhost:8080/"
    },
    "executionInfo": {
     "elapsed": 840,
     "status": "ok",
     "timestamp": 1608827075605,
     "user": {
      "displayName": "Tanabut Taksinavongskul",
      "photoUrl": "https://lh3.googleusercontent.com/a-/AOh14GjdeYgguREkhXj0QQyf-Dk6Ab4ckWW-o7LRRp-S=s64",
      "userId": "14729062160457571427"
     },
     "user_tz": -420
    },
    "id": "7lDM0KLVrBC3",
    "outputId": "6ad28c11-1820-4f18-e42b-dcf5d243a5ca"
   },
   "outputs": [],
   "source": [
    "from sklearn.metrics import accuracy_score, precision_score, recall_score, f1_score\r\n",
    "accuracy = accuracy_score(y_test, y_pred)\r\n",
    "precision = precision_score(y_test, y_pred)\r\n",
    "recall = recall_score(y_test, y_pred)\r\n",
    "f1 = f1_score(y_test, y_pred)\r\n",
    "print(\"Performance:\")\r\n",
    "print(\" >accuracy = \" + str(accuracy))\r\n",
    "print(\" >precision = \" + str(precision))\r\n",
    "print(\" >recall = \" + str(recall))\r\n",
    "print(\" >f1-score = \" + str(f1))\r\n"
   ]
  },
  {
   "cell_type": "markdown",
   "metadata": {
    "application/vnd.databricks.v1+cell": {
     "cellMetadata": {},
     "inputWidgets": {},
     "nuid": "ed3f2baf-9043-4dff-9474-6b949fdc5c22",
     "showTitle": false,
     "title": ""
    },
    "id": "SZ-j28aPihZx"
   },
   "source": [
    "## Visualising the ROC curve\r\n",
    "เป็นการวัดประสิทธิภาพที่ดีตัวหนึ่งของ binary classification"
   ]
  },
  {
   "cell_type": "markdown",
   "metadata": {
    "application/vnd.databricks.v1+cell": {
     "cellMetadata": {},
     "inputWidgets": {},
     "nuid": "33000ff4-eb96-4279-af95-b4d5b375d412",
     "showTitle": false,
     "title": ""
    },
    "id": "4mfoGQmzgkAy"
   },
   "source": [
    "ROC curve ของการตรวจค้นยานพาหนะ เป็นการนำเอา True Positive rate plot with False Positive Rate"
   ]
  },
  {
   "cell_type": "markdown",
   "metadata": {
    "application/vnd.databricks.v1+cell": {
     "cellMetadata": {},
     "inputWidgets": {},
     "nuid": "eb9a7935-70a8-4487-96b7-6ddacce085c2",
     "showTitle": false,
     "title": ""
    },
    "id": "0XWraEpWonWo"
   },
   "source": [
    "In fact, any point on the blue line corresponds to a situation where True Positive Rate is equal to False Positive Rate.\r\n",
    "\r\n",
    " \r\n",
    "\r\n",
    "All points above this line correspond to the situation where the proportion of correctly classified points belonging to the Positive class is greater than the proportion of incorrectly classified points belonging to the Negative class."
   ]
  },
  {
   "cell_type": "markdown",
   "metadata": {
    "application/vnd.databricks.v1+cell": {
     "cellMetadata": {},
     "inputWidgets": {},
     "nuid": "c097e117-cf71-43ca-b9e2-bebc3dda2583",
     "showTitle": false,
     "title": ""
    },
    "id": "FJHh2pdvotkJ"
   },
   "source": [
    "หมายความว่า ยิ่งเส้นสีส้มของเราห่างออกจากเส้นสีฟ้าไปข้างบนมากเท่าไหร่ก็แสดงว่า model ของเรา ทำการแยกแยะ ได้อย่างถูกต้องกว่า เช่น สมมติว่า มีของผิด กฏหมายในรถ ถ้าทำนายว่าโดนตรวจค้นแน่ๆ ก็จะกลัวก็อาจจะไม่ขับรถวันนี้ แต่ถ้า ทำนายว่าไม่โดนจับแน่แต่ทำนายผิด สุดท้ายแล้วเป็นความหวังที่คิดว่าไม่โดนตรวจค้น พอไปขับรถจริงโดนเรียกตรวจค้นก็เจอสิ่งผิดกฏหมายในรถ False Positive นั้นน่ากลัว ดังคำกล่าวของ <b>“False hopes are more dangerous than fears.”–J.R.R. Tolkein<b>"
   ]
  },
  {
   "cell_type": "code",
   "execution_count": 0,
   "metadata": {
    "application/vnd.databricks.v1+cell": {
     "cellMetadata": {},
     "inputWidgets": {},
     "nuid": "02030c92-e43b-4009-8b96-8d9aff994fd2",
     "showTitle": false,
     "title": ""
    },
    "colab": {
     "base_uri": "https://localhost:8080/",
     "height": 295
    },
    "executionInfo": {
     "elapsed": 1673,
     "status": "ok",
     "timestamp": 1608828134753,
     "user": {
      "displayName": "Tanabut Taksinavongskul",
      "photoUrl": "https://lh3.googleusercontent.com/a-/AOh14GjdeYgguREkhXj0QQyf-Dk6Ab4ckWW-o7LRRp-S=s64",
      "userId": "14729062160457571427"
     },
     "user_tz": -420
    },
    "id": "2uy0vrlfyX9c",
    "outputId": "7a22e2cf-84a6-4e30-9c0e-85d17d6e1684"
   },
   "outputs": [],
   "source": [
    "from sklearn.metrics import roc_curve\r\n",
    "\r\n",
    "pred_prob = classifier.predict_proba(X_test)\r\n",
    "\r\n",
    "fpr1, tpr1, thresh1 = roc_curve(y_test, pred_prob[:,1], pos_label=1)\r\n",
    "\r\n",
    "# roc curve for tpr = fpr \r\n",
    "random_probs = [0 for i in range(len(y_test))]\r\n",
    "p_fpr, p_tpr, _ = roc_curve(y_test, random_probs, pos_label=1)\r\n",
    "\r\n",
    "\r\n",
    "# plot roc curves\r\n",
    "plt.plot(fpr1, tpr1, linestyle='--',color='orange', label='Logistic Regression')\r\n",
    "plt.plot(p_fpr, p_tpr, linestyle='--', color='blue', label='Random prob')\r\n",
    "\r\n",
    "plt.title('ROC curve')\r\n",
    "plt.xlabel('False Positive Rate')\r\n",
    "plt.ylabel('True Positive rate')\r\n",
    "plt.legend(loc='best')\r\n",
    "plt.savefig('classification ROC',dpi=300);    "
   ]
  },
  {
   "cell_type": "markdown",
   "metadata": {
    "application/vnd.databricks.v1+cell": {
     "cellMetadata": {},
     "inputWidgets": {},
     "nuid": "4b311910-8457-4cc8-994b-0594fd4af325",
     "showTitle": false,
     "title": ""
    },
    "id": "n0HblKKDkIKH"
   },
   "source": [
    "## Applying k-Fold Cross-Validation\r\n",
    "เพื่อดูว่าการแบ่งชุดข้อมูลในการ train model ดีหรือไม่ โดยจะได้ออกมาเป็นค่าเฉลี่ยของ Accuracy"
   ]
  },
  {
   "cell_type": "code",
   "execution_count": 0,
   "metadata": {
    "application/vnd.databricks.v1+cell": {
     "cellMetadata": {},
     "inputWidgets": {},
     "nuid": "f26b798d-8551-4be3-ae44-9aefdfd1ec2b",
     "showTitle": false,
     "title": ""
    },
    "colab": {
     "base_uri": "https://localhost:8080/"
    },
    "executionInfo": {
     "elapsed": 23527,
     "status": "ok",
     "timestamp": 1608827336428,
     "user": {
      "displayName": "Tanabut Taksinavongskul",
      "photoUrl": "https://lh3.googleusercontent.com/a-/AOh14GjdeYgguREkhXj0QQyf-Dk6Ab4ckWW-o7LRRp-S=s64",
      "userId": "14729062160457571427"
     },
     "user_tz": -420
    },
    "id": "y0TZ2JxdjfrU",
    "outputId": "1d6790b6-2a87-48bc-c08e-4f128191dcde"
   },
   "outputs": [],
   "source": [
    "from sklearn.model_selection import cross_val_score\r\n",
    "accuracies = cross_val_score(estimator = classifier, X = X_train, y = y_train, cv = 10)\r\n",
    "print(\"Accuracy: {:.2f} %\".format(accuracies.mean()*100))\r\n",
    "print(\"Standard Deviation: {:.2f} %\".format(accuracies.std()*100))"
   ]
  },
  {
   "cell_type": "markdown",
   "metadata": {
    "application/vnd.databricks.v1+cell": {
     "cellMetadata": {},
     "inputWidgets": {},
     "nuid": "bba882ab-f93d-47af-bdaa-6b17bcb8db28",
     "showTitle": false,
     "title": ""
    },
    "id": "Zx8jzGGQk5Hd"
   },
   "source": [
    "## Applying Grid Search to find the best model and the best parameters\r\n",
    "ทำเพื่อหาค่า ปรับจูน hyperparameter ให้ได้ model ที่ดีที่สุด ใช้ code ดังนี้\r\n",
    "และต้องการจะวัดค่าประสิทธิภาพของ model ด้วย ROC curve แทนการใช้ Accuracy จึ่งแทนค่า ที่ scoring = \"roc_auc\""
   ]
  },
  {
   "cell_type": "markdown",
   "metadata": {
    "application/vnd.databricks.v1+cell": {
     "cellMetadata": {},
     "inputWidgets": {},
     "nuid": "b09147a8-baec-48f9-9123-c43a2bcd8ecc",
     "showTitle": false,
     "title": ""
    },
    "id": "OpYYpLzDX5fi"
   },
   "source": [
    "### จากการทำ Grid Search เพื่อปรับจูน hypermeter ที่เหมาะสมเพื่อการใช้งาน ทำให้ผลที่ออกมาถูกต้องแม่นยำและมีประสิทธิภาพมากยิ่งขึ่น โดย Hypermeter เหมาะสมที่ได้คือ\r\n",
    "&#39;C&#39;\r\n",
    "= &#39;0.001&#39; และ penalty = &#39;L2&#39;"
   ]
  },
  {
   "cell_type": "code",
   "execution_count": 0,
   "metadata": {
    "application/vnd.databricks.v1+cell": {
     "cellMetadata": {},
     "inputWidgets": {},
     "nuid": "aa09b933-59da-4225-af45-140d7372bfcf",
     "showTitle": false,
     "title": ""
    },
    "colab": {
     "base_uri": "https://localhost:8080/"
    },
    "executionInfo": {
     "elapsed": 31763,
     "status": "ok",
     "timestamp": 1608830340743,
     "user": {
      "displayName": "Tanabut Taksinavongskul",
      "photoUrl": "https://lh3.googleusercontent.com/a-/AOh14GjdeYgguREkhXj0QQyf-Dk6Ab4ckWW-o7LRRp-S=s64",
      "userId": "14729062160457571427"
     },
     "user_tz": -420
    },
    "id": "kTi7b6fNk8Cm",
    "outputId": "7e7281e8-db85-43f7-8ad8-0d3fca447f5c"
   },
   "outputs": [],
   "source": [
    "from sklearn.model_selection import GridSearchCV\r\n",
    "#np.logspace(-3,3,7) = array([1.e-03, 1.e-02, 1.e-01, 1.e+00, 1.e+01, 1.e+02, 1.e+03])\r\n",
    "# \"penalty\":[\"l1\",\"l2\"]}# l1 lasso l2 ridge\r\n",
    "\r\n",
    "parameters = {'C': [0.0001, 0.0002, 0.0004, 0.0006, 0.0008, 0.001], 'penalty':['l1','l2','elasticnet']}\r\n",
    "grid_search = GridSearchCV(estimator = classifier,\r\n",
    "                           param_grid = parameters,\r\n",
    "                           scoring = 'roc_auc',\r\n",
    "                           cv = 10,\r\n",
    "                           n_jobs = -1)\r\n",
    "grid_search.fit(X_train, y_train)\r\n",
    "best_roc_auc = grid_search.best_score_\r\n",
    "best_parameters = grid_search.best_params_\r\n",
    "print(\"best_roc_auc: {:.2f} %\".format(best_roc_auc*100))\r\n",
    "print(\"Best Parameters:\", best_parameters)"
   ]
  },
  {
   "cell_type": "markdown",
   "metadata": {
    "application/vnd.databricks.v1+cell": {
     "cellMetadata": {},
     "inputWidgets": {},
     "nuid": "260d09ff-f127-4ea8-9bf8-cb43d925843b",
     "showTitle": false,
     "title": ""
    },
    "id": "dhWfppGetVjD"
   },
   "source": [
    "# ทำการ Training the Logistic Regression model ด้วย best parameter ที่ได้อีกครั้ง"
   ]
  },
  {
   "cell_type": "code",
   "execution_count": 0,
   "metadata": {
    "application/vnd.databricks.v1+cell": {
     "cellMetadata": {},
     "inputWidgets": {},
     "nuid": "68e1a427-913d-4cca-ae56-f96879a72d55",
     "showTitle": false,
     "title": ""
    },
    "colab": {
     "base_uri": "https://localhost:8080/"
    },
    "executionInfo": {
     "elapsed": 2296,
     "status": "ok",
     "timestamp": 1608830683017,
     "user": {
      "displayName": "Tanabut Taksinavongskul",
      "photoUrl": "https://lh3.googleusercontent.com/a-/AOh14GjdeYgguREkhXj0QQyf-Dk6Ab4ckWW-o7LRRp-S=s64",
      "userId": "14729062160457571427"
     },
     "user_tz": -420
    },
    "id": "iVn5gcqktUww",
    "outputId": "a8b8be59-4867-4468-9d76-6516065ca537"
   },
   "outputs": [],
   "source": [
    "from sklearn.linear_model import LogisticRegression\r\n",
    "classifier2 = LogisticRegression(penalty= 'l2', C=0.001)\r\n",
    "classifier2.fit(X_train, y_train)"
   ]
  },
  {
   "cell_type": "markdown",
   "metadata": {
    "application/vnd.databricks.v1+cell": {
     "cellMetadata": {},
     "inputWidgets": {},
     "nuid": "dfbea112-218d-4e06-b4de-55a3f2df2ea5",
     "showTitle": false,
     "title": ""
    },
    "id": "qUPMqjtruHD0"
   },
   "source": [
    "##Make y_pred2 from the new model and Making the Confusion Matrix\r\n",
    "ใช้ Confusion Matrix มาช่วยในการ evaluation\r\n",
    "จะเห็นว่ารูป Confusion Matrix และผลลัพธ์ที่ทำนาย y_pred2 เมื่อเทียบกับที่ทำนาย\r\n",
    "y_pred ไว้ ผลออกมาเท่ากันเลย"
   ]
  },
  {
   "cell_type": "code",
   "execution_count": 0,
   "metadata": {
    "application/vnd.databricks.v1+cell": {
     "cellMetadata": {},
     "inputWidgets": {},
     "nuid": "a41b430b-793f-4af0-83ef-fe74273b55f1",
     "showTitle": false,
     "title": ""
    },
    "colab": {
     "base_uri": "https://localhost:8080/",
     "height": 364
    },
    "executionInfo": {
     "elapsed": 1406,
     "status": "ok",
     "timestamp": 1608830284208,
     "user": {
      "displayName": "Tanabut Taksinavongskul",
      "photoUrl": "https://lh3.googleusercontent.com/a-/AOh14GjdeYgguREkhXj0QQyf-Dk6Ab4ckWW-o7LRRp-S=s64",
      "userId": "14729062160457571427"
     },
     "user_tz": -420
    },
    "id": "ztoWnX77t3PL",
    "outputId": "fa7f732e-8766-4110-f0f5-61134236f29f"
   },
   "outputs": [],
   "source": [
    "from sklearn.metrics import confusion_matrix, accuracy_score, ConfusionMatrixDisplay, roc_auc_score\r\n",
    "\r\n",
    "y_pred2 = classifier2.predict(X_test)\r\n",
    "\r\n",
    "cm = confusion_matrix(y_test, y_pred2)\r\n",
    "print(cm)\r\n",
    "print(\"accuracy_score :\", accuracy_score(y_test, y_pred2))\r\n",
    "print(\"roc_auc_score :\", roc_auc_score(y_test, y_pred2))\r\n",
    "cmd = ConfusionMatrixDisplay(confusion_matrix=cm, display_labels=['No','Yes'])\r\n",
    "cmd.plot()"
   ]
  },
  {
   "cell_type": "markdown",
   "metadata": {
    "application/vnd.databricks.v1+cell": {
     "cellMetadata": {},
     "inputWidgets": {},
     "nuid": "2b8639f6-2b26-4114-b32b-1f2b8d866dd5",
     "showTitle": false,
     "title": ""
    },
    "id": "6UkZ5niAvjvc"
   },
   "source": [
    "## Visualizing the ROC curve"
   ]
  },
  {
   "cell_type": "markdown",
   "metadata": {
    "application/vnd.databricks.v1+cell": {
     "cellMetadata": {},
     "inputWidgets": {},
     "nuid": "e1297ed3-8d44-46e4-bfc0-6f469d44eeb0",
     "showTitle": false,
     "title": ""
    },
    "id": "wdwz1yTmYmGg"
   },
   "source": [
    "### หากดูเส้นกราฟนี้แล้วจะสามารถพิจารณาได้ว่าผลการทำนายของเรานั้นดีแค่ไหนโดยทั่วไปจะถือว่าหากกราฟยิ่ง ชิดด้านบนมากก็ยิ่งแปลว่าทำนายได้ดี แต่หากกราฟเป็นเส้นตรงจะแสดงว่าไม่ดี กราฟชิดด้านบนมากหมายความว่าพื้นที่ใต้กราฟมาก ค่าพื้นที่ใต้กราฟ ROC นี้ถูกเรียกว่า AUC (area under curve)"
   ]
  },
  {
   "cell_type": "code",
   "execution_count": 0,
   "metadata": {
    "application/vnd.databricks.v1+cell": {
     "cellMetadata": {},
     "inputWidgets": {},
     "nuid": "9626a855-ecf9-4a9c-981b-731a5bf39e76",
     "showTitle": false,
     "title": ""
    },
    "colab": {
     "base_uri": "https://localhost:8080/",
     "height": 295
    },
    "executionInfo": {
     "elapsed": 1679,
     "status": "ok",
     "timestamp": 1608830143314,
     "user": {
      "displayName": "Tanabut Taksinavongskul",
      "photoUrl": "https://lh3.googleusercontent.com/a-/AOh14GjdeYgguREkhXj0QQyf-Dk6Ab4ckWW-o7LRRp-S=s64",
      "userId": "14729062160457571427"
     },
     "user_tz": -420
    },
    "id": "fNixuRkxvX1Z",
    "outputId": "54764ad9-22e9-412b-aaa3-0e7b912f1040"
   },
   "outputs": [],
   "source": [
    "from sklearn.metrics import roc_curve\r\n",
    "\r\n",
    "pred_prob2 = classifier2.predict_proba(X_test)\r\n",
    "\r\n",
    "fpr12, tpr12, thresh12 = roc_curve(y_test, pred_prob2[:,1], pos_label=1)\r\n",
    "\r\n",
    "# roc curve for tpr = fpr \r\n",
    "random_probs2 = [0 for i in range(len(y_test))]\r\n",
    "p_fpr2, p_tpr2, _ = roc_curve(y_test, random_probs2, pos_label=1)\r\n",
    "\r\n",
    "\r\n",
    "# plot roc curves\r\n",
    "plt.plot(fpr12, tpr12, linestyle='--',color='orange', label='Logistic Regression')\r\n",
    "plt.plot(p_fpr2, p_tpr2, linestyle='--', color='blue', label='Random prob')\r\n",
    "\r\n",
    "plt.title('ROC curve')\r\n",
    "plt.xlabel('False Positive Rate')\r\n",
    "plt.ylabel('True Positive rate')\r\n",
    "plt.legend(loc='best')\r\n",
    "plt.savefig('classification ROC',dpi=300);   "
   ]
  },
  {
   "cell_type": "markdown",
   "metadata": {
    "application/vnd.databricks.v1+cell": {
     "cellMetadata": {},
     "inputWidgets": {},
     "nuid": "1b5eaf5c-211b-45b5-8b3a-dd7d32ffb368",
     "showTitle": false,
     "title": ""
    },
    "id": "plvocDpEw8fi"
   },
   "source": [
    "ตัวโมเดล roc_auc ทำได้ดีที่สุดตาม best_parameters ที่ได้ปรับจูนแล้ว"
   ]
  },
  {
   "cell_type": "markdown",
   "metadata": {
    "application/vnd.databricks.v1+cell": {
     "cellMetadata": {},
     "inputWidgets": {},
     "nuid": "80bfa05d-a451-413b-b275-0408b1330a5c",
     "showTitle": false,
     "title": ""
    },
    "id": "6Nl4YYTpySJ-"
   },
   "source": [
    "# ประโยชน์จากจุดมุ่งหมายข้างบน และ finding ที่ได้จากข้อมูลการปฏิบัติหน้าที่ของตำรวจใน Rhode Island State"
   ]
  },
  {
   "cell_type": "markdown",
   "metadata": {
    "application/vnd.databricks.v1+cell": {
     "cellMetadata": {},
     "inputWidgets": {},
     "nuid": "6ee41985-bcfe-4a5a-a937-95620d89bb3e",
     "showTitle": false,
     "title": ""
    },
    "id": "Epgj4kc9zRVT"
   },
   "source": [
    "จากทั้งสองภาคที่ผ่านมา จะพบว่าคนขับที่เป็นคนผิวดำและคนเชื้อสายละตินนั้น\r\n",
    "จะโดนใบสั่ง ถูกค้นตัว ถูกตรวจค้นยานพาหนะ\r\n",
    "และนำไปสู่การจับกุมมากกว่าคนขับที่เป็นคนผิวขาว\r\n",
    "ดังเช่นการเรียกตรวจจากการฝ่าฝืนความเร็วนั้น\r\n",
    "คนขับที่เป็นคนผิวดำจะโดนเขียนใบสั่งมากกว่า 20% ของคนผิวขาว\r\n",
    "และเป็นคนขับเชื้อสายละตินก็จะโดนเขียนใบสั่งมากกว่า 30 %\r\n",
    "ของคนผิวขาวในข้อหาฝ่าฝืนความเร็ว\r\n",
    "และเป็นเช่นเดียวกัน การตรวจค้นตัวและตรวจค้นยานพาหนะ ทั้งนี้\r\n",
    "จากการวิเคราะห์เพื่อหาคำตอบว่า\r\n",
    "การตรวจค้นที่เกิดขึ้นนั้นเกิดจากความมีพิรุธขนาดไหน\r\n",
    "และพื้นฐานก็ความน่าสงสัยเกี่ยวโยงกับ\r\n",
    "เชื้อชาติและลักษณะของคนขับอย่างไรได้บ้าง\r\n",
    "คำตอบก็คือ คนผิวดำ จะโดนตรวจค้นตัวและยานพาหนะ ด้วยความอคติ โดยที่\r\n",
    "baseline ความน่าสงสัยและหลักฐานอ้างอิงอันน้อยนิดเมื่อเทียบกับคนผิวขาวทั่วไป\r\n",
    "ส่วนอัตราการตรวจค้นจากเชื้อชาติที่มีอิทธิพลในการอคติทำให้อัตราการค้นพ้นสิ่งผิ\r\n",
    "ดกฏหมายก็มากขึ้นด้วย\r\n",
    "ซึ่งไม่ได้หมายความว่าสิ่งที่ผิดกฏหมายจะอยู่กับคนผิวดำเป็นอัตราส่วนมากกว่า\r\n",
    "เพียงแต่ว่าอัตราการตรวจค้นที่กระทำต่อคนผิวขาวนั้นน้อยกว่า จากตรงนี้\r\n",
    "ข้อมูลทำให้เราเห็นได้ชัดเจนว่า\r\n",
    "สองมาตรฐานในการปฏิบัติงานของตำรวจนั้นมีอยู่จริง"
   ]
  },
  {
   "cell_type": "markdown",
   "metadata": {
    "application/vnd.databricks.v1+cell": {
     "cellMetadata": {},
     "inputWidgets": {},
     "nuid": "1bf2fe3b-b700-454c-bf67-7834d6799c6d",
     "showTitle": false,
     "title": ""
    },
    "id": "lCDQt8S0OYS5"
   },
   "source": [
    "## จากจุดมุ่งหมายของ classification model นี้"
   ]
  },
  {
   "cell_type": "markdown",
   "metadata": {
    "application/vnd.databricks.v1+cell": {
     "cellMetadata": {},
     "inputWidgets": {},
     "nuid": "f5f8d37f-bcdb-43c9-b8a5-f94aa9e7d644",
     "showTitle": false,
     "title": ""
    },
    "id": "n0YrbkHzN9Rg"
   },
   "source": [
    "### 1.ถ้านำไปใช้ที่ผิดศีลธรรม ทำให้ผู้ที่ต้องการกระทำผิดกฎหมายสามารถเลือกใช้ Transporter ตามประเภท, ลักษณะ, เชื้อชาติ, เพศแบบไหนที่จะสามารถหลีกเลี่ยงการจับกุม หลีกเลี่ยงการถูกตรวจค้น หรือแม้กระทั่งหลีกเลียงการฝ่าฝืนกฏจราจรให้ได้มากที่สุด เพื่อลดความเสี่ยงที่จะทำให้เกิดการถูกตรวจค้นหรือโดนค้นหาสิ่งผิดกฎหมายในยานพาหนะในที่สุุด\r\n",
    "\r\n",
    "### 2.นำไปใช้เพื่อให้เกิดประโยชน์ และเพิ่มประสิทธิภาพการทำงานของตำรวจ ทำให้ตำรวจไม่เกิด Bias หรืออคติต่อกลุ่มบุคคลใดกลุ่มบุคคลหนึ่งมากเกินไป และไม่ปล่อยปะละเลยกับอีกกลุ่มบุคคลหนึ่ง ปฏิบัติอย่างเท่าเทียมกันต่อทุกๆคน โดยไม่คำนึงถึงเชื้อชาติ เพศ อายุุ ทำให้ภาพลักษณ์ในการปฏิบัติหน้าที่ของตำรวจมีความยุติธรรม โปร่งใสและรอบคอบมากยิ่งขึ้น ซึ่งอาจจะทำให้ได้รับความร่วมมือจากประชาชนเป็นอย่างดีในการสืบสวน สอบสวน หรือการให้ข้อมูลที่เป็นประโยชน์กับตำรวจในการปฏิบัติหน้าที่ต่อไป"
   ]
  },
  {
   "cell_type": "code",
   "execution_count": 0,
   "metadata": {
    "application/vnd.databricks.v1+cell": {
     "cellMetadata": {},
     "inputWidgets": {},
     "nuid": "ebd9db18-3522-4984-b52f-f6226e373705",
     "showTitle": false,
     "title": ""
    },
    "id": "u5siDuqPNiFK"
   },
   "outputs": [],
   "source": []
  }
 ],
 "metadata": {
  "accelerator": "GPU",
  "application/vnd.databricks.v1+notebook": {
   "dashboards": [],
   "language": "python",
   "notebookMetadata": {},
   "notebookName": "RIpolice_classifier_model",
   "widgets": {}
  },
  "colab": {
   "collapsed_sections": [],
   "machine_shape": "hm",
   "name": "RIpolice_classifier_model.ipynb",
   "provenance": [
    {
     "file_id": "1ihKQDRJnbS7nYoQqPMH35X0Km_Gouzif",
     "timestamp": 1608905862991
    },
    {
     "file_id": "1WLjptsaZ3AMrT6Y6bjXdP93E9kUgAIsJ",
     "timestamp": 1608714686733
    }
   ]
  },
  "kernelspec": {
   "display_name": "Python 3",
   "name": "python3"
  }
 },
 "nbformat": 4,
 "nbformat_minor": 0
}
